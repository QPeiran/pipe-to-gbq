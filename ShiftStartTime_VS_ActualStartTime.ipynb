{
 "metadata": {
  "language_info": {
   "codemirror_mode": {
    "name": "ipython",
    "version": 3
   },
   "file_extension": ".py",
   "mimetype": "text/x-python",
   "name": "python",
   "nbconvert_exporter": "python",
   "pygments_lexer": "ipython3",
   "version": "3.8.3-final"
  },
  "orig_nbformat": 2,
  "kernelspec": {
   "name": "python38364bitgbqenvconda5076e19de0394e84b989fb80c83f72da",
   "display_name": "Python 3.8.3 64-bit ('gbq-env': conda)"
  }
 },
 "nbformat": 4,
 "nbformat_minor": 2,
 "cells": [
  {
   "cell_type": "code",
   "execution_count": 1,
   "metadata": {},
   "outputs": [],
   "source": [
    "from google.cloud import bigquery\n",
    "from google.oauth2 import service_account\n",
    "key_path = \"./creds/service_acc_auth.json\"\n",
    "credentials = service_account.Credentials.from_service_account_file(key_path, scopes = [\"https://www.googleapis.com/auth/cloud-platform\"])\n",
    "bigquery_client = bigquery.Client(credentials=credentials, project=credentials.project_id)"
   ]
  },
  {
   "cell_type": "code",
   "execution_count": 2,
   "metadata": {},
   "outputs": [],
   "source": [
    "# query new data\n",
    "past_3_weeks = \"\"\"\n",
    "SELECT * , \n",
    "FROM `scanning-database.scanning_data_backup.W35`\n",
    "UNION ALL\n",
    "SELECT * , \n",
    "FROM `scanning-database.scanning_data_backup.W36`\n",
    "UNION ALL\n",
    "SELECT * , \n",
    "FROM `scanning-database.scanning_data_backup.W37`\n",
    "\"\"\""
   ]
  },
  {
   "cell_type": "code",
   "execution_count": 3,
   "metadata": {},
   "outputs": [],
   "source": [
    "# Overwriting old PowerBI source data\n",
    "job_config = bigquery.QueryJobConfig(maximum_bytes_billed=10**10) # set query limit to 10G\n",
    "query_job = bigquery_client.query(past_3_weeks, job_config)  # API request\n",
    "rows = query_job.result()  # Waits for query to finish\n",
    "df_p_3 = rows.to_dataframe()"
   ]
  },
  {
   "cell_type": "code",
   "execution_count": 4,
   "metadata": {},
   "outputs": [
    {
     "output_type": "execute_result",
     "data": {
      "text/plain": "                     Start_Time               Finish_Time Activity Seq_Code  \\\n0     2020-08-27 08:57:45+00:00 2020-08-27 08:58:12+00:00      TBD     None   \n1     2020-08-27 13:18:22+00:00 2020-08-27 13:18:40+00:00      TBD     None   \n2     2020-08-28 15:10:17+00:00 2020-08-28 15:11:20+00:00      TBD     None   \n3     2020-08-29 15:38:22+00:00 2020-08-29 15:42:01+00:00      TBD     None   \n4     2020-08-31 11:26:16+00:00 2020-08-31 11:26:40+00:00      TBD     None   \n...                         ...                       ...      ...      ...   \n25281 2020-08-20 13:10:50+00:00 2020-08-20 13:12:52+00:00    Break     None   \n25282 2020-08-20 14:56:46+00:00 2020-08-20 18:42:44+00:00    Break     None   \n25283 2020-08-21 18:50:19+00:00 2020-08-22 06:51:09+00:00    Break     None   \n25284 2020-08-22 18:06:19+00:00 2020-08-23 16:19:35+00:00    Break     None   \n25285 2020-08-24 06:39:27+00:00 2020-08-24 09:48:51+00:00    Break     None   \n\n      Recipe_Name       Break_Reasons Missing_Ingredients Kitting_Line  \\\n0              L2                None                None          KL1   \n1              L2                None                None          KL1   \n2              L2                None                None          KL1   \n3              L4                None                None          KL1   \n4              L4                None                None          KL1   \n...           ...                 ...                 ...          ...   \n25281          O2  move to other line                None         KL20   \n25282          SG  move to other line                None         KL20   \n25283          SG  move to other line                None         KL20   \n25284          O4  move to other line                None         KL20   \n25285          SG  move to other line                None         KL20   \n\n      Assembly_Batch         Event_Shift            Team_Leader  \\\n0               None    Thursday Morning  iXUsr_Strzeletz(6101)   \n1               None    Thursday Morning     iXUsr_Pontoh(6763)   \n2               None    Friday Afternoon     iXUsr_Ushida(8909)   \n3               None  Saturday Afternoon       iXUsr_Ayob(9830)   \n4               None      Monday Morning     iXUsr_Normie(7460)   \n...              ...                 ...                    ...   \n25281           None    Thursday Morning                 Dummy;   \n25282           None  Thursday Afternoon       iXUsr_Good(8522)   \n25283           None    Saturday Morning   iXUsr_Thumlert(8509)   \n25284           None    Sunday Afternoon       iXUsr_Zhou(9355)   \n25285           None      Monday Morning       iXUsr_Nohe(8504)   \n\n       Pickers_Count  Time_Consumption     Week  \n0                  3              0.45  2020-36  \n1                  1              0.30  2020-36  \n2                  3              1.05  2020-36  \n3                  2              3.65  2020-36  \n4                  2              0.40  2020-36  \n...              ...               ...      ...  \n25281              4              2.03  2020-35  \n25282              3            225.97  2020-35  \n25283              2            720.83  2020-35  \n25284              3           1333.27  2020-35  \n25285              2            189.40  2020-35  \n\n[25286 rows x 14 columns]",
      "text/html": "<div>\n<style scoped>\n    .dataframe tbody tr th:only-of-type {\n        vertical-align: middle;\n    }\n\n    .dataframe tbody tr th {\n        vertical-align: top;\n    }\n\n    .dataframe thead th {\n        text-align: right;\n    }\n</style>\n<table border=\"1\" class=\"dataframe\">\n  <thead>\n    <tr style=\"text-align: right;\">\n      <th></th>\n      <th>Start_Time</th>\n      <th>Finish_Time</th>\n      <th>Activity</th>\n      <th>Seq_Code</th>\n      <th>Recipe_Name</th>\n      <th>Break_Reasons</th>\n      <th>Missing_Ingredients</th>\n      <th>Kitting_Line</th>\n      <th>Assembly_Batch</th>\n      <th>Event_Shift</th>\n      <th>Team_Leader</th>\n      <th>Pickers_Count</th>\n      <th>Time_Consumption</th>\n      <th>Week</th>\n    </tr>\n  </thead>\n  <tbody>\n    <tr>\n      <th>0</th>\n      <td>2020-08-27 08:57:45+00:00</td>\n      <td>2020-08-27 08:58:12+00:00</td>\n      <td>TBD</td>\n      <td>None</td>\n      <td>L2</td>\n      <td>None</td>\n      <td>None</td>\n      <td>KL1</td>\n      <td>None</td>\n      <td>Thursday Morning</td>\n      <td>iXUsr_Strzeletz(6101)</td>\n      <td>3</td>\n      <td>0.45</td>\n      <td>2020-36</td>\n    </tr>\n    <tr>\n      <th>1</th>\n      <td>2020-08-27 13:18:22+00:00</td>\n      <td>2020-08-27 13:18:40+00:00</td>\n      <td>TBD</td>\n      <td>None</td>\n      <td>L2</td>\n      <td>None</td>\n      <td>None</td>\n      <td>KL1</td>\n      <td>None</td>\n      <td>Thursday Morning</td>\n      <td>iXUsr_Pontoh(6763)</td>\n      <td>1</td>\n      <td>0.30</td>\n      <td>2020-36</td>\n    </tr>\n    <tr>\n      <th>2</th>\n      <td>2020-08-28 15:10:17+00:00</td>\n      <td>2020-08-28 15:11:20+00:00</td>\n      <td>TBD</td>\n      <td>None</td>\n      <td>L2</td>\n      <td>None</td>\n      <td>None</td>\n      <td>KL1</td>\n      <td>None</td>\n      <td>Friday Afternoon</td>\n      <td>iXUsr_Ushida(8909)</td>\n      <td>3</td>\n      <td>1.05</td>\n      <td>2020-36</td>\n    </tr>\n    <tr>\n      <th>3</th>\n      <td>2020-08-29 15:38:22+00:00</td>\n      <td>2020-08-29 15:42:01+00:00</td>\n      <td>TBD</td>\n      <td>None</td>\n      <td>L4</td>\n      <td>None</td>\n      <td>None</td>\n      <td>KL1</td>\n      <td>None</td>\n      <td>Saturday Afternoon</td>\n      <td>iXUsr_Ayob(9830)</td>\n      <td>2</td>\n      <td>3.65</td>\n      <td>2020-36</td>\n    </tr>\n    <tr>\n      <th>4</th>\n      <td>2020-08-31 11:26:16+00:00</td>\n      <td>2020-08-31 11:26:40+00:00</td>\n      <td>TBD</td>\n      <td>None</td>\n      <td>L4</td>\n      <td>None</td>\n      <td>None</td>\n      <td>KL1</td>\n      <td>None</td>\n      <td>Monday Morning</td>\n      <td>iXUsr_Normie(7460)</td>\n      <td>2</td>\n      <td>0.40</td>\n      <td>2020-36</td>\n    </tr>\n    <tr>\n      <th>...</th>\n      <td>...</td>\n      <td>...</td>\n      <td>...</td>\n      <td>...</td>\n      <td>...</td>\n      <td>...</td>\n      <td>...</td>\n      <td>...</td>\n      <td>...</td>\n      <td>...</td>\n      <td>...</td>\n      <td>...</td>\n      <td>...</td>\n      <td>...</td>\n    </tr>\n    <tr>\n      <th>25281</th>\n      <td>2020-08-20 13:10:50+00:00</td>\n      <td>2020-08-20 13:12:52+00:00</td>\n      <td>Break</td>\n      <td>None</td>\n      <td>O2</td>\n      <td>move to other line</td>\n      <td>None</td>\n      <td>KL20</td>\n      <td>None</td>\n      <td>Thursday Morning</td>\n      <td>Dummy;</td>\n      <td>4</td>\n      <td>2.03</td>\n      <td>2020-35</td>\n    </tr>\n    <tr>\n      <th>25282</th>\n      <td>2020-08-20 14:56:46+00:00</td>\n      <td>2020-08-20 18:42:44+00:00</td>\n      <td>Break</td>\n      <td>None</td>\n      <td>SG</td>\n      <td>move to other line</td>\n      <td>None</td>\n      <td>KL20</td>\n      <td>None</td>\n      <td>Thursday Afternoon</td>\n      <td>iXUsr_Good(8522)</td>\n      <td>3</td>\n      <td>225.97</td>\n      <td>2020-35</td>\n    </tr>\n    <tr>\n      <th>25283</th>\n      <td>2020-08-21 18:50:19+00:00</td>\n      <td>2020-08-22 06:51:09+00:00</td>\n      <td>Break</td>\n      <td>None</td>\n      <td>SG</td>\n      <td>move to other line</td>\n      <td>None</td>\n      <td>KL20</td>\n      <td>None</td>\n      <td>Saturday Morning</td>\n      <td>iXUsr_Thumlert(8509)</td>\n      <td>2</td>\n      <td>720.83</td>\n      <td>2020-35</td>\n    </tr>\n    <tr>\n      <th>25284</th>\n      <td>2020-08-22 18:06:19+00:00</td>\n      <td>2020-08-23 16:19:35+00:00</td>\n      <td>Break</td>\n      <td>None</td>\n      <td>O4</td>\n      <td>move to other line</td>\n      <td>None</td>\n      <td>KL20</td>\n      <td>None</td>\n      <td>Sunday Afternoon</td>\n      <td>iXUsr_Zhou(9355)</td>\n      <td>3</td>\n      <td>1333.27</td>\n      <td>2020-35</td>\n    </tr>\n    <tr>\n      <th>25285</th>\n      <td>2020-08-24 06:39:27+00:00</td>\n      <td>2020-08-24 09:48:51+00:00</td>\n      <td>Break</td>\n      <td>None</td>\n      <td>SG</td>\n      <td>move to other line</td>\n      <td>None</td>\n      <td>KL20</td>\n      <td>None</td>\n      <td>Monday Morning</td>\n      <td>iXUsr_Nohe(8504)</td>\n      <td>2</td>\n      <td>189.40</td>\n      <td>2020-35</td>\n    </tr>\n  </tbody>\n</table>\n<p>25286 rows × 14 columns</p>\n</div>"
     },
     "metadata": {},
     "execution_count": 4
    }
   ],
   "source": [
    "df_p_3 ## past 3 weeks"
   ]
  },
  {
   "cell_type": "code",
   "execution_count": 5,
   "metadata": {},
   "outputs": [],
   "source": [
    "import datetime as dt\n",
    "import pandas as pd"
   ]
  },
  {
   "cell_type": "code",
   "execution_count": 6,
   "metadata": {},
   "outputs": [],
   "source": [
    "# actual_start_time = test_group.sort_values([\"Finish_Time\"]).iloc[0]['Finish_Time'].tz_localize(None)\n",
    "# current_date = dt.datetime.date(actual_start_time)\n",
    "# morning_time = dt.time(6, 5) # morning shift suppose to start at 6:05 \n",
    "# shift_start_time = dt.datetime.combine(current_date, morning_time)"
   ]
  },
  {
   "cell_type": "code",
   "execution_count": 7,
   "metadata": {
    "tags": []
   },
   "outputs": [],
   "source": [
    "# (actual_start_time - shift_start_time).seconds / 60"
   ]
  },
  {
   "cell_type": "code",
   "execution_count": 8,
   "metadata": {},
   "outputs": [],
   "source": [
    "# index_and_sort = test_group.set_index('Finish_Time').sort_index()\n",
    "# current_date = dt.datetime.date(index_and_sort.index[0])\n",
    "# morning_time = dt.time(14, 0)\n",
    "# shift_start_time = dt.datetime.combine(current_date, morning_time)\n",
    "# print(shift_start_time)\n",
    "# index_and_sort.index.get_loc(shift_start_time, method='nearest')"
   ]
  },
  {
   "cell_type": "code",
   "execution_count": 9,
   "metadata": {},
   "outputs": [],
   "source": [
    "def find_start_time(grouped_df):\n",
    "    week_day = grouped_df['Event_Shift'].str.split().iloc[0][0]\n",
    "    shift = grouped_df['Event_Shift'].str.split().iloc[0][1]\n",
    "    first_event = grouped_df.sort_values([\"Finish_Time\"]).iloc[0]\n",
    "    actual_start_time = first_event['Finish_Time'].tz_localize(None)\n",
    "    current_date = dt.datetime.date(actual_start_time)\n",
    "    morning_time = dt.time(6, 0) # morning shift suppose to start at 6:05 \n",
    "    afternoon_time = dt.time(14, 15) # afternoon shift start at 14:10\n",
    "    wed_time = dt.time(12, 0) # Wednesday shift suppose to start at 12:00 \n",
    "    if week_day in ['Thursday', 'Friday', 'Saturday', 'Sunday']:\n",
    "        if (shift == \"Afternoon\"):\n",
    "            shift_start_time = dt.datetime.combine(current_date, afternoon_time)\n",
    "            lateness = (actual_start_time - shift_start_time).seconds / 60\n",
    "\n",
    "        elif (shift == \"Morning\"):\n",
    "            shift_start_time = dt.datetime.combine(current_date, morning_time)\n",
    "            lateness = (actual_start_time - shift_start_time).seconds / 60\n",
    "        else:\n",
    "            raise Exception(\"Oops, Event_Shift Error!\")\n",
    "\n",
    "    elif week_day in ['Monday']:\n",
    "        shift_start_time = dt.datetime.combine(current_date, morning_time)\n",
    "        lateness = (actual_start_time - shift_start_time).seconds / 60\n",
    "\n",
    "    elif week_day in ['Wednesday']:\n",
    "        shift_start_time = dt.datetime.combine(current_date, wed_time)\n",
    "        lateness = (actual_start_time - shift_start_time).seconds / 60        \n",
    "\n",
    "\n",
    "    return (lateness if (lateness < 30) else 'not on kitting at the production begin')\n"
   ]
  },
  {
   "cell_type": "code",
   "execution_count": 10,
   "metadata": {
    "tags": []
   },
   "outputs": [],
   "source": [
    "df_lateness = pd.DataFrame( {'lateness': df_p_3.groupby([\"Week\", \"Team_Leader\", \"Event_Shift\"]).apply(find_start_time)})"
   ]
  },
  {
   "cell_type": "code",
   "execution_count": 11,
   "metadata": {},
   "outputs": [
    {
     "output_type": "execute_result",
     "data": {
      "text/plain": "                                                                             lateness\nWeek    Team_Leader       Event_Shift                                                \n2020-35 Bayu Agus Alfian  Sunday Morning                                      20.4667\n                          Thursday Morning                                    11.7167\n        Dummy             Saturday Afternoon   not on kitting at the production begin\n                          Sunday Afternoon     not on kitting at the production begin\n        Dummy;            Friday Morning       not on kitting at the production begin\n...                                                                               ...\n2020-37 iXUsr_Yuhan(8855) Friday Afternoon                                    15.4167\n                          Saturday Afternoon                                      9.9\n                          Thursday Afternoon                                  21.6667\n                          Wednesday Afternoon  not on kitting at the production begin\n                          Wednesday Morning                                   24.3667\n\n[379 rows x 1 columns]",
      "text/html": "<div>\n<style scoped>\n    .dataframe tbody tr th:only-of-type {\n        vertical-align: middle;\n    }\n\n    .dataframe tbody tr th {\n        vertical-align: top;\n    }\n\n    .dataframe thead th {\n        text-align: right;\n    }\n</style>\n<table border=\"1\" class=\"dataframe\">\n  <thead>\n    <tr style=\"text-align: right;\">\n      <th></th>\n      <th></th>\n      <th></th>\n      <th>lateness</th>\n    </tr>\n    <tr>\n      <th>Week</th>\n      <th>Team_Leader</th>\n      <th>Event_Shift</th>\n      <th></th>\n    </tr>\n  </thead>\n  <tbody>\n    <tr>\n      <th rowspan=\"5\" valign=\"top\">2020-35</th>\n      <th rowspan=\"2\" valign=\"top\">Bayu Agus Alfian</th>\n      <th>Sunday Morning</th>\n      <td>20.4667</td>\n    </tr>\n    <tr>\n      <th>Thursday Morning</th>\n      <td>11.7167</td>\n    </tr>\n    <tr>\n      <th rowspan=\"2\" valign=\"top\">Dummy</th>\n      <th>Saturday Afternoon</th>\n      <td>not on kitting at the production begin</td>\n    </tr>\n    <tr>\n      <th>Sunday Afternoon</th>\n      <td>not on kitting at the production begin</td>\n    </tr>\n    <tr>\n      <th>Dummy;</th>\n      <th>Friday Morning</th>\n      <td>not on kitting at the production begin</td>\n    </tr>\n    <tr>\n      <th>...</th>\n      <th>...</th>\n      <th>...</th>\n      <td>...</td>\n    </tr>\n    <tr>\n      <th rowspan=\"5\" valign=\"top\">2020-37</th>\n      <th rowspan=\"5\" valign=\"top\">iXUsr_Yuhan(8855)</th>\n      <th>Friday Afternoon</th>\n      <td>15.4167</td>\n    </tr>\n    <tr>\n      <th>Saturday Afternoon</th>\n      <td>9.9</td>\n    </tr>\n    <tr>\n      <th>Thursday Afternoon</th>\n      <td>21.6667</td>\n    </tr>\n    <tr>\n      <th>Wednesday Afternoon</th>\n      <td>not on kitting at the production begin</td>\n    </tr>\n    <tr>\n      <th>Wednesday Morning</th>\n      <td>24.3667</td>\n    </tr>\n  </tbody>\n</table>\n<p>379 rows × 1 columns</p>\n</div>"
     },
     "metadata": {},
     "execution_count": 11
    }
   ],
   "source": [
    "df_lateness"
   ]
  },
  {
   "cell_type": "code",
   "execution_count": 12,
   "metadata": {},
   "outputs": [
    {
     "output_type": "execute_result",
     "data": {
      "text/plain": "        Week            Team_Leader         Event_Shift lateness\n0    2020-35       Bayu Agus Alfian      Sunday Morning  20.4667\n1    2020-35       Bayu Agus Alfian    Thursday Morning  11.7167\n2    2020-35     JAMES RAY ALAY-AY;    Friday Afternoon  12.6667\n3    2020-35     JAMES RAY ALAY-AY;    Sunday Afternoon  12.2167\n4    2020-35     James Ray Alay-ay;  Thursday Afternoon     12.6\n..       ...                    ...                 ...      ...\n273  2020-37  iXUsr_Ye'Rafael(8520)   Wednesday Morning  13.0333\n274  2020-37      iXUsr_Yuhan(8855)    Friday Afternoon  15.4167\n275  2020-37      iXUsr_Yuhan(8855)  Saturday Afternoon      9.9\n276  2020-37      iXUsr_Yuhan(8855)  Thursday Afternoon  21.6667\n277  2020-37      iXUsr_Yuhan(8855)   Wednesday Morning  24.3667\n\n[278 rows x 4 columns]",
      "text/html": "<div>\n<style scoped>\n    .dataframe tbody tr th:only-of-type {\n        vertical-align: middle;\n    }\n\n    .dataframe tbody tr th {\n        vertical-align: top;\n    }\n\n    .dataframe thead th {\n        text-align: right;\n    }\n</style>\n<table border=\"1\" class=\"dataframe\">\n  <thead>\n    <tr style=\"text-align: right;\">\n      <th></th>\n      <th>Week</th>\n      <th>Team_Leader</th>\n      <th>Event_Shift</th>\n      <th>lateness</th>\n    </tr>\n  </thead>\n  <tbody>\n    <tr>\n      <th>0</th>\n      <td>2020-35</td>\n      <td>Bayu Agus Alfian</td>\n      <td>Sunday Morning</td>\n      <td>20.4667</td>\n    </tr>\n    <tr>\n      <th>1</th>\n      <td>2020-35</td>\n      <td>Bayu Agus Alfian</td>\n      <td>Thursday Morning</td>\n      <td>11.7167</td>\n    </tr>\n    <tr>\n      <th>2</th>\n      <td>2020-35</td>\n      <td>JAMES RAY ALAY-AY;</td>\n      <td>Friday Afternoon</td>\n      <td>12.6667</td>\n    </tr>\n    <tr>\n      <th>3</th>\n      <td>2020-35</td>\n      <td>JAMES RAY ALAY-AY;</td>\n      <td>Sunday Afternoon</td>\n      <td>12.2167</td>\n    </tr>\n    <tr>\n      <th>4</th>\n      <td>2020-35</td>\n      <td>James Ray Alay-ay;</td>\n      <td>Thursday Afternoon</td>\n      <td>12.6</td>\n    </tr>\n    <tr>\n      <th>...</th>\n      <td>...</td>\n      <td>...</td>\n      <td>...</td>\n      <td>...</td>\n    </tr>\n    <tr>\n      <th>273</th>\n      <td>2020-37</td>\n      <td>iXUsr_Ye'Rafael(8520)</td>\n      <td>Wednesday Morning</td>\n      <td>13.0333</td>\n    </tr>\n    <tr>\n      <th>274</th>\n      <td>2020-37</td>\n      <td>iXUsr_Yuhan(8855)</td>\n      <td>Friday Afternoon</td>\n      <td>15.4167</td>\n    </tr>\n    <tr>\n      <th>275</th>\n      <td>2020-37</td>\n      <td>iXUsr_Yuhan(8855)</td>\n      <td>Saturday Afternoon</td>\n      <td>9.9</td>\n    </tr>\n    <tr>\n      <th>276</th>\n      <td>2020-37</td>\n      <td>iXUsr_Yuhan(8855)</td>\n      <td>Thursday Afternoon</td>\n      <td>21.6667</td>\n    </tr>\n    <tr>\n      <th>277</th>\n      <td>2020-37</td>\n      <td>iXUsr_Yuhan(8855)</td>\n      <td>Wednesday Morning</td>\n      <td>24.3667</td>\n    </tr>\n  </tbody>\n</table>\n<p>278 rows × 4 columns</p>\n</div>"
     },
     "metadata": {},
     "execution_count": 12
    }
   ],
   "source": [
    "df_new = df_lateness[df_lateness['lateness'] != \"not on kitting at the production begin\"].reset_index()\n",
    "df_new"
   ]
  },
  {
   "cell_type": "code",
   "execution_count": 13,
   "metadata": {},
   "outputs": [],
   "source": [
    "df_new.replace({'Wednesday Morning': 'Wednesday', 'Monday Morning': 'Monday'}, inplace = True)"
   ]
  },
  {
   "cell_type": "code",
   "execution_count": 14,
   "metadata": {},
   "outputs": [],
   "source": [
    "df_new.to_excel(\"Week_37.xlsx\", sheet_name = 'Week 37', index = False) \n",
    "df_lateness.to_excel(\"Past_3_weeks.xlsx\", sheet_name = 'past 3 weeks') "
   ]
  },
  {
   "cell_type": "code",
   "execution_count": 15,
   "metadata": {
    "tags": []
   },
   "outputs": [
    {
     "output_type": "execute_result",
     "data": {
      "text/plain": "               Team_Leader         Event_Shift   lateness\n187                   BAYU    Sunday Afternoon   4.366667\n188                   BAYU      Sunday Morning  21.616667\n189       Bayu Agus Alfian    Thursday Morning  11.250000\n190     JAMES RAY ALAY-AY;    Friday Afternoon  22.133333\n191     JAMES RAY ALAY-AY;  Saturday Afternoon  17.066667\n..                     ...                 ...        ...\n273  iXUsr_Ye'Rafael(8520)           Wednesday  13.033333\n274      iXUsr_Yuhan(8855)    Friday Afternoon  15.416667\n275      iXUsr_Yuhan(8855)  Saturday Afternoon   9.900000\n276      iXUsr_Yuhan(8855)  Thursday Afternoon  21.666667\n277      iXUsr_Yuhan(8855)           Wednesday  24.366667\n\n[91 rows x 3 columns]",
      "text/html": "<div>\n<style scoped>\n    .dataframe tbody tr th:only-of-type {\n        vertical-align: middle;\n    }\n\n    .dataframe tbody tr th {\n        vertical-align: top;\n    }\n\n    .dataframe thead th {\n        text-align: right;\n    }\n</style>\n<table border=\"1\" class=\"dataframe\">\n  <thead>\n    <tr style=\"text-align: right;\">\n      <th></th>\n      <th>Team_Leader</th>\n      <th>Event_Shift</th>\n      <th>lateness</th>\n    </tr>\n  </thead>\n  <tbody>\n    <tr>\n      <th>187</th>\n      <td>BAYU</td>\n      <td>Sunday Afternoon</td>\n      <td>4.366667</td>\n    </tr>\n    <tr>\n      <th>188</th>\n      <td>BAYU</td>\n      <td>Sunday Morning</td>\n      <td>21.616667</td>\n    </tr>\n    <tr>\n      <th>189</th>\n      <td>Bayu Agus Alfian</td>\n      <td>Thursday Morning</td>\n      <td>11.250000</td>\n    </tr>\n    <tr>\n      <th>190</th>\n      <td>JAMES RAY ALAY-AY;</td>\n      <td>Friday Afternoon</td>\n      <td>22.133333</td>\n    </tr>\n    <tr>\n      <th>191</th>\n      <td>JAMES RAY ALAY-AY;</td>\n      <td>Saturday Afternoon</td>\n      <td>17.066667</td>\n    </tr>\n    <tr>\n      <th>...</th>\n      <td>...</td>\n      <td>...</td>\n      <td>...</td>\n    </tr>\n    <tr>\n      <th>273</th>\n      <td>iXUsr_Ye'Rafael(8520)</td>\n      <td>Wednesday</td>\n      <td>13.033333</td>\n    </tr>\n    <tr>\n      <th>274</th>\n      <td>iXUsr_Yuhan(8855)</td>\n      <td>Friday Afternoon</td>\n      <td>15.416667</td>\n    </tr>\n    <tr>\n      <th>275</th>\n      <td>iXUsr_Yuhan(8855)</td>\n      <td>Saturday Afternoon</td>\n      <td>9.900000</td>\n    </tr>\n    <tr>\n      <th>276</th>\n      <td>iXUsr_Yuhan(8855)</td>\n      <td>Thursday Afternoon</td>\n      <td>21.666667</td>\n    </tr>\n    <tr>\n      <th>277</th>\n      <td>iXUsr_Yuhan(8855)</td>\n      <td>Wednesday</td>\n      <td>24.366667</td>\n    </tr>\n  </tbody>\n</table>\n<p>91 rows × 3 columns</p>\n</div>"
     },
     "metadata": {},
     "execution_count": 15
    }
   ],
   "source": [
    "df_W37 = df_new[df_new[\"Week\"] == '2020-37'][[\"Team_Leader\", \"Event_Shift\", 'lateness']]\n",
    "df_W37"
   ]
  },
  {
   "cell_type": "code",
   "execution_count": 25,
   "metadata": {},
   "outputs": [],
   "source": [
    "df_temp1 = df_W37.groupby(\"Team_Leader\").mean()[\"lateness\"]"
   ]
  },
  {
   "cell_type": "code",
   "execution_count": 26,
   "metadata": {},
   "outputs": [],
   "source": [
    "df_temp2 = df_W37.groupby(\"Team_Leader\").count()['Event_Shift']"
   ]
  },
  {
   "cell_type": "code",
   "execution_count": 29,
   "metadata": {},
   "outputs": [],
   "source": [
    "df_out = pd.concat([df_temp1, df_temp2], axis = 1)\n",
    "df_out.to_excel('output.xlsx')"
   ]
  },
  {
   "cell_type": "code",
   "execution_count": null,
   "metadata": {},
   "outputs": [],
   "source": []
  }
 ]
}