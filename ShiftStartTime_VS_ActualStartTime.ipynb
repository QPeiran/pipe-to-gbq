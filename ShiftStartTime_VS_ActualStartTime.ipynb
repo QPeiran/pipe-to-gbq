{
 "metadata": {
  "language_info": {
   "codemirror_mode": {
    "name": "ipython",
    "version": 3
   },
   "file_extension": ".py",
   "mimetype": "text/x-python",
   "name": "python",
   "nbconvert_exporter": "python",
   "pygments_lexer": "ipython3",
   "version": "3.8.3-final"
  },
  "orig_nbformat": 2,
  "kernelspec": {
   "name": "python38364bitgbqenvconda5076e19de0394e84b989fb80c83f72da",
   "display_name": "Python 3.8.3 64-bit ('gbq-env': conda)"
  }
 },
 "nbformat": 4,
 "nbformat_minor": 2,
 "cells": [
  {
   "cell_type": "code",
   "execution_count": 1,
   "metadata": {},
   "outputs": [],
   "source": [
    "from google.cloud import bigquery\n",
    "from google.oauth2 import service_account\n",
    "key_path = \"./creds/service_acc_auth.json\"\n",
    "credentials = service_account.Credentials.from_service_account_file(key_path, scopes = [\"https://www.googleapis.com/auth/cloud-platform\"])\n",
    "bigquery_client = bigquery.Client(credentials=credentials, project=credentials.project_id)"
   ]
  },
  {
   "cell_type": "code",
   "execution_count": 2,
   "metadata": {},
   "outputs": [],
   "source": [
    "# query new data\n",
    "past_2_weeks = \"\"\"\n",
    "SELECT * , \n",
    "FROM `scanning-database.scanning_data_backup.W29`\n",
    "UNION ALL\n",
    "SELECT * , \n",
    "FROM `scanning-database.scanning_data_backup.W30`\n",
    "\"\"\""
   ]
  },
  {
   "cell_type": "code",
   "execution_count": 3,
   "metadata": {},
   "outputs": [],
   "source": [
    "# Overwriting old PowerBI source data\n",
    "job_config = bigquery.QueryJobConfig(maximum_bytes_billed=10**10) # set query limit to 10G\n",
    "query_job = bigquery_client.query(past_2_weeks, job_config)  # API request\n",
    "rows = query_job.result()  # Waits for query to finish\n",
    "df_2930 = rows.to_dataframe()"
   ]
  },
  {
   "cell_type": "code",
   "execution_count": 4,
   "metadata": {},
   "outputs": [
    {
     "output_type": "execute_result",
     "data": {
      "text/plain": "                     Start_Time               Finish_Time Activity Seq_Code  \\\n0     2020-07-11 15:19:00+00:00 2020-07-11 15:29:00+00:00    Break     None   \n1     2020-07-13 13:55:00+00:00 2020-07-13 15:52:00+00:00    Break     None   \n2     2020-07-12 21:49:00+00:00 2020-07-12 22:06:00+00:00    Break     None   \n3     2020-07-10 12:58:00+00:00 2020-07-10 13:07:00+00:00    Break     None   \n4     2020-07-10 14:37:00+00:00 2020-07-10 14:48:00+00:00    Break     None   \n...                         ...                       ...      ...      ...   \n12905 2020-07-17 19:29:41+00:00 2020-07-17 22:08:49+00:00    Break     None   \n12906 2020-07-17 17:35:50+00:00 2020-07-17 18:14:44+00:00    Break     None   \n12907 2020-07-18 20:07:21+00:00 2020-07-18 20:19:45+00:00    Break     None   \n12908 2020-07-18 15:34:50+00:00 2020-07-18 15:43:01+00:00    Break     None   \n12909 2020-07-19 17:32:04+00:00 2020-07-19 17:38:24+00:00    Break     None   \n\n      Recipe_Name        Break_Reasons Missing_Ingredients Kitting_Line  \\\n0              B4  rework previous mks                None          KL1   \n1              B4             clean up                None          KL1   \n2              B4             clean up                None          KL1   \n3              A4           Unselected                None          KL2   \n4              A4           Unselected                None          KL2   \n...           ...                  ...                 ...          ...   \n12905          SF   move to other line                None         KL20   \n12906          B4  rework previous mks                None          KL4   \n12907          G4  rework previous mks                None          KL9   \n12908          B2  rework previous mks                None         KL13   \n12909          T4  rework previous mks                None         KL19   \n\n      Assembly_Batch         Event_Shift              Team_Leader  \\\n0               None  Saturday Afternoon             Melanie Dua;   \n1               None    Monday Afternoon         iXUsr_Chan(8814)   \n2               None    Sunday Afternoon        iXUsr_Chang(8908)   \n3               None      Friday Morning            Eve Yerafael;   \n4               None    Friday Afternoon            Eve Yerafael;   \n...              ...                 ...                      ...   \n12905           None    Friday Afternoon                   Dummy;   \n12906           None    Friday Afternoon             Melanie Dua;   \n12907           None  Saturday Afternoon        iXUsr_Hular(8441)   \n12908           None  Saturday Afternoon             Melanie Dua;   \n12909           None    Sunday Afternoon  iXUsr_Kim Jie Yap 7055;   \n\n       Pickers_Count  Time_Consumption     Week  \n0                  3             10.70  2020-29  \n1                  3            116.87  2020-29  \n2                  3             17.42  2020-29  \n3                  4              9.75  2020-29  \n4                  4             10.98  2020-29  \n...              ...               ...      ...  \n12905              3            159.13  2020-30  \n12906              4             38.90  2020-30  \n12907              3             12.40  2020-30  \n12908              4              8.18  2020-30  \n12909              5              6.33  2020-30  \n\n[12910 rows x 14 columns]",
      "text/html": "<div>\n<style scoped>\n    .dataframe tbody tr th:only-of-type {\n        vertical-align: middle;\n    }\n\n    .dataframe tbody tr th {\n        vertical-align: top;\n    }\n\n    .dataframe thead th {\n        text-align: right;\n    }\n</style>\n<table border=\"1\" class=\"dataframe\">\n  <thead>\n    <tr style=\"text-align: right;\">\n      <th></th>\n      <th>Start_Time</th>\n      <th>Finish_Time</th>\n      <th>Activity</th>\n      <th>Seq_Code</th>\n      <th>Recipe_Name</th>\n      <th>Break_Reasons</th>\n      <th>Missing_Ingredients</th>\n      <th>Kitting_Line</th>\n      <th>Assembly_Batch</th>\n      <th>Event_Shift</th>\n      <th>Team_Leader</th>\n      <th>Pickers_Count</th>\n      <th>Time_Consumption</th>\n      <th>Week</th>\n    </tr>\n  </thead>\n  <tbody>\n    <tr>\n      <th>0</th>\n      <td>2020-07-11 15:19:00+00:00</td>\n      <td>2020-07-11 15:29:00+00:00</td>\n      <td>Break</td>\n      <td>None</td>\n      <td>B4</td>\n      <td>rework previous mks</td>\n      <td>None</td>\n      <td>KL1</td>\n      <td>None</td>\n      <td>Saturday Afternoon</td>\n      <td>Melanie Dua;</td>\n      <td>3</td>\n      <td>10.70</td>\n      <td>2020-29</td>\n    </tr>\n    <tr>\n      <th>1</th>\n      <td>2020-07-13 13:55:00+00:00</td>\n      <td>2020-07-13 15:52:00+00:00</td>\n      <td>Break</td>\n      <td>None</td>\n      <td>B4</td>\n      <td>clean up</td>\n      <td>None</td>\n      <td>KL1</td>\n      <td>None</td>\n      <td>Monday Afternoon</td>\n      <td>iXUsr_Chan(8814)</td>\n      <td>3</td>\n      <td>116.87</td>\n      <td>2020-29</td>\n    </tr>\n    <tr>\n      <th>2</th>\n      <td>2020-07-12 21:49:00+00:00</td>\n      <td>2020-07-12 22:06:00+00:00</td>\n      <td>Break</td>\n      <td>None</td>\n      <td>B4</td>\n      <td>clean up</td>\n      <td>None</td>\n      <td>KL1</td>\n      <td>None</td>\n      <td>Sunday Afternoon</td>\n      <td>iXUsr_Chang(8908)</td>\n      <td>3</td>\n      <td>17.42</td>\n      <td>2020-29</td>\n    </tr>\n    <tr>\n      <th>3</th>\n      <td>2020-07-10 12:58:00+00:00</td>\n      <td>2020-07-10 13:07:00+00:00</td>\n      <td>Break</td>\n      <td>None</td>\n      <td>A4</td>\n      <td>Unselected</td>\n      <td>None</td>\n      <td>KL2</td>\n      <td>None</td>\n      <td>Friday Morning</td>\n      <td>Eve Yerafael;</td>\n      <td>4</td>\n      <td>9.75</td>\n      <td>2020-29</td>\n    </tr>\n    <tr>\n      <th>4</th>\n      <td>2020-07-10 14:37:00+00:00</td>\n      <td>2020-07-10 14:48:00+00:00</td>\n      <td>Break</td>\n      <td>None</td>\n      <td>A4</td>\n      <td>Unselected</td>\n      <td>None</td>\n      <td>KL2</td>\n      <td>None</td>\n      <td>Friday Afternoon</td>\n      <td>Eve Yerafael;</td>\n      <td>4</td>\n      <td>10.98</td>\n      <td>2020-29</td>\n    </tr>\n    <tr>\n      <th>...</th>\n      <td>...</td>\n      <td>...</td>\n      <td>...</td>\n      <td>...</td>\n      <td>...</td>\n      <td>...</td>\n      <td>...</td>\n      <td>...</td>\n      <td>...</td>\n      <td>...</td>\n      <td>...</td>\n      <td>...</td>\n      <td>...</td>\n      <td>...</td>\n    </tr>\n    <tr>\n      <th>12905</th>\n      <td>2020-07-17 19:29:41+00:00</td>\n      <td>2020-07-17 22:08:49+00:00</td>\n      <td>Break</td>\n      <td>None</td>\n      <td>SF</td>\n      <td>move to other line</td>\n      <td>None</td>\n      <td>KL20</td>\n      <td>None</td>\n      <td>Friday Afternoon</td>\n      <td>Dummy;</td>\n      <td>3</td>\n      <td>159.13</td>\n      <td>2020-30</td>\n    </tr>\n    <tr>\n      <th>12906</th>\n      <td>2020-07-17 17:35:50+00:00</td>\n      <td>2020-07-17 18:14:44+00:00</td>\n      <td>Break</td>\n      <td>None</td>\n      <td>B4</td>\n      <td>rework previous mks</td>\n      <td>None</td>\n      <td>KL4</td>\n      <td>None</td>\n      <td>Friday Afternoon</td>\n      <td>Melanie Dua;</td>\n      <td>4</td>\n      <td>38.90</td>\n      <td>2020-30</td>\n    </tr>\n    <tr>\n      <th>12907</th>\n      <td>2020-07-18 20:07:21+00:00</td>\n      <td>2020-07-18 20:19:45+00:00</td>\n      <td>Break</td>\n      <td>None</td>\n      <td>G4</td>\n      <td>rework previous mks</td>\n      <td>None</td>\n      <td>KL9</td>\n      <td>None</td>\n      <td>Saturday Afternoon</td>\n      <td>iXUsr_Hular(8441)</td>\n      <td>3</td>\n      <td>12.40</td>\n      <td>2020-30</td>\n    </tr>\n    <tr>\n      <th>12908</th>\n      <td>2020-07-18 15:34:50+00:00</td>\n      <td>2020-07-18 15:43:01+00:00</td>\n      <td>Break</td>\n      <td>None</td>\n      <td>B2</td>\n      <td>rework previous mks</td>\n      <td>None</td>\n      <td>KL13</td>\n      <td>None</td>\n      <td>Saturday Afternoon</td>\n      <td>Melanie Dua;</td>\n      <td>4</td>\n      <td>8.18</td>\n      <td>2020-30</td>\n    </tr>\n    <tr>\n      <th>12909</th>\n      <td>2020-07-19 17:32:04+00:00</td>\n      <td>2020-07-19 17:38:24+00:00</td>\n      <td>Break</td>\n      <td>None</td>\n      <td>T4</td>\n      <td>rework previous mks</td>\n      <td>None</td>\n      <td>KL19</td>\n      <td>None</td>\n      <td>Sunday Afternoon</td>\n      <td>iXUsr_Kim Jie Yap 7055;</td>\n      <td>5</td>\n      <td>6.33</td>\n      <td>2020-30</td>\n    </tr>\n  </tbody>\n</table>\n<p>12910 rows × 14 columns</p>\n</div>"
     },
     "metadata": {},
     "execution_count": 4
    }
   ],
   "source": [
    "df_2930 ## week 26 to week 30"
   ]
  },
  {
   "cell_type": "code",
   "execution_count": 9,
   "metadata": {},
   "outputs": [],
   "source": [
    "import datetime as dt\n",
    "import pandas as pd"
   ]
  },
  {
   "cell_type": "code",
   "execution_count": 33,
   "metadata": {},
   "outputs": [],
   "source": [
    "# actual_start_time = test_group.sort_values([\"Finish_Time\"]).iloc[0]['Finish_Time'].tz_localize(None)\n",
    "# current_date = dt.datetime.date(actual_start_time)\n",
    "# morning_time = dt.time(6, 5) # morning shift suppose to start at 6:05 \n",
    "# shift_start_time = dt.datetime.combine(current_date, morning_time)"
   ]
  },
  {
   "cell_type": "code",
   "execution_count": 42,
   "metadata": {
    "tags": []
   },
   "outputs": [
    {
     "output_type": "execute_result",
     "data": {
      "text/plain": "9.0"
     },
     "metadata": {},
     "execution_count": 42
    }
   ],
   "source": [
    "# (actual_start_time - shift_start_time).seconds / 60"
   ]
  },
  {
   "cell_type": "code",
   "execution_count": 19,
   "metadata": {},
   "outputs": [],
   "source": [
    "# index_and_sort = test_group.set_index('Finish_Time').sort_index()\n",
    "# current_date = dt.datetime.date(index_and_sort.index[0])\n",
    "# morning_time = dt.time(14, 0)\n",
    "# shift_start_time = dt.datetime.combine(current_date, morning_time)\n",
    "# print(shift_start_time)\n",
    "# index_and_sort.index.get_loc(shift_start_time, method='nearest')"
   ]
  },
  {
   "cell_type": "code",
   "execution_count": 58,
   "metadata": {},
   "outputs": [],
   "source": [
    "def find_start_time(grouped_df):\n",
    "    week_day = grouped_df['Event_Shift'].str.split().iloc[0][0]\n",
    "    shift = grouped_df['Event_Shift'].str.split().iloc[0][1]\n",
    "    first_event = grouped_df.sort_values([\"Finish_Time\"]).iloc[0]\n",
    "    actual_start_time = first_event['Finish_Time'].tz_localize(None)\n",
    "    current_date = dt.datetime.date(actual_start_time)\n",
    "    morning_time = dt.time(6, 5) # morning shift suppose to start at 6:05 \n",
    "    afternoon_time = dt.time(14, 20)\n",
    "    if week_day in ['Thursday', 'Friday']:\n",
    "        if (shift == \"Afternoon\"):\n",
    "            shift_start_time = dt.datetime.combine(current_date, afternoon_time)\n",
    "            lateness = (actual_start_time - shift_start_time).seconds / 60\n",
    "\n",
    "        elif (shift == \"Morning\"):\n",
    "            shift_start_time = dt.datetime.combine(current_date, morning_time)\n",
    "            lateness = (actual_start_time - shift_start_time).seconds / 60\n",
    "\n",
    "        else:\n",
    "            print(\"Error\")\n",
    "    else:\n",
    "        shift_start_time = dt.datetime.combine(current_date, morning_time)\n",
    "        lateness = (actual_start_time - shift_start_time).seconds / 60\n",
    "\n",
    "    return (lateness if (lateness < 30) else 'not on kitting at the production begain')\n"
   ]
  },
  {
   "cell_type": "code",
   "execution_count": 66,
   "metadata": {
    "tags": []
   },
   "outputs": [],
   "source": [
    "df_lateness = pd.DataFrame( {'lateness': df_2930.groupby([\"Team_Leader\",  \"Week\", \"Event_Shift\"]).apply(find_start_time)})"
   ]
  },
  {
   "cell_type": "code",
   "execution_count": 67,
   "metadata": {},
   "outputs": [
    {
     "output_type": "execute_result",
     "data": {
      "text/plain": "                                                                                 lateness\nTeam_Leader           Week    Event_Shift                                                \nBayu Agus Alfian      2020-29 Monday Afternoon    not on kitting at the production begain\n                              Monday Morning                                            9\n                              Saturday Morning                                          5\n                              Sunday Morning                                           12\n                              Thursday Morning                                         20\n...                                                                                   ...\niXUsr_Ushida(8909)    2020-30 Saturday Afternoon  not on kitting at the production begain\niXUsr_Wilson(8678)    2020-29 Friday Afternoon                                         23\niXUsr_Ye'Rafael(8520) 2020-29 Monday Afternoon    not on kitting at the production begain\n                      2020-30 Monday Morning      not on kitting at the production begain\n                              Thursday Morning    not on kitting at the production begain\n\n[197 rows x 1 columns]",
      "text/html": "<div>\n<style scoped>\n    .dataframe tbody tr th:only-of-type {\n        vertical-align: middle;\n    }\n\n    .dataframe tbody tr th {\n        vertical-align: top;\n    }\n\n    .dataframe thead th {\n        text-align: right;\n    }\n</style>\n<table border=\"1\" class=\"dataframe\">\n  <thead>\n    <tr style=\"text-align: right;\">\n      <th></th>\n      <th></th>\n      <th></th>\n      <th>lateness</th>\n    </tr>\n    <tr>\n      <th>Team_Leader</th>\n      <th>Week</th>\n      <th>Event_Shift</th>\n      <th></th>\n    </tr>\n  </thead>\n  <tbody>\n    <tr>\n      <th rowspan=\"5\" valign=\"top\">Bayu Agus Alfian</th>\n      <th rowspan=\"5\" valign=\"top\">2020-29</th>\n      <th>Monday Afternoon</th>\n      <td>not on kitting at the production begain</td>\n    </tr>\n    <tr>\n      <th>Monday Morning</th>\n      <td>9</td>\n    </tr>\n    <tr>\n      <th>Saturday Morning</th>\n      <td>5</td>\n    </tr>\n    <tr>\n      <th>Sunday Morning</th>\n      <td>12</td>\n    </tr>\n    <tr>\n      <th>Thursday Morning</th>\n      <td>20</td>\n    </tr>\n    <tr>\n      <th>...</th>\n      <th>...</th>\n      <th>...</th>\n      <td>...</td>\n    </tr>\n    <tr>\n      <th>iXUsr_Ushida(8909)</th>\n      <th>2020-30</th>\n      <th>Saturday Afternoon</th>\n      <td>not on kitting at the production begain</td>\n    </tr>\n    <tr>\n      <th>iXUsr_Wilson(8678)</th>\n      <th>2020-29</th>\n      <th>Friday Afternoon</th>\n      <td>23</td>\n    </tr>\n    <tr>\n      <th rowspan=\"3\" valign=\"top\">iXUsr_Ye'Rafael(8520)</th>\n      <th>2020-29</th>\n      <th>Monday Afternoon</th>\n      <td>not on kitting at the production begain</td>\n    </tr>\n    <tr>\n      <th rowspan=\"2\" valign=\"top\">2020-30</th>\n      <th>Monday Morning</th>\n      <td>not on kitting at the production begain</td>\n    </tr>\n    <tr>\n      <th>Thursday Morning</th>\n      <td>not on kitting at the production begain</td>\n    </tr>\n  </tbody>\n</table>\n<p>197 rows × 1 columns</p>\n</div>"
     },
     "metadata": {},
     "execution_count": 67
    }
   ],
   "source": [
    "df_lateness"
   ]
  },
  {
   "cell_type": "code",
   "execution_count": null,
   "metadata": {},
   "outputs": [],
   "source": [
    "df_lateness.to_csv"
   ]
  }
 ]
}