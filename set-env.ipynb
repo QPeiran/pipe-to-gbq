{
 "cells": [
  {
   "cell_type": "code",
   "execution_count": 1,
   "metadata": {
    "tags": []
   },
   "outputs": [],
   "source": [
    "## check package when necessary\n",
    "# !pip install --upgrade google-cloud-storage\n",
    "# !pip install --upgrade google-cloud-bigquery\n",
    "# !pip install --upgrade pandas \n",
    "# conda list\n",
    "# conda env export > environment.yml"
   ]
  },
  {
   "cell_type": "code",
   "execution_count": 2,
   "metadata": {},
   "outputs": [],
   "source": [
    "from google.cloud import bigquery\n",
    "from google.oauth2 import service_account"
   ]
  },
  {
   "cell_type": "code",
   "execution_count": 3,
   "metadata": {
    "tags": []
   },
   "outputs": [],
   "source": [
    "key_path = \"./creds/service_acc_auth.json\"\n",
    "\n",
    "credentials = service_account.Credentials.from_service_account_file(key_path, scopes = [\"https://www.googleapis.com/auth/cloud-platform\"])\n",
    "\n",
    "client = bigquery.Client(credentials=credentials, project=credentials.project_id)\n"
   ]
  },
  {
   "cell_type": "code",
   "execution_count": 4,
   "metadata": {},
   "outputs": [],
   "source": [
    "safe_config = bigquery.QueryJobConfig(maximum_bytes_billed=10**10) # set query limit to 10G"
   ]
  },
  {
   "cell_type": "code",
   "execution_count": 5,
   "metadata": {
    "tags": []
   },
   "outputs": [
    {
     "output_type": "execute_result",
     "data": {
      "text/plain": "pandas.core.frame.DataFrame"
     },
     "metadata": {},
     "execution_count": 5
    }
   ],
   "source": [
    "# Perform a query.\n",
    "week_valid = \"\"\"\n",
    "SELECT DISTINCT(Week), COUNT(1) as count\n",
    "FROM `scanning-database.PowerBI.PowerBI` \n",
    "GROUP BY Week\n",
    "ORDER BY Week DESC\n",
    "\"\"\"\n",
    "query_job = client.query(week_valid, job_config=safe_config)  # API request\n",
    "rows = query_job.result()  # Waits for query to finish\n",
    "all_weeks = rows.to_dataframe()   # Transfer to pandas dataframe\n",
    "type(all_weeks)"
   ]
  },
  {
   "cell_type": "code",
   "execution_count": 6,
   "metadata": {},
   "outputs": [
    {
     "output_type": "execute_result",
     "data": {
      "text/plain": "       Week  count\n0   2020-39   8179\n1   2020-38   8608\n2   2020-37   8540\n3   2020-36   8704\n4   2020-35   8042\n5   2020-34   7234\n6   2020-33   6880\n7   2020-32   7562\n8   2020-31   7134\n9   2020-30   6028\n10  2020-29   6882\n11  2020-28   6810\n12  2020-27   7654",
      "text/html": "<div>\n<style scoped>\n    .dataframe tbody tr th:only-of-type {\n        vertical-align: middle;\n    }\n\n    .dataframe tbody tr th {\n        vertical-align: top;\n    }\n\n    .dataframe thead th {\n        text-align: right;\n    }\n</style>\n<table border=\"1\" class=\"dataframe\">\n  <thead>\n    <tr style=\"text-align: right;\">\n      <th></th>\n      <th>Week</th>\n      <th>count</th>\n    </tr>\n  </thead>\n  <tbody>\n    <tr>\n      <th>0</th>\n      <td>2020-39</td>\n      <td>8179</td>\n    </tr>\n    <tr>\n      <th>1</th>\n      <td>2020-38</td>\n      <td>8608</td>\n    </tr>\n    <tr>\n      <th>2</th>\n      <td>2020-37</td>\n      <td>8540</td>\n    </tr>\n    <tr>\n      <th>3</th>\n      <td>2020-36</td>\n      <td>8704</td>\n    </tr>\n    <tr>\n      <th>4</th>\n      <td>2020-35</td>\n      <td>8042</td>\n    </tr>\n    <tr>\n      <th>5</th>\n      <td>2020-34</td>\n      <td>7234</td>\n    </tr>\n    <tr>\n      <th>6</th>\n      <td>2020-33</td>\n      <td>6880</td>\n    </tr>\n    <tr>\n      <th>7</th>\n      <td>2020-32</td>\n      <td>7562</td>\n    </tr>\n    <tr>\n      <th>8</th>\n      <td>2020-31</td>\n      <td>7134</td>\n    </tr>\n    <tr>\n      <th>9</th>\n      <td>2020-30</td>\n      <td>6028</td>\n    </tr>\n    <tr>\n      <th>10</th>\n      <td>2020-29</td>\n      <td>6882</td>\n    </tr>\n    <tr>\n      <th>11</th>\n      <td>2020-28</td>\n      <td>6810</td>\n    </tr>\n    <tr>\n      <th>12</th>\n      <td>2020-27</td>\n      <td>7654</td>\n    </tr>\n  </tbody>\n</table>\n</div>"
     },
     "metadata": {},
     "execution_count": 6
    }
   ],
   "source": [
    "# validating data in PowerBI source table\n",
    "all_weeks"
   ]
  },
  {
   "cell_type": "code",
   "execution_count": null,
   "metadata": {},
   "outputs": [],
   "source": []
  }
 ],
 "metadata": {
  "language_info": {
   "codemirror_mode": {
    "name": "ipython",
    "version": 3
   },
   "file_extension": ".py",
   "mimetype": "text/x-python",
   "name": "python",
   "nbconvert_exporter": "python",
   "pygments_lexer": "ipython3",
   "version": "3.8.3-final"
  },
  "orig_nbformat": 2,
  "kernelspec": {
   "name": "python38364bitgbqenvconda5076e19de0394e84b989fb80c83f72da",
   "display_name": "Python 3.8.3 64-bit ('gbq-env': conda)"
  }
 },
 "nbformat": 4,
 "nbformat_minor": 2
}