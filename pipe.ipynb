{
 "cells": [
  {
   "cell_type": "code",
   "execution_count": 1,
   "metadata": {
    "tags": []
   },
   "outputs": [],
   "source": [
    "# conda list\n",
    "import glob"
   ]
  },
  {
   "cell_type": "code",
   "execution_count": 2,
   "metadata": {},
   "outputs": [],
   "source": [
    "from google.cloud import storage, bigquery\n",
    "from google.oauth2 import service_account\n",
    "key_path = \"./creds/service_acc_auth.json\"\n",
    "credentials = service_account.Credentials.from_service_account_file(key_path, scopes = [\"https://www.googleapis.com/auth/cloud-platform\"])"
   ]
  },
  {
   "cell_type": "code",
   "execution_count": 3,
   "metadata": {},
   "outputs": [],
   "source": [
    "storage_client = storage.Client(credentials=credentials, project=credentials.project_id)\n",
    "ssd_bucket = 'scanny-data-backup'\n",
    "bucket = storage_client.get_bucket(ssd_bucket)"
   ]
  },
  {
   "cell_type": "code",
   "execution_count": 4,
   "metadata": {
    "tags": []
   },
   "outputs": [
    {
     "output_type": "stream",
     "name": "stdout",
     "text": "Backupdata/Box Count W49-W13.xlsx\nBackupdata/Recipe Detail W49 - W13.xlsx\nBackupdata/Scanny Data W49-W13.xlsx\nbackup_by_weeks/\nbackup_by_weeks/Data/Box Count.csv\nbackup_by_weeks/Data/Main.csv\nbackup_by_weeks/Data/Recipe Details.csv\nbackup_by_weeks/Data/W06/Kitting Dashboard -- W06.pdf\nbackup_by_weeks/Data/W06/W06.xlsx\nbackup_by_weeks/Data/W06/Week06Kitting.pdf\nbackup_by_weeks/Data/W06/prepared.csv\nbackup_by_weeks/Data/W06/raw.xlsx\nbackup_by_weeks/Data/W06/staged.csv\nbackup_by_weeks/Data/W07/Kitting Dasboard -- W07.pdf\nbackup_by_weeks/Data/W07/W07.xlsx\nbackup_by_weeks/Data/W07/W07kitting.pdf\nbackup_by_weeks/Data/W07/prepared.csv\nbackup_by_weeks/Data/W07/raw.xlsx\nbackup_by_weeks/Data/W07/staged.csv\nbackup_by_weeks/Data/W08/Kitting KPI Dashboard - W08.pdf\nbackup_by_weeks/Data/W08/W08 Assembly.xlsx\nbackup_by_weeks/Data/W08/W08.xlsx\nbackup_by_weeks/Data/W08/prepared.csv\nbackup_by_weeks/Data/W08/raw.xlsx\nbackup_by_weeks/Data/W08/staged.csv\nbackup_by_weeks/Data/W09/W09 Assembly.xlsx\nbackup_by_weeks/Data/W09/W09.xlsx\nbackup_by_weeks/Data/W09/W09Kitting KPIs.pdf\nbackup_by_weeks/Data/W09/prepared.csv\nbackup_by_weeks/Data/W09/raw.xlsx\nbackup_by_weeks/Data/W09/staged.csv\nbackup_by_weeks/Data/W10/Assembly -- W10.xlsx\nbackup_by_weeks/Data/W10/Kitting KPI Dashboard - W10.pdf\nbackup_by_weeks/Data/W10/prepared.csv\nbackup_by_weeks/Data/W10/raw.xlsx\nbackup_by_weeks/Data/W10/staged.csv\nbackup_by_weeks/Data/W11/Kitting KPI Dashboard--W11.pdf\nbackup_by_weeks/Data/W11/W11-Assembly.xlsx\nbackup_by_weeks/Data/W11/prepared.csv\nbackup_by_weeks/Data/W11/raw.xlsx\nbackup_by_weeks/Data/W11/staged.csv\nbackup_by_weeks/Data/W12/Kitting KPI Dashboard -- W12.pdf\nbackup_by_weeks/Data/W12/W12-Assembly.xlsx\nbackup_by_weeks/Data/W12/prepared.csv\nbackup_by_weeks/Data/W12/raw.xlsx\nbackup_by_weeks/Data/W12/staged_12.csv\nbackup_by_weeks/Data/W13/Kitting KPI Dashboard - W13.pdf\nbackup_by_weeks/Data/W13/prepared.csv\nbackup_by_weeks/Data/W14/Kitting KPI Dashboard - W14.pdf\nbackup_by_weeks/Data/W14/prepared.csv\nbackup_by_weeks/Data/W14/raw.xlsx\nbackup_by_weeks/Data/W14/staged.csv\nbackup_by_weeks/Data/W15/Kitting KPI Dashboard -W15.pdf\nbackup_by_weeks/Data/W15/prepared.csv\nbackup_by_weeks/Data/W15/raw.xlsx\nbackup_by_weeks/Data/W15/staged.csv\nbackup_by_weeks/Data/W16/Kitting KPI Dashboard-W16.pdf\nbackup_by_weeks/Data/W16/prepared.csv\nbackup_by_weeks/Data/W16/raw.xlsx\nbackup_by_weeks/Data/W16/staged.csv\nbackup_by_weeks/Data/W17/Kitting KPI Dashboard-W17.pdf\nbackup_by_weeks/Data/W17/prepared.csv\nbackup_by_weeks/Data/W17/raw.xlsx\nbackup_by_weeks/Data/W17/staged.csv\nbackup_by_weeks/Data/W18/Kitting KPI Dashboard - W18.pdf\nbackup_by_weeks/Data/W18/prepared.csv\nbackup_by_weeks/Data/W18/raw.xlsx\nbackup_by_weeks/Data/W18/staged.csv\nbackup_by_weeks/Data/W19/Kitting KPI Dashboard--W19.pdf\nbackup_by_weeks/Data/W19/prepared.csv\nbackup_by_weeks/Data/W19/raw.xlsx\nbackup_by_weeks/Data/W19/staged.csv\nbackup_by_weeks/Data/W20/Kitting KPI Dashboard -- W20.pdf\nbackup_by_weeks/Data/W20/prepared.csv\nbackup_by_weeks/Data/W20/raw.xlsx\nbackup_by_weeks/Data/W20/staged.csv\nbackup_by_weeks/Data/W21/Kitting KPI Dashboard -- W21.pdf\nbackup_by_weeks/Data/W21/prepared.csv\nbackup_by_weeks/Data/W21/raw.xlsx\nbackup_by_weeks/Data/W21/staged.csv\nbackup_by_weeks/Data/W22/Kitting KPI Dashboard -- W22.pdf\nbackup_by_weeks/Data/W22/prepared.csv\nbackup_by_weeks/Data/W22/raw.xlsx\nbackup_by_weeks/Data/W22/staged.csv\nbackup_by_weeks/Data/W23/Kitting KPI Dashboard -- W23.pdf\nbackup_by_weeks/Data/W23/prepared.csv\nbackup_by_weeks/Data/W23/raw.xlsx\nbackup_by_weeks/Data/W23/staged.csv\nbackup_by_weeks/Data/W24/Kitting KPI Dashboard - W24.pdf\nbackup_by_weeks/Data/W24/prepared.csv\nbackup_by_weeks/Data/W24/raw.xlsx\nbackup_by_weeks/Data/W24/staged.csv\nbackup_by_weeks/Data/W25/Kitting KPI Dashboard -- W25.pdf\nbackup_by_weeks/Data/W25/prepared.csv\nbackup_by_weeks/Data/W25/raw.xlsx\nbackup_by_weeks/Data/W25/staged.csv\nbackup_by_weeks/Data/W26/prepared.csv\nbackup_by_weeks/Data/W26/raw.xlsx\nbackup_by_weeks/Data/W26/staged.csv\nbackup_by_weeks/Data/W27/prepared.csv\nbackup_by_weeks/Data/W27/raw.xlsx\nbackup_by_weeks/Data/W27/staged.csv\nbackup_by_weeks/Data/W28/prepared.csv\nbackup_by_weeks/Data/W28/raw.xlsx\nbackup_by_weeks/Data/W28/staged.csv\nbackup_by_weeks/Data/W29/prepared.csv\nbackup_by_weeks/Data/W29/raw.xlsx\nbackup_by_weeks/Data/W29/staged.csv\n"
    }
   ],
   "source": [
    "for obj in bucket.list_blobs(prefix=None):\n",
    "    print(obj.name)"
   ]
  },
  {
   "cell_type": "code",
   "execution_count": 5,
   "metadata": {
    "tags": []
   },
   "outputs": [],
   "source": [
    "def download_from_gcs(gcs_folder, local_path):\n",
    "    \"\"\"\n",
    "    gcs_folder -- the blob storage of the weeks' data\n",
    "    local_path -- point to the desginated local folder \n",
    "    \"\"\"\n",
    "    for obj in bucket.list_blobs(prefix = gcs_folder):\n",
    "        fileName = obj.name.split('/')[-1]\n",
    "        obj.download_to_filename(os.path.join(local_path,fileName))"
   ]
  },
  {
   "cell_type": "code",
   "execution_count": 6,
   "metadata": {},
   "outputs": [],
   "source": [
    "# data_week_folder = 'backup_by_weeks/Data/W29'\n",
    "# local_folder = r\"C:\\Users\\Peiran Quan\\Desktop\"\n",
    "# download_from_gcs(data_week_folder, local_folder)"
   ]
  },
  {
   "cell_type": "code",
   "execution_count": null,
   "metadata": {},
   "outputs": [],
   "source": []
  }
 ],
 "metadata": {
  "language_info": {
   "codemirror_mode": {
    "name": "ipython",
    "version": 3
   },
   "file_extension": ".py",
   "mimetype": "text/x-python",
   "name": "python",
   "nbconvert_exporter": "python",
   "pygments_lexer": "ipython3",
   "version": "3.8.3-final"
  },
  "orig_nbformat": 2,
  "kernelspec": {
   "name": "python38364bitgbqenvconda5076e19de0394e84b989fb80c83f72da",
   "display_name": "Python 3.8.3 64-bit ('gbq-env': conda)"
  }
 },
 "nbformat": 4,
 "nbformat_minor": 2
}