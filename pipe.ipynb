{
 "cells": [
  {
   "cell_type": "code",
   "execution_count": 1,
   "metadata": {
    "tags": []
   },
   "outputs": [],
   "source": [
    "# conda list\n",
    "import glob"
   ]
  },
  {
   "cell_type": "code",
   "execution_count": 2,
   "metadata": {},
   "outputs": [],
   "source": [
    "from google.cloud import storage, bigquery\n",
    "from google.oauth2 import service_account\n",
    "key_path = \"./creds/service_acc_auth.json\"\n",
    "credentials = service_account.Credentials.from_service_account_file(key_path, scopes = [\"https://www.googleapis.com/auth/cloud-platform\"])"
   ]
  },
  {
   "cell_type": "code",
   "execution_count": 3,
   "metadata": {},
   "outputs": [],
   "source": [
    "storage_client = storage.Client(credentials=credentials, project=credentials.project_id)\n",
    "ssd_bucket = 'scanny-data-backup'\n",
    "bucket = storage_client.get_bucket(ssd_bucket)"
   ]
  },
  {
   "cell_type": "code",
   "execution_count": 4,
   "metadata": {
    "tags": []
   },
   "outputs": [
    {
     "output_type": "stream",
     "name": "stdout",
     "text": "Clemow Data/2019 Box Count W49-W13.xlsx\nClemow Data/2019 Recipe Detail W49 - W13.xlsx\nClemow Data/2019 Scanny Data W49-W13.xlsx\nW06/Kitting Dashboard -- W06.pdf\nW06/W06.xlsx\nW06/Week06Kitting.pdf\nW06/prepared.csv\nW06/raw.xlsx\nW06/staged.csv\nW07/Kitting Dasboard -- W07.pdf\nW07/W07.xlsx\nW07/W07kitting.pdf\nW07/prepared.csv\nW07/raw.xlsx\nW07/staged.csv\nW08/Kitting KPI Dashboard - W08.pdf\nW08/W08 Assembly.xlsx\nW08/W08.xlsx\nW08/prepared.csv\nW08/raw.xlsx\nW08/staged.csv\nW09/W09 Assembly.xlsx\nW09/W09.xlsx\nW09/W09Kitting KPIs.pdf\nW09/prepared.csv\nW09/raw.xlsx\nW09/staged.csv\nW10/Assembly -- W10.xlsx\nW10/Kitting KPI Dashboard - W10.pdf\nW10/prepared.csv\nW10/raw.xlsx\nW10/staged.csv\nW11/Kitting KPI Dashboard--W11.pdf\nW11/W11-Assembly.xlsx\nW11/prepared.csv\nW11/raw.xlsx\nW11/staged.csv\nW12/Kitting KPI Dashboard -- W12.pdf\nW12/W12-Assembly.xlsx\nW12/prepared.csv\nW12/raw.xlsx\nW12/staged_12.csv\nW13/Kitting KPI Dashboard - W13.pdf\nW14/Kitting KPI Dashboard - W14.pdf\nW14/prepared.csv\nW14/raw.xlsx\nW14/staged.csv\nW15/Kitting KPI Dashboard -W15.pdf\nW15/prepared.csv\nW15/raw.xlsx\nW15/staged.csv\nW16/Kitting KPI Dashboard-W16.pdf\nW16/prepared.csv\nW16/raw.xlsx\nW16/staged.csv\nW17/Kitting KPI Dashboard-W17.pdf\nW17/prepared.csv\nW17/raw.xlsx\nW17/staged.csv\nW18/Kitting KPI Dashboard - W18.pdf\nW18/prepared.csv\nW18/raw.xlsx\nW18/staged.csv\nW19/Kitting KPI Dashboard--W19.pdf\nW19/prepared.csv\nW19/raw.xlsx\nW19/staged.csv\nW20/Kitting KPI Dashboard -- W20.pdf\nW20/prepared.csv\nW20/raw.xlsx\nW20/staged.csv\nW21/Kitting KPI Dashboard -- W21.pdf\nW21/prepared.csv\nW21/raw.xlsx\nW21/staged.csv\nW22/Kitting KPI Dashboard -- W22.pdf\nW22/prepared.csv\nW22/raw.xlsx\nW22/staged.csv\nW23/Kitting KPI Dashboard -- W23.pdf\nW23/prepared.csv\nW23/raw.xlsx\nW23/staged.csv\nW24/Kitting KPI Dashboard - W24.pdf\nW24/prepared.csv\nW24/raw.xlsx\nW24/staged.csv\nW25/Kitting KPI Dashboard -- W25.pdf\nW25/prepared.csv\nW25/raw.xlsx\nW25/staged.csv\nW26/raw.xlsx\nW27/prepared.csv\nW27/raw.xlsx\nW27/staged.csv\nW28/prepared.csv\nW28/raw.xlsx\nW28/staged.csv\nW29/prepared.csv\nW29/raw.xlsx\nW29/staged.csv\nW30/prepared.csv\nW30/raw.xlsx\nW30/staged.csv\nW31/prepared.csv\nW31/raw.xlsx\nW31/staged.csv\nW32/prepared.csv\nW32/raw.xlsx\nW32/staged.csv\nW33/prepared.csv\nW33/raw.xlsx\nW33/staged.csv\nW34/prepared.csv\nW34/raw.xlsx\nW34/staged.csv\nW35/prepared.csv\nW35/raw.xlsx\nW35/staged.csv\nW36/prepared.csv\nW36/raw.xlsx\nW36/staged.csv\nW37/prepared.csv\nW37/raw.xlsx\nW37/staged.csv\nW38/prepared.csv\nW38/raw.xlsx\nW38/staged.csv\nW39/prepared.csv\nW39/raw.xlsx\nW39/staged.csv\nW40/prepared.csv\nW40/raw.xlsx\nW40/staged.csv\nW41/prepared.csv\nW41/raw.xlsx\nW41/staged.csv\nW42/prepared.csv\nW42/raw.xlsx\nW42/staged.csv\nW43/prepared.csv\nW43/raw.xlsx\nW43/staged.csv\nW44/prepared.csv\nW44/raw.xlsx\nW44/staged.csv\n"
    }
   ],
   "source": [
    "for obj in bucket.list_blobs(prefix=None):\n",
    "    print(obj.name)"
   ]
  },
  {
   "cell_type": "code",
   "execution_count": 5,
   "metadata": {
    "tags": []
   },
   "outputs": [],
   "source": [
    "def download_from_gcs(gcs_folder, local_path):\n",
    "    \"\"\"\n",
    "    gcs_folder -- the blob storage of the weeks' data\n",
    "    local_path -- point to the desginated local folder \n",
    "    \"\"\"\n",
    "    for obj in bucket.list_blobs(prefix = gcs_folder):\n",
    "        fileName = obj.name.split('/')[-1]\n",
    "        obj.download_to_filename(os.path.join(local_path,fileName))"
   ]
  },
  {
   "cell_type": "code",
   "execution_count": 6,
   "metadata": {},
   "outputs": [],
   "source": [
    "cusomized_schema =[\n",
    "        bigquery.SchemaField(\"Start_Time\", \"TIMESTAMP\"),\n",
    "        bigquery.SchemaField(\"Finish_Time\", \"TIMESTAMP\"),\n",
    "        bigquery.SchemaField(\"Activity\", \"STRING\"),\n",
    "        bigquery.SchemaField(\"Seq_Code\", \"STRING\"),\n",
    "        bigquery.SchemaField(\"Recipe_Name\", \"STRING\"),\n",
    "        bigquery.SchemaField(\"Break_Reasons\", \"STRING\"),\n",
    "        bigquery.SchemaField(\"Missing_Ingredients\", \"STRING\"),\n",
    "        bigquery.SchemaField(\"Kitting_Line\", \"STRING\"),\n",
    "        bigquery.SchemaField(\"Assembly_Batch\", \"STRING\"),\n",
    "        bigquery.SchemaField(\"Event_Shift\", \"STRING\"),\n",
    "        bigquery.SchemaField(\"Team_Leader\", \"STRING\"),\n",
    "        bigquery.SchemaField(\"Pickers_Count\", \"INTEGER\"),\n",
    "        bigquery.SchemaField(\"Time_Consumption\", \"FLOAT\"),\n",
    "        bigquery.SchemaField(\"Week\", \"STRING\"),\n",
    "    ]"
   ]
  },
  {
   "cell_type": "code",
   "execution_count": 7,
   "metadata": {
    "tags": []
   },
   "outputs": [
    {
     "output_type": "stream",
     "name": "stdout",
     "text": "PowerBI\nscanning_data_backup\ntest_data_set\n"
    }
   ],
   "source": [
    "bigquery_client = bigquery.Client(credentials=credentials, project=credentials.project_id)\n",
    "datasets = list(bigquery_client.list_datasets())\n",
    "for dataset in datasets:\n",
    "    print(dataset.dataset_id)"
   ]
  },
  {
   "cell_type": "code",
   "execution_count": 8,
   "metadata": {},
   "outputs": [
    {
     "output_type": "execute_result",
     "data": {
      "text/plain": "google.cloud.bigquery.table.Table"
     },
     "metadata": {},
     "execution_count": 8
    }
   ],
   "source": [
    "type(bigquery_client.get_table('scanning-database.scanning_data_backup.W29')) #table reference"
   ]
  },
  {
   "cell_type": "code",
   "execution_count": 9,
   "metadata": {},
   "outputs": [],
   "source": [
    "def create_table(dataset_id, gcs_uri, new_table_id):\n",
    "    dataset_ref = bigquery_client.dataset(dataset_id) \n",
    "    job_config = bigquery.LoadJobConfig()\n",
    "    ##new way to configure job's arrtibutes\n",
    "    job_config.autodetect = True ## auto detect, default is False\n",
    "    # job_config.schema = cusomized_schema ## choose whether to use customized schema\n",
    "    # job_config.skip_leading_rows = 1 ## if auto detect then eliminate this\n",
    "    job_config.write_disposition = bigquery.WriteDisposition.WRITE_TRUNCATE\n",
    "    job_config.source_format = bigquery.SourceFormat.CSV\n",
    "    load_job = bigquery_client.load_table_from_uri(gcs_uri, dataset_ref.table(new_table_id), job_config=job_config)\n",
    "    print(\"Starting job {}\".format(load_job.job_id))\n",
    "    load_job.result()  # Waits for table load to complete.\n",
    "    print(\"Job finished.\")\n",
    "    destination_table = bigquery_client.get_table(dataset_ref.table(new_table_id))\n",
    "    print(\"Loaded {} rows.\".format(destination_table.num_rows))"
   ]
  },
  {
   "cell_type": "code",
   "execution_count": 10,
   "metadata": {},
   "outputs": [],
   "source": [
    "\"\"\"\n",
    "Change the directory week-by-week\n",
    "\"\"\"\n",
    "uri = \"gs://scanny-data-backup/W44/prepared.csv\" ## <= 1/2\n",
    "datasetID = \"scanning_data_backup\"\n",
    "new_table_name = \"W44\" ## <= 2/2"
   ]
  },
  {
   "cell_type": "code",
   "execution_count": 11,
   "metadata": {
    "tags": []
   },
   "outputs": [
    {
     "output_type": "stream",
     "name": "stdout",
     "text": "Starting job 3413e33f-a553-4133-8ff8-e7478b6548ea\nJob finished.\nLoaded 7699 rows.\n"
    }
   ],
   "source": [
    "create_table(datasetID, uri, new_table_name)"
   ]
  }
 ],
 "metadata": {
  "language_info": {
   "codemirror_mode": {
    "name": "ipython",
    "version": 3
   },
   "file_extension": ".py",
   "mimetype": "text/x-python",
   "name": "python",
   "nbconvert_exporter": "python",
   "pygments_lexer": "ipython3",
   "version": "3.8.6-final"
  },
  "orig_nbformat": 2,
  "kernelspec": {
   "name": "python_defaultSpec_1603749263091",
   "display_name": "Python 3.8.6 64-bit ('pipe-to-gpq': pipenv)"
  }
 },
 "nbformat": 4,
 "nbformat_minor": 2
}