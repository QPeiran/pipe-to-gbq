{
 "cells": [
  {
   "cell_type": "code",
   "execution_count": 1,
   "metadata": {
    "tags": []
   },
   "outputs": [],
   "source": [
    "import glob"
   ]
  },
  {
   "cell_type": "code",
   "execution_count": 2,
   "metadata": {},
   "outputs": [],
   "source": [
    "from google.cloud import storage, bigquery\n",
    "from google.oauth2 import service_account\n",
    "key_path = \"./creds/service_acc_auth.json\"\n",
    "credentials = service_account.Credentials.from_service_account_file(key_path, scopes = [\"https://www.googleapis.com/auth/cloud-platform\"])"
   ]
  },
  {
   "cell_type": "code",
   "execution_count": 3,
   "metadata": {},
   "outputs": [],
   "source": [
    "storage_client = storage.Client(credentials=credentials, project=credentials.project_id)\n",
    "ssd_bucket = 'scanny-data-backup'\n",
    "bucket = storage_client.get_bucket(ssd_bucket)"
   ]
  },
  {
   "cell_type": "code",
   "execution_count": 4,
   "metadata": {
    "tags": []
   },
   "outputs": [
    {
     "output_type": "stream",
     "name": "stdout",
     "text": [
      "Box Count.csv\nClemow Data/2019 Box Count W49-W13.xlsx\nClemow Data/2019 Recipe Detail W49 - W13.xlsx\nClemow Data/2019 Scanny Data W49-W13.xlsx\nRecipe Details.csv\nW01/prepared.csv\nW01/raw.xlsx\nW01/staged.csv\nW02/prepared.csv\nW02/raw.xlsx\nW02/staged.csv\nW03/prepared.csv\nW03/raw.xlsx\nW03/staged.csv\nW04/prepared.csv\nW04/raw.xlsx\nW04/staged.csv\nW05/prepared.csv\nW05/raw.xlsx\nW05/staged.csv\nW06/prepared.csv\nW06/raw.xlsx\nW06/staged.csv\nW07/prepared.csv\nW07/raw.xlsx\nW07/staged.csv\nW08/prepared.csv\nW08/raw.xlsx\nW08/staged.csv\nW09/prepared.csv\nW09/raw.xlsx\nW09/staged.csv\nW10/prepared.csv\nW10/raw.xlsx\nW10/staged.csv\nW11/prepared.csv\nW11/raw.xlsx\nW11/staged.csv\nW12/prepared.csv\nW12/raw.xlsx\nW12/staged.csv\nYear2020/\nYear2020/W06/Kitting Dashboard -- W06.pdf\nYear2020/W06/W06.xlsx\nYear2020/W06/Week06Kitting.pdf\nYear2020/W06/prepared.csv\nYear2020/W06/raw.xlsx\nYear2020/W06/staged.csv\nYear2020/W07/Kitting Dasboard -- W07.pdf\nYear2020/W07/W07.xlsx\nYear2020/W07/W07kitting.pdf\nYear2020/W07/prepared.csv\nYear2020/W07/raw.xlsx\nYear2020/W07/staged.csv\nYear2020/W08/Kitting KPI Dashboard - W08.pdf\nYear2020/W08/W08 Assembly.xlsx\nYear2020/W08/W08.xlsx\nYear2020/W08/prepared.csv\nYear2020/W08/raw.xlsx\nYear2020/W08/staged.csv\nYear2020/W09/W09 Assembly.xlsx\nYear2020/W09/W09.xlsx\nYear2020/W09/W09Kitting KPIs.pdf\nYear2020/W09/prepared.csv\nYear2020/W09/raw.xlsx\nYear2020/W09/staged.csv\nYear2020/W10/Assembly -- W10.xlsx\nYear2020/W10/Kitting KPI Dashboard - W10.pdf\nYear2020/W10/prepared.csv\nYear2020/W10/raw.xlsx\nYear2020/W10/staged.csv\nYear2020/W11/Kitting KPI Dashboard--W11.pdf\nYear2020/W11/W11-Assembly.xlsx\nYear2020/W11/prepared.csv\nYear2020/W11/raw.xlsx\nYear2020/W11/staged.csv\nYear2020/W12/Kitting KPI Dashboard -- W12.pdf\nYear2020/W12/W12-Assembly.xlsx\nYear2020/W12/prepared.csv\nYear2020/W12/raw.xlsx\nYear2020/W12/staged_12.csv\nYear2020/W13/Kitting KPI Dashboard - W13.pdf\nYear2020/W14/Kitting KPI Dashboard - W14.pdf\nYear2020/W14/prepared.csv\nYear2020/W14/raw.xlsx\nYear2020/W14/staged.csv\nYear2020/W15/Kitting KPI Dashboard -W15.pdf\nYear2020/W15/prepared.csv\nYear2020/W15/raw.xlsx\nYear2020/W15/staged.csv\nYear2020/W16/Kitting KPI Dashboard-W16.pdf\nYear2020/W16/prepared.csv\nYear2020/W16/raw.xlsx\nYear2020/W16/staged.csv\nYear2020/W17/Kitting KPI Dashboard-W17.pdf\nYear2020/W17/prepared.csv\nYear2020/W17/raw.xlsx\nYear2020/W17/staged.csv\nYear2020/W18/Kitting KPI Dashboard - W18.pdf\nYear2020/W18/prepared.csv\nYear2020/W18/raw.xlsx\nYear2020/W18/staged.csv\nYear2020/W19/Kitting KPI Dashboard--W19.pdf\nYear2020/W19/prepared.csv\nYear2020/W19/raw.xlsx\nYear2020/W19/staged.csv\nYear2020/W20/Kitting KPI Dashboard -- W20.pdf\nYear2020/W20/prepared.csv\nYear2020/W20/raw.xlsx\nYear2020/W20/staged.csv\nYear2020/W21/Kitting KPI Dashboard -- W21.pdf\nYear2020/W21/prepared.csv\nYear2020/W21/raw.xlsx\nYear2020/W21/staged.csv\nYear2020/W22/Kitting KPI Dashboard -- W22.pdf\nYear2020/W22/prepared.csv\nYear2020/W22/raw.xlsx\nYear2020/W22/staged.csv\nYear2020/W23/Kitting KPI Dashboard -- W23.pdf\nYear2020/W23/prepared.csv\nYear2020/W23/raw.xlsx\nYear2020/W23/staged.csv\nYear2020/W24/Kitting KPI Dashboard - W24.pdf\nYear2020/W24/prepared.csv\nYear2020/W24/raw.xlsx\nYear2020/W24/staged.csv\nYear2020/W25/Kitting KPI Dashboard -- W25.pdf\nYear2020/W25/prepared.csv\nYear2020/W25/raw.xlsx\nYear2020/W25/staged.csv\nYear2020/W26/raw.xlsx\nYear2020/W27/prepared.csv\nYear2020/W27/raw.xlsx\nYear2020/W27/staged.csv\nYear2020/W28/prepared.csv\nYear2020/W28/raw.xlsx\nYear2020/W28/staged.csv\nYear2020/W29/prepared.csv\nYear2020/W29/raw.xlsx\nYear2020/W29/staged.csv\nYear2020/W30/Kitting KPI Dashboard_W30.pdf\nYear2020/W30/prepared.csv\nYear2020/W30/raw.xlsx\nYear2020/W30/staged.csv\nYear2020/W31/Kitting KPI Dashboard--W31.pdf\nYear2020/W31/prepared.csv\nYear2020/W31/raw.xlsx\nYear2020/W31/staged.csv\nYear2020/W32/Kitting KPI Dashboard_W32.pdf\nYear2020/W32/prepared.csv\nYear2020/W32/raw.xlsx\nYear2020/W32/staged.csv\nYear2020/W33/prepared.csv\nYear2020/W33/raw.xlsx\nYear2020/W33/staged.csv\nYear2020/W35/Kitting line performance overview -- W35.pdf\nYear2020/W35/Kitting line performance overview.pdf\nYear2020/W35/prepared.csv\nYear2020/W35/raw.xlsx\nYear2020/W35/staged.csv\nYear2020/W36/Kitting KPI Dashboard_customized_W36.pdf\nYear2020/W36/prepared.csv\nYear2020/W36/raw.xlsx\nYear2020/W36/staged.csv\nYear2020/W37/Kitting KPI Dashboard_W37.pdf\nYear2020/W37/prepared.csv\nYear2020/W37/raw.xlsx\nYear2020/W37/staged.csv\nYear2020/W38/prepared.csv\nYear2020/W38/raw.xlsx\nYear2020/W38/staged.csv\nYear2020/W39/Kitting KPI Dashboard_W39.pdf\nYear2020/W39/prepared.csv\nYear2020/W39/raw.xlsx\nYear2020/W39/staged.csv\nYear2020/W40/Kitting KPI Dashboard_W40.pdf\nYear2020/W40/prepared.csv\nYear2020/W40/raw.xlsx\nYear2020/W40/staged.csv\nYear2020/W41/prepared.csv\nYear2020/W41/prepared_.xlsx\nYear2020/W41/raw.xlsx\nYear2020/W41/staged.csv\nYear2020/W43/Kitting KPI Dashboard_W43.pdf\nYear2020/W43/prepared.csv\nYear2020/W43/raw.xlsx\nYear2020/W43/staged.csv\nYear2020/W44/Kitting KPI Dashboard_W44.pdf\nYear2020/W44/prepared.csv\nYear2020/W44/raw.xlsx\nYear2020/W44/staged.csv\nYear2020/W45/Kitting KPI Dashboard_W45.pdf\nYear2020/W45/prepared.csv\nYear2020/W45/raw.xlsx\nYear2020/W45/staged.csv\nYear2020/W46/prepared.csv\nYear2020/W46/raw.xlsx\nYear2020/W46/staged.csv\nYear2020/W47/Kitting KPI Dashboard_W47.pdf\nYear2020/W47/prepared.csv\nYear2020/W47/raw.xlsx\nYear2020/W47/staged.csv\nYear2020/W48/Kitting KPI Dashboard_W48.pdf\nYear2020/W48/W48.xlsx\nYear2020/W48/prepared.csv\nYear2020/W48/raw.xlsx\nYear2020/W48/staged.csv\nYear2020/W49/Kitting KPI Dashboard_W49.pdf\nYear2020/W49/prepared.csv\nYear2020/W49/raw.xlsx\nYear2020/W49/staged.csv\nYear2020/W50/prepared.csv\nYear2020/W50/raw.xlsx\nYear2020/W50/staged.csv\nYear2020/W51/Kitting KPI Dashboard_W51.pdf\nYear2020/W51/prepared.csv\nYear2020/W51/raw.xlsx\nYear2020/W51/staged.csv\nYear2020/W52/prepared.csv\nYear2020/W52/raw.xlsx\nYear2020/W52/staged.csv\nYear2020/W53/2020-53_raw.xlsx\nYear2020/W53/prepared.csv\nYear2020/W53/raw.xlsx\nYear2020/W53/staged.csv\n"
     ]
    }
   ],
   "source": [
    "for obj in bucket.list_blobs(prefix=None):\n",
    "    print(obj.name)"
   ]
  },
  {
   "cell_type": "code",
   "execution_count": 5,
   "metadata": {
    "tags": []
   },
   "outputs": [],
   "source": [
    "def download_from_gcs(gcs_folder, local_path):\n",
    "    \"\"\"\n",
    "    gcs_folder -- the blob storage of the weeks' data\n",
    "    local_path -- point to the desginated local folder \n",
    "    \"\"\"\n",
    "    for obj in bucket.list_blobs(prefix = gcs_folder):\n",
    "        fileName = obj.name.split('/')[-1]\n",
    "        obj.download_to_filename(os.path.join(local_path,fileName))"
   ]
  },
  {
   "cell_type": "code",
   "execution_count": 6,
   "metadata": {},
   "outputs": [],
   "source": [
    "cusomized_schema =[\n",
    "        bigquery.SchemaField(\"Start_Time\", \"TIMESTAMP\"),\n",
    "        bigquery.SchemaField(\"Finish_Time\", \"TIMESTAMP\"),\n",
    "        bigquery.SchemaField(\"Activity\", \"STRING\"),\n",
    "        bigquery.SchemaField(\"Seq_Code\", \"STRING\"),\n",
    "        bigquery.SchemaField(\"Recipe_Name\", \"STRING\"),\n",
    "        bigquery.SchemaField(\"Break_Reasons\", \"STRING\"),\n",
    "        bigquery.SchemaField(\"Missing_Ingredients\", \"STRING\"),\n",
    "        bigquery.SchemaField(\"Kitting_Line\", \"STRING\"),\n",
    "        bigquery.SchemaField(\"Assembly_Batch\", \"STRING\"),\n",
    "        bigquery.SchemaField(\"Event_Shift\", \"STRING\"),\n",
    "        bigquery.SchemaField(\"Team_Leader\", \"STRING\"),\n",
    "        bigquery.SchemaField(\"Pickers_Count\", \"INTEGER\"),\n",
    "        bigquery.SchemaField(\"Time_Consumption\", \"FLOAT\"),\n",
    "        bigquery.SchemaField(\"Week\", \"STRING\"),\n",
    "    ]"
   ]
  },
  {
   "cell_type": "code",
   "execution_count": 7,
   "metadata": {
    "tags": []
   },
   "outputs": [
    {
     "output_type": "stream",
     "name": "stdout",
     "text": [
      "PowerBI\nscanning_data_backup\ntest_data_set\n"
     ]
    }
   ],
   "source": [
    "bigquery_client = bigquery.Client(credentials=credentials, project=credentials.project_id)\n",
    "datasets = list(bigquery_client.list_datasets())\n",
    "for dataset in datasets:\n",
    "    print(dataset.dataset_id)"
   ]
  },
  {
   "cell_type": "code",
   "execution_count": 8,
   "metadata": {},
   "outputs": [
    {
     "output_type": "execute_result",
     "data": {
      "text/plain": [
       "google.cloud.bigquery.table.Table"
      ]
     },
     "metadata": {},
     "execution_count": 8
    }
   ],
   "source": [
    "type(bigquery_client.get_table('scanning-database.scanning_data_backup.W29')) #table reference"
   ]
  },
  {
   "cell_type": "code",
   "execution_count": 9,
   "metadata": {},
   "outputs": [],
   "source": [
    "def create_table(dataset_id, gcs_uri, new_table_id):\n",
    "    dataset_ref = bigquery_client.dataset(dataset_id) \n",
    "    job_config = bigquery.LoadJobConfig()\n",
    "    ##new way to configure job's arrtibutes\n",
    "    job_config.autodetect = True ## auto detect, default is False\n",
    "    # job_config.schema = cusomized_schema ## choose whether to use customized schema\n",
    "    # job_config.skip_leading_rows = 1 ## if auto detect then eliminate this\n",
    "    job_config.write_disposition = bigquery.WriteDisposition.WRITE_TRUNCATE\n",
    "    job_config.source_format = bigquery.SourceFormat.CSV\n",
    "    load_job = bigquery_client.load_table_from_uri(gcs_uri, dataset_ref.table(new_table_id), job_config=job_config)\n",
    "    print(\"Starting job {}\".format(load_job.job_id))\n",
    "    load_job.result()  # Waits for table load to complete.\n",
    "    print(\"Job finished.\")\n",
    "    destination_table = bigquery_client.get_table(dataset_ref.table(new_table_id))\n",
    "    print(\"Loaded {} rows.\".format(destination_table.num_rows))"
   ]
  },
  {
   "cell_type": "code",
   "execution_count": 10,
   "metadata": {},
   "outputs": [],
   "source": [
    "\"\"\"\n",
    "Change the directory week-by-week\n",
    "\"\"\"\n",
    "uri = \"gs://scanny-data-backup/W12/prepared.csv\" ## <= 1/2\n",
    "datasetID = \"scanning_data_backup\"\n",
    "new_table_name = \"2021-W12\" ## <= 2/2"
   ]
  },
  {
   "cell_type": "code",
   "execution_count": 11,
   "metadata": {
    "tags": []
   },
   "outputs": [
    {
     "output_type": "stream",
     "name": "stdout",
     "text": [
      "Starting job 60736fbb-9402-433b-8d1f-25f14941e5b1\n",
      "Job finished.\n",
      "Loaded 7864 rows.\n"
     ]
    }
   ],
   "source": [
    "create_table(datasetID, uri, new_table_name)"
   ]
  }
 ],
 "metadata": {
  "language_info": {
   "codemirror_mode": {
    "name": "ipython",
    "version": 3
   },
   "file_extension": ".py",
   "mimetype": "text/x-python",
   "name": "python",
   "nbconvert_exporter": "python",
   "pygments_lexer": "ipython3",
   "version": "3.8.6-final"
  },
  "orig_nbformat": 2,
  "kernelspec": {
   "name": "python38664bitpipetogpqpipenv6d7bf4315754424a9df6fb708c3fc6e9",
   "display_name": "Python 3.8.6 64-bit ('pipe-to-gpq': pipenv)",
   "language": "python"
  }
 },
 "nbformat": 4,
 "nbformat_minor": 2
}