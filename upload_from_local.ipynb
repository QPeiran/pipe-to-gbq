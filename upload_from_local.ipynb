{
 "cells": [
  {
   "cell_type": "code",
   "execution_count": 1,
   "metadata": {
    "tags": []
   },
   "outputs": [],
   "source": [
    "#!pip install --upgrade google-cloud-storage\n",
    "# conda list"
   ]
  },
  {
   "cell_type": "code",
   "execution_count": 2,
   "metadata": {
    "tags": []
   },
   "outputs": [],
   "source": [
    "from google.cloud import storage\n",
    "from google.oauth2 import service_account\n",
    "import glob\n"
   ]
  },
  {
   "cell_type": "code",
   "execution_count": 3,
   "metadata": {},
   "outputs": [],
   "source": [
    "key_path = \"./creds/service_acc_auth.json\"\n",
    "credentials = service_account.Credentials.from_service_account_file(key_path, scopes = [\"https://www.googleapis.com/auth/cloud-platform\"])"
   ]
  },
  {
   "cell_type": "code",
   "execution_count": 4,
   "metadata": {
    "tags": []
   },
   "outputs": [
    {
     "output_type": "stream",
     "name": "stdout",
     "text": "asia.artifacts.scanning-database.appspot.com\nfunction2sheet-event\nscanning-database.appspot.com\nscanny-data-backup\nstaging.scanning-database.appspot.com\n"
    }
   ],
   "source": [
    "storage_client = storage.Client(credentials=credentials, project=credentials.project_id)\n",
    "buckets = storage_client.list_buckets()\n",
    "for bucket in buckets:\n",
    "    print(bucket.name)\n",
    "# listing my buckets -- Connection Success!"
   ]
  },
  {
   "cell_type": "code",
   "execution_count": 5,
   "metadata": {},
   "outputs": [
    {
     "output_type": "execute_result",
     "data": {
      "text/plain": "google.cloud.storage.bucket.Bucket"
     },
     "metadata": {},
     "execution_count": 5
    }
   ],
   "source": [
    "ssd_bucket = 'scanny-data-backup'\n",
    "bucket = storage_client.get_bucket(ssd_bucket)\n",
    "type(bucket)"
   ]
  },
  {
   "cell_type": "code",
   "execution_count": 6,
   "metadata": {},
   "outputs": [],
   "source": [
    "def upload_blob(bucket_name, source_folder_name, destination_folder_name):\n",
    "    assert os.path.isdir(source_folder_name), \"Check Upload File Path !\"\n",
    "    bucket = storage_client.bucket(bucket_name)\n",
    "    for local_file in glob.glob(source_folder_name + '/**'):\n",
    "        file_name = os.path.basename(local_file)\n",
    "        destination_blob_name = os.path.join(destination_folder_name + \"/\", file_name)\n",
    "        blob = bucket.blob(destination_blob_name)\n",
    "        blob.upload_from_filename(local_file)\n",
    "        print(\n",
    "            \"File {} uploaded to {}.\".format(\n",
    "                local_file, destination_blob_name\n",
    "            )\n",
    "        )"
   ]
  },
  {
   "cell_type": "code",
   "execution_count": 7,
   "metadata": {},
   "outputs": [],
   "source": [
    "## test uploading\n",
    "# test_bucket = \"function2sheet-event\"\n",
    "# local_file = r\"C:\\Users\\Peiran Quan\\Desktop\\python_data_preparation\\prepared.csv\"\n",
    "# obj_name = \"new_test/prepared.csv\""
   ]
  },
  {
   "cell_type": "code",
   "execution_count": 8,
   "metadata": {},
   "outputs": [],
   "source": [
    "weekly_data_local_path = r\"C:\\Users\\Peiran Quan\\Desktop\\Data\\W29\" # Change the weekly directory\n",
    "weekly_data_storage_path = \"backup_by_weeks/Data/W29\""
   ]
  },
  {
   "cell_type": "code",
   "execution_count": 9,
   "metadata": {
    "tags": []
   },
   "outputs": [
    {
     "output_type": "stream",
     "name": "stdout",
     "text": "File C:\\Users\\Peiran Quan\\Desktop\\Data\\W29\\prepared.csv uploaded to backup_by_weeks/Data/W29/prepared.csv.\nFile C:\\Users\\Peiran Quan\\Desktop\\Data\\W29\\raw.xlsx uploaded to backup_by_weeks/Data/W29/raw.xlsx.\nFile C:\\Users\\Peiran Quan\\Desktop\\Data\\W29\\staged.csv uploaded to backup_by_weeks/Data/W29/staged.csv.\n"
    }
   ],
   "source": [
    "upload_blob(ssd_bucket, weekly_data_local_path, weekly_data_storage_path)"
   ]
  }
 ],
 "metadata": {
  "language_info": {
   "codemirror_mode": {
    "name": "ipython",
    "version": 3
   },
   "file_extension": ".py",
   "mimetype": "text/x-python",
   "name": "python",
   "nbconvert_exporter": "python",
   "pygments_lexer": "ipython3",
   "version": "3.8.3-final"
  },
  "orig_nbformat": 2,
  "kernelspec": {
   "name": "python38364bitgbqenvconda5076e19de0394e84b989fb80c83f72da",
   "display_name": "Python 3.8.3 64-bit ('gbq-env': conda)"
  }
 },
 "nbformat": 4,
 "nbformat_minor": 2
}