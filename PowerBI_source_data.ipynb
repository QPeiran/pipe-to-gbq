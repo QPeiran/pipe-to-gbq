{
 "metadata": {
  "language_info": {
   "codemirror_mode": {
    "name": "ipython",
    "version": 3
   },
   "file_extension": ".py",
   "mimetype": "text/x-python",
   "name": "python",
   "nbconvert_exporter": "python",
   "pygments_lexer": "ipython3",
   "version": "3.8.6-final"
  },
  "orig_nbformat": 2,
  "kernelspec": {
   "name": "Python 3.8.6 64-bit ('pipe-to-gpq': pipenv)",
   "display_name": "Python 3.8.6 64-bit ('pipe-to-gpq': pipenv)",
   "metadata": {
    "interpreter": {
     "hash": "2cc73edbe6a9987db876ddf9974c5b3c8d863b2585d3ab100eab75e4607f7b36"
    }
   }
  }
 },
 "nbformat": 4,
 "nbformat_minor": 2,
 "cells": [
  {
   "cell_type": "code",
   "execution_count": 1,
   "metadata": {},
   "outputs": [],
   "source": [
    "from google.cloud import bigquery\n",
    "from google.oauth2 import service_account\n",
    "key_path = \"./creds/service_acc_auth.json\"\n",
    "credentials = service_account.Credentials.from_service_account_file(key_path, scopes = [\"https://www.googleapis.com/auth/cloud-platform\"])\n",
    "bigquery_client = bigquery.Client(credentials=credentials, project=credentials.project_id)"
   ]
  },
  {
   "cell_type": "code",
   "execution_count": 2,
   "metadata": {},
   "outputs": [],
   "source": [
    "# query new data <= 1/1\n",
    "union_weeks = \"\"\"\n",
    "SELECT * , \n",
    "FROM `scanning-database.scanning_data_backup.W48`\n",
    "UNION ALL\n",
    "SELECT * , \n",
    "FROM `scanning-database.scanning_data_backup.W49`\n",
    "UNION ALL\n",
    "SELECT * , \n",
    "FROM `scanning-database.scanning_data_backup.W50`\n",
    "UNION ALL\n",
    "SELECT * , \n",
    "FROM `scanning-database.scanning_data_backup.W51`\n",
    "UNION ALL\n",
    "SELECT * , \n",
    "FROM `scanning-database.scanning_data_backup.W52`\n",
    "UNION ALL\n",
    "SELECT * , \n",
    "FROM `scanning-database.scanning_data_backup.W53`\n",
    "UNION ALL\n",
    "SELECT * , \n",
    "FROM `scanning-database.scanning_data_backup.W01`\n",
    "UNION ALL\n",
    "SELECT * , \n",
    "FROM `scanning-database.scanning_data_backup.W02`\n",
    "UNION ALL\n",
    "SELECT * , \n",
    "FROM `scanning-database.scanning_data_backup.W03`\n",
    "UNION ALL\n",
    "SELECT * , \n",
    "FROM `scanning-database.scanning_data_backup.2021-W04`\n",
    "UNION ALL\n",
    "SELECT * , \n",
    "FROM `scanning-database.scanning_data_backup.2021-W05`\n",
    "UNION ALL\n",
    "SELECT * , \n",
    "FROM `scanning-database.scanning_data_backup.2021-W06`\n",
    "\"\"\""
   ]
  },
  {
   "cell_type": "code",
   "execution_count": 3,
   "metadata": {},
   "outputs": [],
   "source": [
    "# Overwriting old PowerBI source data\n",
    "job_config = bigquery.QueryJobConfig(maximum_bytes_billed=10**10,\n",
    "destination = 'scanning-database.PowerBI.PowerBI',\n",
    "write_disposition = bigquery.WriteDisposition.WRITE_TRUNCATE\n",
    ") # set query limit to 10G\n",
    "query_job = bigquery_client.query(union_weeks, job_config)  # API request\n",
    "rows = query_job.result()  # Waits for query to finish\n",
    "data_in_use = rows.to_dataframe()"
   ]
  },
  {
   "cell_type": "code",
   "execution_count": 4,
   "metadata": {
    "tags": []
   },
   "outputs": [
    {
     "output_type": "execute_result",
     "data": {
      "text/plain": [
       "                     Start_Time               Finish_Time    Activity  \\\n",
       "3410  2021-02-07 13:10:13+00:00 2021-02-07 20:28:11+00:00       Break   \n",
       "24927 2021-02-07 19:12:00+00:00 2021-02-07 19:16:54+00:00  Production   \n",
       "41219 2021-02-05 07:02:22+00:00 2021-02-05 07:05:53+00:00  Production   \n",
       "24924 2021-02-07 15:27:43+00:00 2021-02-07 15:29:46+00:00  Production   \n",
       "41147 2021-02-05 07:55:56+00:00 2021-02-05 08:00:03+00:00  Production   \n",
       "\n",
       "           Seq_Code Recipe_Name Break_Reasons Missing_Ingredients  \\\n",
       "3410           None          N4   shift break                None   \n",
       "24927  0030 of 0061          B4          None                None   \n",
       "41219  0018 of 0064          A4          None                None   \n",
       "24924  0021 of 0031          F4          None                None   \n",
       "41147  0033 of 0064          A4          None                None   \n",
       "\n",
       "      Kitting_Line   Assembly_Batch       Event_Shift         Team_Leader  \\\n",
       "3410          KL14             None  Sunday Afternoon        Melanie Dua;   \n",
       "24927          KL3  Wed-NI Delivery  Sunday Afternoon   iXUsr_Erwin(7089)   \n",
       "41219          KL2  Sun-NI Delivery    Friday Morning  iXUsr_Ushida(8909)   \n",
       "24924          KL5  Wed-NI Delivery  Sunday Afternoon   iXUsr_Erwin(7089)   \n",
       "41147          KL2  Sun-NI Delivery    Friday Morning  iXUsr_Ushida(8909)   \n",
       "\n",
       "       Pickers_Count  Time_Consumption     Week  \n",
       "3410               3            437.97  2021-06  \n",
       "24927              4              4.90  2021-06  \n",
       "41219              2              3.52  2021-06  \n",
       "24924              4              2.05  2021-06  \n",
       "41147              2              4.12  2021-06  "
      ],
      "text/html": "<div>\n<style scoped>\n    .dataframe tbody tr th:only-of-type {\n        vertical-align: middle;\n    }\n\n    .dataframe tbody tr th {\n        vertical-align: top;\n    }\n\n    .dataframe thead th {\n        text-align: right;\n    }\n</style>\n<table border=\"1\" class=\"dataframe\">\n  <thead>\n    <tr style=\"text-align: right;\">\n      <th></th>\n      <th>Start_Time</th>\n      <th>Finish_Time</th>\n      <th>Activity</th>\n      <th>Seq_Code</th>\n      <th>Recipe_Name</th>\n      <th>Break_Reasons</th>\n      <th>Missing_Ingredients</th>\n      <th>Kitting_Line</th>\n      <th>Assembly_Batch</th>\n      <th>Event_Shift</th>\n      <th>Team_Leader</th>\n      <th>Pickers_Count</th>\n      <th>Time_Consumption</th>\n      <th>Week</th>\n    </tr>\n  </thead>\n  <tbody>\n    <tr>\n      <th>3410</th>\n      <td>2021-02-07 13:10:13+00:00</td>\n      <td>2021-02-07 20:28:11+00:00</td>\n      <td>Break</td>\n      <td>None</td>\n      <td>N4</td>\n      <td>shift break</td>\n      <td>None</td>\n      <td>KL14</td>\n      <td>None</td>\n      <td>Sunday Afternoon</td>\n      <td>Melanie Dua;</td>\n      <td>3</td>\n      <td>437.97</td>\n      <td>2021-06</td>\n    </tr>\n    <tr>\n      <th>24927</th>\n      <td>2021-02-07 19:12:00+00:00</td>\n      <td>2021-02-07 19:16:54+00:00</td>\n      <td>Production</td>\n      <td>0030 of 0061</td>\n      <td>B4</td>\n      <td>None</td>\n      <td>None</td>\n      <td>KL3</td>\n      <td>Wed-NI Delivery</td>\n      <td>Sunday Afternoon</td>\n      <td>iXUsr_Erwin(7089)</td>\n      <td>4</td>\n      <td>4.90</td>\n      <td>2021-06</td>\n    </tr>\n    <tr>\n      <th>41219</th>\n      <td>2021-02-05 07:02:22+00:00</td>\n      <td>2021-02-05 07:05:53+00:00</td>\n      <td>Production</td>\n      <td>0018 of 0064</td>\n      <td>A4</td>\n      <td>None</td>\n      <td>None</td>\n      <td>KL2</td>\n      <td>Sun-NI Delivery</td>\n      <td>Friday Morning</td>\n      <td>iXUsr_Ushida(8909)</td>\n      <td>2</td>\n      <td>3.52</td>\n      <td>2021-06</td>\n    </tr>\n    <tr>\n      <th>24924</th>\n      <td>2021-02-07 15:27:43+00:00</td>\n      <td>2021-02-07 15:29:46+00:00</td>\n      <td>Production</td>\n      <td>0021 of 0031</td>\n      <td>F4</td>\n      <td>None</td>\n      <td>None</td>\n      <td>KL5</td>\n      <td>Wed-NI Delivery</td>\n      <td>Sunday Afternoon</td>\n      <td>iXUsr_Erwin(7089)</td>\n      <td>4</td>\n      <td>2.05</td>\n      <td>2021-06</td>\n    </tr>\n    <tr>\n      <th>41147</th>\n      <td>2021-02-05 07:55:56+00:00</td>\n      <td>2021-02-05 08:00:03+00:00</td>\n      <td>Production</td>\n      <td>0033 of 0064</td>\n      <td>A4</td>\n      <td>None</td>\n      <td>None</td>\n      <td>KL2</td>\n      <td>Sun-NI Delivery</td>\n      <td>Friday Morning</td>\n      <td>iXUsr_Ushida(8909)</td>\n      <td>2</td>\n      <td>4.12</td>\n      <td>2021-06</td>\n    </tr>\n  </tbody>\n</table>\n</div>"
     },
     "metadata": {},
     "execution_count": 4
    }
   ],
   "source": [
    "data_in_use.sort_values(by=['Week']).tail()"
   ]
  },
  {
   "cell_type": "code",
   "execution_count": 5,
   "metadata": {},
   "outputs": [
    {
     "output_type": "execute_result",
     "data": {
      "text/plain": [
       "(62334, 14)"
      ]
     },
     "metadata": {},
     "execution_count": 5
    }
   ],
   "source": [
    "data_in_use.shape"
   ]
  },
  {
   "cell_type": "code",
   "execution_count": null,
   "metadata": {},
   "outputs": [],
   "source": []
  }
 ]
}