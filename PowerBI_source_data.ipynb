{
 "metadata": {
  "language_info": {
   "codemirror_mode": {
    "name": "ipython",
    "version": 3
   },
   "file_extension": ".py",
   "mimetype": "text/x-python",
   "name": "python",
   "nbconvert_exporter": "python",
   "pygments_lexer": "ipython3",
   "version": "3.8.6-final"
  },
  "orig_nbformat": 2,
  "kernelspec": {
   "name": "python_defaultSpec_1604957966993",
   "display_name": "Python 3.8.6 64-bit ('pipe-to-gpq': pipenv)"
  }
 },
 "nbformat": 4,
 "nbformat_minor": 2,
 "cells": [
  {
   "cell_type": "code",
   "execution_count": 1,
   "metadata": {},
   "outputs": [],
   "source": [
    "from google.cloud import bigquery\n",
    "from google.oauth2 import service_account\n",
    "key_path = \"./creds/service_acc_auth.json\"\n",
    "credentials = service_account.Credentials.from_service_account_file(key_path, scopes = [\"https://www.googleapis.com/auth/cloud-platform\"])\n",
    "bigquery_client = bigquery.Client(credentials=credentials, project=credentials.project_id)"
   ]
  },
  {
   "cell_type": "code",
   "execution_count": 2,
   "metadata": {},
   "outputs": [],
   "source": [
    "# query new data <= 1/1\n",
    "union_weeks = \"\"\"\n",
    "SELECT * , \n",
    "FROM `scanning-database.scanning_data_backup.W35`\n",
    "UNION ALL\n",
    "SELECT * , \n",
    "FROM `scanning-database.scanning_data_backup.W36`\n",
    "UNION ALL\n",
    "SELECT * , \n",
    "FROM `scanning-database.scanning_data_backup.W37`\n",
    "UNION ALL\n",
    "SELECT * , \n",
    "FROM `scanning-database.scanning_data_backup.W38`\n",
    "UNION ALL\n",
    "SELECT * , \n",
    "FROM `scanning-database.scanning_data_backup.W39`\n",
    "UNION ALL\n",
    "SELECT * , \n",
    "FROM `scanning-database.scanning_data_backup.W40`\n",
    "UNION ALL\n",
    "SELECT * , \n",
    "FROM `scanning-database.scanning_data_backup.W41`\n",
    "UNION ALL\n",
    "SELECT * , \n",
    "FROM `scanning-database.scanning_data_backup.W42`\n",
    "UNION ALL\n",
    "SELECT * , \n",
    "FROM `scanning-database.scanning_data_backup.W43`\n",
    "UNION ALL\n",
    "SELECT * , \n",
    "FROM `scanning-database.scanning_data_backup.W44`\n",
    "UNION ALL\n",
    "SELECT * , \n",
    "FROM `scanning-database.scanning_data_backup.W45`\n",
    "UNION ALL\n",
    "SELECT * , \n",
    "FROM `scanning-database.scanning_data_backup.W46`\n",
    "\"\"\""
   ]
  },
  {
   "cell_type": "code",
   "execution_count": 3,
   "metadata": {},
   "outputs": [],
   "source": [
    "# Overwriting old PowerBI source data\n",
    "job_config = bigquery.QueryJobConfig(maximum_bytes_billed=10**10,\n",
    "destination = 'scanning-database.PowerBI.PowerBI',\n",
    "write_disposition = bigquery.WriteDisposition.WRITE_TRUNCATE\n",
    ") # set query limit to 10G\n",
    "query_job = bigquery_client.query(union_weeks, job_config)  # API request\n",
    "rows = query_job.result()  # Waits for query to finish\n",
    "data_in_use = rows.to_dataframe()"
   ]
  },
  {
   "cell_type": "code",
   "execution_count": 4,
   "metadata": {},
   "outputs": [
    {
     "output_type": "execute_result",
     "data": {
      "text/plain": "                     Start_Time               Finish_Time    Activity  \\\n97040 2020-12-10 11:36:00+00:00 2020-12-10 11:41:00+00:00  Production   \n97041 2020-12-10 11:53:00+00:00 2020-12-10 11:53:00+00:00  Production   \n97042 2020-12-10 11:31:00+00:00 2020-12-10 11:36:00+00:00  Production   \n97043 2020-12-10 11:41:00+00:00 2020-12-10 11:47:00+00:00  Production   \n97044 2020-12-10 11:29:00+00:00 2020-12-10 11:31:00+00:00  Production   \n\n           Seq_Code Recipe_Name Break_Reasons Missing_Ingredients  \\\n97040  0004 of 0006          Q4          None                None   \n97041  0006 of 0006          Q4          None                None   \n97042  0003 of 0006          Q4          None                None   \n97043  0005 of 0006          Q4          None                None   \n97044  0002 of 0006          Q4          None                None   \n\n      Kitting_Line    Assembly_Batch       Event_Shift  \\\n97040         KL19  Tuesday Assembly  Thursday Morning   \n97041         KL19  Tuesday Assembly  Thursday Morning   \n97042         KL19  Tuesday Assembly  Thursday Morning   \n97043         KL19  Tuesday Assembly  Thursday Morning   \n97044         KL19  Tuesday Assembly  Thursday Morning   \n\n                                             Team_Leader  Pickers_Count  \\\n97040  iXUsr_Siti Rahmah Siregar 6092;iXUsr_Siti Rahm...              4   \n97041  iXUsr_Siti Rahmah Siregar 6092;iXUsr_Siti Rahm...              4   \n97042  iXUsr_Siti Rahmah Siregar 6092;iXUsr_Siti Rahm...              4   \n97043  iXUsr_Siti Rahmah Siregar 6092;iXUsr_Siti Rahm...              4   \n97044  iXUsr_Siti Rahmah Siregar 6092;iXUsr_Siti Rahm...              4   \n\n       Time_Consumption     Week  \n97040               5.0  2020-42  \n97041               0.0  2020-42  \n97042               5.0  2020-42  \n97043               6.0  2020-42  \n97044               2.0  2020-42  ",
      "text/html": "<div>\n<style scoped>\n    .dataframe tbody tr th:only-of-type {\n        vertical-align: middle;\n    }\n\n    .dataframe tbody tr th {\n        vertical-align: top;\n    }\n\n    .dataframe thead th {\n        text-align: right;\n    }\n</style>\n<table border=\"1\" class=\"dataframe\">\n  <thead>\n    <tr style=\"text-align: right;\">\n      <th></th>\n      <th>Start_Time</th>\n      <th>Finish_Time</th>\n      <th>Activity</th>\n      <th>Seq_Code</th>\n      <th>Recipe_Name</th>\n      <th>Break_Reasons</th>\n      <th>Missing_Ingredients</th>\n      <th>Kitting_Line</th>\n      <th>Assembly_Batch</th>\n      <th>Event_Shift</th>\n      <th>Team_Leader</th>\n      <th>Pickers_Count</th>\n      <th>Time_Consumption</th>\n      <th>Week</th>\n    </tr>\n  </thead>\n  <tbody>\n    <tr>\n      <th>97040</th>\n      <td>2020-12-10 11:36:00+00:00</td>\n      <td>2020-12-10 11:41:00+00:00</td>\n      <td>Production</td>\n      <td>0004 of 0006</td>\n      <td>Q4</td>\n      <td>None</td>\n      <td>None</td>\n      <td>KL19</td>\n      <td>Tuesday Assembly</td>\n      <td>Thursday Morning</td>\n      <td>iXUsr_Siti Rahmah Siregar 6092;iXUsr_Siti Rahm...</td>\n      <td>4</td>\n      <td>5.0</td>\n      <td>2020-42</td>\n    </tr>\n    <tr>\n      <th>97041</th>\n      <td>2020-12-10 11:53:00+00:00</td>\n      <td>2020-12-10 11:53:00+00:00</td>\n      <td>Production</td>\n      <td>0006 of 0006</td>\n      <td>Q4</td>\n      <td>None</td>\n      <td>None</td>\n      <td>KL19</td>\n      <td>Tuesday Assembly</td>\n      <td>Thursday Morning</td>\n      <td>iXUsr_Siti Rahmah Siregar 6092;iXUsr_Siti Rahm...</td>\n      <td>4</td>\n      <td>0.0</td>\n      <td>2020-42</td>\n    </tr>\n    <tr>\n      <th>97042</th>\n      <td>2020-12-10 11:31:00+00:00</td>\n      <td>2020-12-10 11:36:00+00:00</td>\n      <td>Production</td>\n      <td>0003 of 0006</td>\n      <td>Q4</td>\n      <td>None</td>\n      <td>None</td>\n      <td>KL19</td>\n      <td>Tuesday Assembly</td>\n      <td>Thursday Morning</td>\n      <td>iXUsr_Siti Rahmah Siregar 6092;iXUsr_Siti Rahm...</td>\n      <td>4</td>\n      <td>5.0</td>\n      <td>2020-42</td>\n    </tr>\n    <tr>\n      <th>97043</th>\n      <td>2020-12-10 11:41:00+00:00</td>\n      <td>2020-12-10 11:47:00+00:00</td>\n      <td>Production</td>\n      <td>0005 of 0006</td>\n      <td>Q4</td>\n      <td>None</td>\n      <td>None</td>\n      <td>KL19</td>\n      <td>Tuesday Assembly</td>\n      <td>Thursday Morning</td>\n      <td>iXUsr_Siti Rahmah Siregar 6092;iXUsr_Siti Rahm...</td>\n      <td>4</td>\n      <td>6.0</td>\n      <td>2020-42</td>\n    </tr>\n    <tr>\n      <th>97044</th>\n      <td>2020-12-10 11:29:00+00:00</td>\n      <td>2020-12-10 11:31:00+00:00</td>\n      <td>Production</td>\n      <td>0002 of 0006</td>\n      <td>Q4</td>\n      <td>None</td>\n      <td>None</td>\n      <td>KL19</td>\n      <td>Tuesday Assembly</td>\n      <td>Thursday Morning</td>\n      <td>iXUsr_Siti Rahmah Siregar 6092;iXUsr_Siti Rahm...</td>\n      <td>4</td>\n      <td>2.0</td>\n      <td>2020-42</td>\n    </tr>\n  </tbody>\n</table>\n</div>"
     },
     "metadata": {},
     "execution_count": 4
    }
   ],
   "source": [
    "data_in_use.tail()"
   ]
  },
  {
   "cell_type": "code",
   "execution_count": 5,
   "metadata": {},
   "outputs": [
    {
     "output_type": "execute_result",
     "data": {
      "text/plain": "(97045, 14)"
     },
     "metadata": {},
     "execution_count": 5
    }
   ],
   "source": [
    "data_in_use.shape"
   ]
  },
  {
   "cell_type": "code",
   "execution_count": null,
   "metadata": {},
   "outputs": [],
   "source": []
  }
 ]
}