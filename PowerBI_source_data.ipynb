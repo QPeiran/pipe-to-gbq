{
 "metadata": {
  "language_info": {
   "codemirror_mode": {
    "name": "ipython",
    "version": 3
   },
   "file_extension": ".py",
   "mimetype": "text/x-python",
   "name": "python",
   "nbconvert_exporter": "python",
   "pygments_lexer": "ipython3",
   "version": "3.8.6-final"
  },
  "orig_nbformat": 2,
  "kernelspec": {
   "name": "python38664bitpipetogpqpipenv6d7bf4315754424a9df6fb708c3fc6e9",
   "display_name": "Python 3.8.6 64-bit ('pipe-to-gpq': pipenv)"
  }
 },
 "nbformat": 4,
 "nbformat_minor": 2,
 "cells": [
  {
   "cell_type": "code",
   "execution_count": 1,
   "metadata": {},
   "outputs": [],
   "source": [
    "from google.cloud import bigquery\n",
    "from google.oauth2 import service_account\n",
    "key_path = \"./creds/service_acc_auth.json\"\n",
    "credentials = service_account.Credentials.from_service_account_file(key_path, scopes = [\"https://www.googleapis.com/auth/cloud-platform\"])\n",
    "bigquery_client = bigquery.Client(credentials=credentials, project=credentials.project_id)"
   ]
  },
  {
   "cell_type": "code",
   "execution_count": 2,
   "metadata": {},
   "outputs": [],
   "source": [
    "# query new data <= 1/1\n",
    "union_weeks = \"\"\"\n",
    "SELECT * , \n",
    "FROM `scanning-database.scanning_data_backup.W52`\n",
    "UNION ALL\n",
    "SELECT * , \n",
    "FROM `scanning-database.scanning_data_backup.W53`\n",
    "UNION ALL\n",
    "SELECT * , \n",
    "FROM `scanning-database.scanning_data_backup.W01`\n",
    "UNION ALL\n",
    "SELECT * , \n",
    "FROM `scanning-database.scanning_data_backup.W02`\n",
    "UNION ALL\n",
    "SELECT * , \n",
    "FROM `scanning-database.scanning_data_backup.W03`\n",
    "UNION ALL\n",
    "SELECT * , \n",
    "FROM `scanning-database.scanning_data_backup.2021-W04`\n",
    "UNION ALL\n",
    "SELECT * , \n",
    "FROM `scanning-database.scanning_data_backup.2021-W05`\n",
    "UNION ALL\n",
    "SELECT * , \n",
    "FROM `scanning-database.scanning_data_backup.2021-W06`\n",
    "UNION ALL\n",
    "SELECT * , \n",
    "FROM `scanning-database.scanning_data_backup.2021-W07`\n",
    "UNION ALL\n",
    "SELECT * , \n",
    "FROM `scanning-database.scanning_data_backup.2021-W08`\n",
    "UNION ALL\n",
    "SELECT * , \n",
    "FROM `scanning-database.scanning_data_backup.2021-W09`\n",
    "UNION ALL\n",
    "SELECT * , \n",
    "FROM `scanning-database.scanning_data_backup.2021-W10`\n",
    "\"\"\""
   ]
  },
  {
   "cell_type": "code",
   "execution_count": 3,
   "metadata": {},
   "outputs": [],
   "source": [
    "# Overwriting old PowerBI source data\n",
    "job_config = bigquery.QueryJobConfig(maximum_bytes_billed=10**10,\n",
    "destination = 'scanning-database.PowerBI.PowerBI',\n",
    "write_disposition = bigquery.WriteDisposition.WRITE_TRUNCATE\n",
    ") # set query limit to 10G\n",
    "query_job = bigquery_client.query(union_weeks, job_config)  # API request\n",
    "rows = query_job.result()  # Waits for query to finish\n",
    "data_in_use = rows.to_dataframe()"
   ]
  },
  {
   "cell_type": "code",
   "execution_count": 4,
   "metadata": {
    "tags": []
   },
   "outputs": [
    {
     "output_type": "execute_result",
     "data": {
      "text/plain": [
       "                     Start_Time               Finish_Time    Activity  \\\n",
       "34439 2021-03-05 14:56:37+00:00 2021-03-05 15:00:15+00:00  Production   \n",
       "34440 2021-03-05 15:42:01+00:00 2021-03-05 15:49:06+00:00  Production   \n",
       "34441 2021-03-05 10:46:12+00:00 2021-03-05 10:47:01+00:00  Production   \n",
       "23183 2021-03-07 07:05:53+00:00 2021-03-07 07:09:59+00:00  Production   \n",
       "0     2021-03-06 20:39:02+00:00 2021-03-06 20:39:26+00:00         TBD   \n",
       "\n",
       "           Seq_Code Recipe_Name Break_Reasons Missing_Ingredients  \\\n",
       "34439  0007 of 0023          E2          None                None   \n",
       "34440  0018 of 0023          E2          None                None   \n",
       "34441  0004 of 0005          O4          None                None   \n",
       "23183  0009 of 0009          F2          None                None   \n",
       "0              None          N2          None                None   \n",
       "\n",
       "      Kitting_Line   Assembly_Batch         Event_Shift  \\\n",
       "34439         KL18  Sun-NI Delivery    Friday Afternoon   \n",
       "34440         KL18  Sun-NI Delivery    Friday Afternoon   \n",
       "34441         KL20  Sun-NI Delivery      Friday Morning   \n",
       "23183         KL15  Mon-NI Delivery      Sunday Morning   \n",
       "0             KL17             None  Saturday Afternoon   \n",
       "\n",
       "                  Team_Leader  Pickers_Count  Time_Consumption     Week  \n",
       "34439      iXUsr_Pulaka(8293)              2              3.63  2021-10  \n",
       "34440      iXUsr_Pulaka(8293)              2              7.08  2021-10  \n",
       "34441       iXUsr_Tutai(7335)              2              0.82  2021-10  \n",
       "23183  iXUsr_Franchesca(8424)              4              4.10  2021-10  \n",
       "0                       DUmmy              0              0.40  2021-10  "
      ],
      "text/html": "<div>\n<style scoped>\n    .dataframe tbody tr th:only-of-type {\n        vertical-align: middle;\n    }\n\n    .dataframe tbody tr th {\n        vertical-align: top;\n    }\n\n    .dataframe thead th {\n        text-align: right;\n    }\n</style>\n<table border=\"1\" class=\"dataframe\">\n  <thead>\n    <tr style=\"text-align: right;\">\n      <th></th>\n      <th>Start_Time</th>\n      <th>Finish_Time</th>\n      <th>Activity</th>\n      <th>Seq_Code</th>\n      <th>Recipe_Name</th>\n      <th>Break_Reasons</th>\n      <th>Missing_Ingredients</th>\n      <th>Kitting_Line</th>\n      <th>Assembly_Batch</th>\n      <th>Event_Shift</th>\n      <th>Team_Leader</th>\n      <th>Pickers_Count</th>\n      <th>Time_Consumption</th>\n      <th>Week</th>\n    </tr>\n  </thead>\n  <tbody>\n    <tr>\n      <th>34439</th>\n      <td>2021-03-05 14:56:37+00:00</td>\n      <td>2021-03-05 15:00:15+00:00</td>\n      <td>Production</td>\n      <td>0007 of 0023</td>\n      <td>E2</td>\n      <td>None</td>\n      <td>None</td>\n      <td>KL18</td>\n      <td>Sun-NI Delivery</td>\n      <td>Friday Afternoon</td>\n      <td>iXUsr_Pulaka(8293)</td>\n      <td>2</td>\n      <td>3.63</td>\n      <td>2021-10</td>\n    </tr>\n    <tr>\n      <th>34440</th>\n      <td>2021-03-05 15:42:01+00:00</td>\n      <td>2021-03-05 15:49:06+00:00</td>\n      <td>Production</td>\n      <td>0018 of 0023</td>\n      <td>E2</td>\n      <td>None</td>\n      <td>None</td>\n      <td>KL18</td>\n      <td>Sun-NI Delivery</td>\n      <td>Friday Afternoon</td>\n      <td>iXUsr_Pulaka(8293)</td>\n      <td>2</td>\n      <td>7.08</td>\n      <td>2021-10</td>\n    </tr>\n    <tr>\n      <th>34441</th>\n      <td>2021-03-05 10:46:12+00:00</td>\n      <td>2021-03-05 10:47:01+00:00</td>\n      <td>Production</td>\n      <td>0004 of 0005</td>\n      <td>O4</td>\n      <td>None</td>\n      <td>None</td>\n      <td>KL20</td>\n      <td>Sun-NI Delivery</td>\n      <td>Friday Morning</td>\n      <td>iXUsr_Tutai(7335)</td>\n      <td>2</td>\n      <td>0.82</td>\n      <td>2021-10</td>\n    </tr>\n    <tr>\n      <th>23183</th>\n      <td>2021-03-07 07:05:53+00:00</td>\n      <td>2021-03-07 07:09:59+00:00</td>\n      <td>Production</td>\n      <td>0009 of 0009</td>\n      <td>F2</td>\n      <td>None</td>\n      <td>None</td>\n      <td>KL15</td>\n      <td>Mon-NI Delivery</td>\n      <td>Sunday Morning</td>\n      <td>iXUsr_Franchesca(8424)</td>\n      <td>4</td>\n      <td>4.10</td>\n      <td>2021-10</td>\n    </tr>\n    <tr>\n      <th>0</th>\n      <td>2021-03-06 20:39:02+00:00</td>\n      <td>2021-03-06 20:39:26+00:00</td>\n      <td>TBD</td>\n      <td>None</td>\n      <td>N2</td>\n      <td>None</td>\n      <td>None</td>\n      <td>KL17</td>\n      <td>None</td>\n      <td>Saturday Afternoon</td>\n      <td>DUmmy</td>\n      <td>0</td>\n      <td>0.40</td>\n      <td>2021-10</td>\n    </tr>\n  </tbody>\n</table>\n</div>"
     },
     "metadata": {},
     "execution_count": 4
    }
   ],
   "source": [
    "data_in_use.sort_values(by=['Week']).tail()"
   ]
  },
  {
   "cell_type": "code",
   "execution_count": 5,
   "metadata": {},
   "outputs": [
    {
     "output_type": "execute_result",
     "data": {
      "text/plain": [
       "(66051, 14)"
      ]
     },
     "metadata": {},
     "execution_count": 5
    }
   ],
   "source": [
    "data_in_use.shape"
   ]
  },
  {
   "cell_type": "code",
   "execution_count": null,
   "metadata": {},
   "outputs": [],
   "source": []
  }
 ]
}