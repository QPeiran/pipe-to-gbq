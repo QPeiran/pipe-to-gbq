{
 "metadata": {
  "language_info": {
   "codemirror_mode": {
    "name": "ipython",
    "version": 3
   },
   "file_extension": ".py",
   "mimetype": "text/x-python",
   "name": "python",
   "nbconvert_exporter": "python",
   "pygments_lexer": "ipython3",
   "version": "3.8.6-final"
  },
  "orig_nbformat": 2,
  "kernelspec": {
   "name": "Python 3.8.6 64-bit ('pipe-to-gpq': pipenv)",
   "display_name": "Python 3.8.6 64-bit ('pipe-to-gpq': pipenv)",
   "metadata": {
    "interpreter": {
     "hash": "2cc73edbe6a9987db876ddf9974c5b3c8d863b2585d3ab100eab75e4607f7b36"
    }
   }
  }
 },
 "nbformat": 4,
 "nbformat_minor": 2,
 "cells": [
  {
   "cell_type": "code",
   "execution_count": 1,
   "metadata": {},
   "outputs": [],
   "source": [
    "from google.cloud import bigquery\n",
    "from google.oauth2 import service_account\n",
    "key_path = \"./creds/service_acc_auth.json\"\n",
    "credentials = service_account.Credentials.from_service_account_file(key_path, scopes = [\"https://www.googleapis.com/auth/cloud-platform\"])\n",
    "bigquery_client = bigquery.Client(credentials=credentials, project=credentials.project_id)"
   ]
  },
  {
   "cell_type": "code",
   "execution_count": 2,
   "metadata": {},
   "outputs": [],
   "source": [
    "# query new data <= 1/1\n",
    "union_weeks = \"\"\"\n",
    "SELECT * , \n",
    "FROM `scanning-database.scanning_data_backup.W41`\n",
    "UNION ALL\n",
    "SELECT * , \n",
    "FROM `scanning-database.scanning_data_backup.W42`\n",
    "UNION ALL\n",
    "SELECT * , \n",
    "FROM `scanning-database.scanning_data_backup.W43`\n",
    "UNION ALL\n",
    "SELECT * , \n",
    "FROM `scanning-database.scanning_data_backup.W44`\n",
    "UNION ALL\n",
    "SELECT * , \n",
    "FROM `scanning-database.scanning_data_backup.W45`\n",
    "UNION ALL\n",
    "SELECT * , \n",
    "FROM `scanning-database.scanning_data_backup.W46`\n",
    "UNION ALL\n",
    "SELECT * , \n",
    "FROM `scanning-database.scanning_data_backup.W47`\n",
    "UNION ALL\n",
    "SELECT * , \n",
    "FROM `scanning-database.scanning_data_backup.W48`\n",
    "UNION ALL\n",
    "SELECT * , \n",
    "FROM `scanning-database.scanning_data_backup.W49`\n",
    "UNION ALL\n",
    "SELECT * , \n",
    "FROM `scanning-database.scanning_data_backup.W50`\n",
    "UNION ALL\n",
    "SELECT * , \n",
    "FROM `scanning-database.scanning_data_backup.W51`\n",
    "UNION ALL\n",
    "SELECT * , \n",
    "FROM `scanning-database.scanning_data_backup.W52`\n",
    "\"\"\""
   ]
  },
  {
   "cell_type": "code",
   "execution_count": 3,
   "metadata": {},
   "outputs": [],
   "source": [
    "# Overwriting old PowerBI source data\n",
    "job_config = bigquery.QueryJobConfig(maximum_bytes_billed=10**10,\n",
    "destination = 'scanning-database.PowerBI.PowerBI',\n",
    "write_disposition = bigquery.WriteDisposition.WRITE_TRUNCATE\n",
    ") # set query limit to 10G\n",
    "query_job = bigquery_client.query(union_weeks, job_config)  # API request\n",
    "rows = query_job.result()  # Waits for query to finish\n",
    "data_in_use = rows.to_dataframe()"
   ]
  },
  {
   "cell_type": "code",
   "execution_count": 4,
   "metadata": {
    "tags": []
   },
   "outputs": [
    {
     "output_type": "execute_result",
     "data": {
      "text/plain": [
       "                     Start_Time               Finish_Time    Activity  \\\n",
       "36900 2020-12-19 10:56:20+00:00 2020-12-19 11:02:07+00:00  Production   \n",
       "68790 2020-12-18 06:30:59+00:00 2020-12-18 06:34:26+00:00  Production   \n",
       "68791 2020-12-18 07:37:46+00:00 2020-12-18 07:41:22+00:00  Production   \n",
       "36933 2020-12-19 10:44:24+00:00 2020-12-19 10:47:59+00:00  Production   \n",
       "57233 2020-12-17 11:19:29+00:00 2020-12-17 11:25:17+00:00  Production   \n",
       "\n",
       "           Seq_Code Recipe_Name Break_Reasons Missing_Ingredients  \\\n",
       "36900  0005 of 0007          J2          None                None   \n",
       "68790  0005 of 0016          D2          None                None   \n",
       "68791  0004 of 0008          S2          None                None   \n",
       "36933  0002 of 0007          J2          None                None   \n",
       "57233  0005 of 0018          D4          None                None   \n",
       "\n",
       "      Kitting_Line     Assembly_Batch       Event_Shift  \\\n",
       "36900          KL4    Monday Assembly  Saturday Morning   \n",
       "68790          KL6  Saturday Assembly    Friday Morning   \n",
       "68791         KL17  Saturday Assembly    Friday Morning   \n",
       "36933          KL4    Monday Assembly  Saturday Morning   \n",
       "57233          KL6    Friday Assembly  Thursday Morning   \n",
       "\n",
       "                 Team_Leader  Pickers_Count  Time_Consumption     Week  \n",
       "36900      iXUsr_Tutai(7335)              4              5.78  2020-52  \n",
       "68790  iXUsr_Schwalger(7437)              4              3.45  2020-52  \n",
       "68791  iXUsr_Schwalger(7437)              4              3.60  2020-52  \n",
       "36933      iXUsr_Tutai(7335)              4              3.58  2020-52  \n",
       "57233     iXUsr_Ushida(8909)              2              5.80  2020-52  "
      ],
      "text/html": "<div>\n<style scoped>\n    .dataframe tbody tr th:only-of-type {\n        vertical-align: middle;\n    }\n\n    .dataframe tbody tr th {\n        vertical-align: top;\n    }\n\n    .dataframe thead th {\n        text-align: right;\n    }\n</style>\n<table border=\"1\" class=\"dataframe\">\n  <thead>\n    <tr style=\"text-align: right;\">\n      <th></th>\n      <th>Start_Time</th>\n      <th>Finish_Time</th>\n      <th>Activity</th>\n      <th>Seq_Code</th>\n      <th>Recipe_Name</th>\n      <th>Break_Reasons</th>\n      <th>Missing_Ingredients</th>\n      <th>Kitting_Line</th>\n      <th>Assembly_Batch</th>\n      <th>Event_Shift</th>\n      <th>Team_Leader</th>\n      <th>Pickers_Count</th>\n      <th>Time_Consumption</th>\n      <th>Week</th>\n    </tr>\n  </thead>\n  <tbody>\n    <tr>\n      <th>36900</th>\n      <td>2020-12-19 10:56:20+00:00</td>\n      <td>2020-12-19 11:02:07+00:00</td>\n      <td>Production</td>\n      <td>0005 of 0007</td>\n      <td>J2</td>\n      <td>None</td>\n      <td>None</td>\n      <td>KL4</td>\n      <td>Monday Assembly</td>\n      <td>Saturday Morning</td>\n      <td>iXUsr_Tutai(7335)</td>\n      <td>4</td>\n      <td>5.78</td>\n      <td>2020-52</td>\n    </tr>\n    <tr>\n      <th>68790</th>\n      <td>2020-12-18 06:30:59+00:00</td>\n      <td>2020-12-18 06:34:26+00:00</td>\n      <td>Production</td>\n      <td>0005 of 0016</td>\n      <td>D2</td>\n      <td>None</td>\n      <td>None</td>\n      <td>KL6</td>\n      <td>Saturday Assembly</td>\n      <td>Friday Morning</td>\n      <td>iXUsr_Schwalger(7437)</td>\n      <td>4</td>\n      <td>3.45</td>\n      <td>2020-52</td>\n    </tr>\n    <tr>\n      <th>68791</th>\n      <td>2020-12-18 07:37:46+00:00</td>\n      <td>2020-12-18 07:41:22+00:00</td>\n      <td>Production</td>\n      <td>0004 of 0008</td>\n      <td>S2</td>\n      <td>None</td>\n      <td>None</td>\n      <td>KL17</td>\n      <td>Saturday Assembly</td>\n      <td>Friday Morning</td>\n      <td>iXUsr_Schwalger(7437)</td>\n      <td>4</td>\n      <td>3.60</td>\n      <td>2020-52</td>\n    </tr>\n    <tr>\n      <th>36933</th>\n      <td>2020-12-19 10:44:24+00:00</td>\n      <td>2020-12-19 10:47:59+00:00</td>\n      <td>Production</td>\n      <td>0002 of 0007</td>\n      <td>J2</td>\n      <td>None</td>\n      <td>None</td>\n      <td>KL4</td>\n      <td>Monday Assembly</td>\n      <td>Saturday Morning</td>\n      <td>iXUsr_Tutai(7335)</td>\n      <td>4</td>\n      <td>3.58</td>\n      <td>2020-52</td>\n    </tr>\n    <tr>\n      <th>57233</th>\n      <td>2020-12-17 11:19:29+00:00</td>\n      <td>2020-12-17 11:25:17+00:00</td>\n      <td>Production</td>\n      <td>0005 of 0018</td>\n      <td>D4</td>\n      <td>None</td>\n      <td>None</td>\n      <td>KL6</td>\n      <td>Friday Assembly</td>\n      <td>Thursday Morning</td>\n      <td>iXUsr_Ushida(8909)</td>\n      <td>2</td>\n      <td>5.80</td>\n      <td>2020-52</td>\n    </tr>\n  </tbody>\n</table>\n</div>"
     },
     "metadata": {},
     "execution_count": 4
    }
   ],
   "source": [
    "data_in_use.sort_values(by=['Week']).tail()"
   ]
  },
  {
   "cell_type": "code",
   "execution_count": 5,
   "metadata": {},
   "outputs": [
    {
     "output_type": "execute_result",
     "data": {
      "text/plain": [
       "(83925, 14)"
      ]
     },
     "metadata": {},
     "execution_count": 5
    }
   ],
   "source": [
    "data_in_use.shape"
   ]
  },
  {
   "cell_type": "code",
   "execution_count": null,
   "metadata": {},
   "outputs": [],
   "source": []
  }
 ]
}