{
 "metadata": {
  "language_info": {
   "codemirror_mode": {
    "name": "ipython",
    "version": 3
   },
   "file_extension": ".py",
   "mimetype": "text/x-python",
   "name": "python",
   "nbconvert_exporter": "python",
   "pygments_lexer": "ipython3",
   "version": "3.8.6-final"
  },
  "orig_nbformat": 2,
  "kernelspec": {
   "name": "python38664bitpipetogpqpipenv6d7bf4315754424a9df6fb708c3fc6e9",
   "display_name": "Python 3.8.6 64-bit ('pipe-to-gpq': pipenv)"
  }
 },
 "nbformat": 4,
 "nbformat_minor": 2,
 "cells": [
  {
   "cell_type": "code",
   "execution_count": 1,
   "metadata": {},
   "outputs": [],
   "source": [
    "from google.cloud import bigquery\n",
    "from google.oauth2 import service_account\n",
    "key_path = \"./creds/service_acc_auth.json\"\n",
    "credentials = service_account.Credentials.from_service_account_file(key_path, scopes = [\"https://www.googleapis.com/auth/cloud-platform\"])\n",
    "bigquery_client = bigquery.Client(credentials=credentials, project=credentials.project_id)"
   ]
  },
  {
   "cell_type": "code",
   "execution_count": 2,
   "metadata": {},
   "outputs": [],
   "source": [
    "# query new data <= 1/1\n",
    "union_weeks = \"\"\"\n",
    "SELECT * , \n",
    "FROM `scanning-database.scanning_data_backup.W53`\n",
    "UNION ALL\n",
    "SELECT * , \n",
    "FROM `scanning-database.scanning_data_backup.W01`\n",
    "UNION ALL\n",
    "SELECT * , \n",
    "FROM `scanning-database.scanning_data_backup.W02`\n",
    "UNION ALL\n",
    "SELECT * , \n",
    "FROM `scanning-database.scanning_data_backup.W03`\n",
    "UNION ALL\n",
    "SELECT * , \n",
    "FROM `scanning-database.scanning_data_backup.2021-W04`\n",
    "UNION ALL\n",
    "SELECT * , \n",
    "FROM `scanning-database.scanning_data_backup.2021-W05`\n",
    "UNION ALL\n",
    "SELECT * , \n",
    "FROM `scanning-database.scanning_data_backup.2021-W06`\n",
    "UNION ALL\n",
    "SELECT * , \n",
    "FROM `scanning-database.scanning_data_backup.2021-W07`\n",
    "UNION ALL\n",
    "SELECT * , \n",
    "FROM `scanning-database.scanning_data_backup.2021-W08`\n",
    "UNION ALL\n",
    "SELECT * , \n",
    "FROM `scanning-database.scanning_data_backup.2021-W09`\n",
    "UNION ALL\n",
    "SELECT * , \n",
    "FROM `scanning-database.scanning_data_backup.2021-W10`\n",
    "UNION ALL\n",
    "SELECT * , \n",
    "FROM `scanning-database.scanning_data_backup.2021-W11`\n",
    "\"\"\""
   ]
  },
  {
   "cell_type": "code",
   "execution_count": 3,
   "metadata": {},
   "outputs": [],
   "source": [
    "# Overwriting old PowerBI source data\n",
    "job_config = bigquery.QueryJobConfig(maximum_bytes_billed=10**10,\n",
    "destination = 'scanning-database.PowerBI.PowerBI',\n",
    "write_disposition = bigquery.WriteDisposition.WRITE_TRUNCATE\n",
    ") # set query limit to 10G\n",
    "query_job = bigquery_client.query(union_weeks, job_config)  # API request\n",
    "rows = query_job.result()  # Waits for query to finish\n",
    "data_in_use = rows.to_dataframe()"
   ]
  },
  {
   "cell_type": "code",
   "execution_count": 4,
   "metadata": {
    "tags": []
   },
   "outputs": [
    {
     "output_type": "execute_result",
     "data": {
      "text/plain": [
       "                     Start_Time               Finish_Time    Activity  \\\n",
       "51668 2021-03-14 15:34:45+00:00 2021-03-14 15:35:12+00:00  Production   \n",
       "51667 2021-03-15 07:42:28+00:00 2021-03-15 07:44:40+00:00  Production   \n",
       "58651 2021-03-15 11:36:52+00:00 2021-03-15 11:39:47+00:00  Production   \n",
       "51666 2021-03-15 07:11:27+00:00 2021-03-15 07:15:10+00:00  Production   \n",
       "14339 2021-03-12 08:59:51+00:00 2021-03-12 09:03:00+00:00  Production   \n",
       "\n",
       "           Seq_Code Recipe_Name Break_Reasons Missing_Ingredients  \\\n",
       "51668  0047 of 0062          B2          None                None   \n",
       "51667  0038 of 0052          C4          None                None   \n",
       "58651  0013 of 0024          C4          None                None   \n",
       "51666  0032 of 0052          C4          None                None   \n",
       "14339          None          C4          None                None   \n",
       "\n",
       "      Kitting_Line   Assembly_Batch       Event_Shift        Team_Leader  \\\n",
       "51668         KL13  Tue-NI Delivery  Sunday Afternoon   iXUsr_Wang(9965)   \n",
       "51667          KL5  Tue-NI Delivery    Monday Morning  iXUsr_Desry(7294)   \n",
       "58651          KL5  Wed-NI Delivery    Monday Morning  iXUsr_Chang(8908)   \n",
       "51666          KL5  Tue-NI Delivery    Monday Morning  iXUsr_Desry(7294)   \n",
       "14339          KL5             None    Friday Morning   iXUsr_Gael(7447)   \n",
       "\n",
       "       Pickers_Count  Time_Consumption     Week  \n",
       "51668              4              0.45  2021-11  \n",
       "51667              4              2.20  2021-11  \n",
       "58651              5              2.92  2021-11  \n",
       "51666              4              3.72  2021-11  \n",
       "14339              4              3.15  2021-11  "
      ],
      "text/html": "<div>\n<style scoped>\n    .dataframe tbody tr th:only-of-type {\n        vertical-align: middle;\n    }\n\n    .dataframe tbody tr th {\n        vertical-align: top;\n    }\n\n    .dataframe thead th {\n        text-align: right;\n    }\n</style>\n<table border=\"1\" class=\"dataframe\">\n  <thead>\n    <tr style=\"text-align: right;\">\n      <th></th>\n      <th>Start_Time</th>\n      <th>Finish_Time</th>\n      <th>Activity</th>\n      <th>Seq_Code</th>\n      <th>Recipe_Name</th>\n      <th>Break_Reasons</th>\n      <th>Missing_Ingredients</th>\n      <th>Kitting_Line</th>\n      <th>Assembly_Batch</th>\n      <th>Event_Shift</th>\n      <th>Team_Leader</th>\n      <th>Pickers_Count</th>\n      <th>Time_Consumption</th>\n      <th>Week</th>\n    </tr>\n  </thead>\n  <tbody>\n    <tr>\n      <th>51668</th>\n      <td>2021-03-14 15:34:45+00:00</td>\n      <td>2021-03-14 15:35:12+00:00</td>\n      <td>Production</td>\n      <td>0047 of 0062</td>\n      <td>B2</td>\n      <td>None</td>\n      <td>None</td>\n      <td>KL13</td>\n      <td>Tue-NI Delivery</td>\n      <td>Sunday Afternoon</td>\n      <td>iXUsr_Wang(9965)</td>\n      <td>4</td>\n      <td>0.45</td>\n      <td>2021-11</td>\n    </tr>\n    <tr>\n      <th>51667</th>\n      <td>2021-03-15 07:42:28+00:00</td>\n      <td>2021-03-15 07:44:40+00:00</td>\n      <td>Production</td>\n      <td>0038 of 0052</td>\n      <td>C4</td>\n      <td>None</td>\n      <td>None</td>\n      <td>KL5</td>\n      <td>Tue-NI Delivery</td>\n      <td>Monday Morning</td>\n      <td>iXUsr_Desry(7294)</td>\n      <td>4</td>\n      <td>2.20</td>\n      <td>2021-11</td>\n    </tr>\n    <tr>\n      <th>58651</th>\n      <td>2021-03-15 11:36:52+00:00</td>\n      <td>2021-03-15 11:39:47+00:00</td>\n      <td>Production</td>\n      <td>0013 of 0024</td>\n      <td>C4</td>\n      <td>None</td>\n      <td>None</td>\n      <td>KL5</td>\n      <td>Wed-NI Delivery</td>\n      <td>Monday Morning</td>\n      <td>iXUsr_Chang(8908)</td>\n      <td>5</td>\n      <td>2.92</td>\n      <td>2021-11</td>\n    </tr>\n    <tr>\n      <th>51666</th>\n      <td>2021-03-15 07:11:27+00:00</td>\n      <td>2021-03-15 07:15:10+00:00</td>\n      <td>Production</td>\n      <td>0032 of 0052</td>\n      <td>C4</td>\n      <td>None</td>\n      <td>None</td>\n      <td>KL5</td>\n      <td>Tue-NI Delivery</td>\n      <td>Monday Morning</td>\n      <td>iXUsr_Desry(7294)</td>\n      <td>4</td>\n      <td>3.72</td>\n      <td>2021-11</td>\n    </tr>\n    <tr>\n      <th>14339</th>\n      <td>2021-03-12 08:59:51+00:00</td>\n      <td>2021-03-12 09:03:00+00:00</td>\n      <td>Production</td>\n      <td>None</td>\n      <td>C4</td>\n      <td>None</td>\n      <td>None</td>\n      <td>KL5</td>\n      <td>None</td>\n      <td>Friday Morning</td>\n      <td>iXUsr_Gael(7447)</td>\n      <td>4</td>\n      <td>3.15</td>\n      <td>2021-11</td>\n    </tr>\n  </tbody>\n</table>\n</div>"
     },
     "metadata": {},
     "execution_count": 4
    }
   ],
   "source": [
    "data_in_use.sort_values(by=['Week']).tail()"
   ]
  },
  {
   "cell_type": "code",
   "execution_count": 5,
   "metadata": {},
   "outputs": [
    {
     "output_type": "execute_result",
     "data": {
      "text/plain": [
       "(68475, 14)"
      ]
     },
     "metadata": {},
     "execution_count": 5
    }
   ],
   "source": [
    "data_in_use.shape"
   ]
  },
  {
   "cell_type": "code",
   "execution_count": null,
   "metadata": {},
   "outputs": [],
   "source": []
  }
 ]
}