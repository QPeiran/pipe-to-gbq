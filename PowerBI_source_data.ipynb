{
 "metadata": {
  "language_info": {
   "codemirror_mode": {
    "name": "ipython",
    "version": 3
   },
   "file_extension": ".py",
   "mimetype": "text/x-python",
   "name": "python",
   "nbconvert_exporter": "python",
   "pygments_lexer": "ipython3",
   "version": "3.8.3-final"
  },
  "orig_nbformat": 2,
  "kernelspec": {
   "name": "python38364bitgbqenvconda5076e19de0394e84b989fb80c83f72da",
   "display_name": "Python 3.8.3 64-bit ('gbq-env': conda)"
  }
 },
 "nbformat": 4,
 "nbformat_minor": 2,
 "cells": [
  {
   "cell_type": "code",
   "execution_count": 1,
   "metadata": {},
   "outputs": [],
   "source": [
    "from google.cloud import bigquery\n",
    "from google.oauth2 import service_account\n",
    "key_path = \"./creds/service_acc_auth.json\"\n",
    "credentials = service_account.Credentials.from_service_account_file(key_path, scopes = [\"https://www.googleapis.com/auth/cloud-platform\"])\n",
    "bigquery_client = bigquery.Client(credentials=credentials, project=credentials.project_id)"
   ]
  },
  {
   "cell_type": "code",
   "execution_count": 2,
   "metadata": {},
   "outputs": [],
   "source": [
    "# query new data\n",
    "union_weeks = \"\"\"\n",
    "SELECT * , \n",
    "FROM `scanning-database.scanning_data_backup.W20` \n",
    "UNION ALL\n",
    "SELECT * , \n",
    "FROM `scanning-database.scanning_data_backup.W21`\n",
    "UNION ALL\n",
    "SELECT * , \n",
    "FROM `scanning-database.scanning_data_backup.W22` \n",
    "UNION ALL\n",
    "SELECT * , \n",
    "FROM `scanning-database.scanning_data_backup.W23` \n",
    "UNION ALL\n",
    "SELECT * , \n",
    "FROM `scanning-database.scanning_data_backup.W24` \n",
    "UNION ALL\n",
    "SELECT * , \n",
    "FROM `scanning-database.scanning_data_backup.W25` \n",
    "UNION ALL\n",
    "SELECT * , \n",
    "FROM `scanning-database.scanning_data_backup.W26` \n",
    "UNION ALL\n",
    "SELECT * , \n",
    "FROM `scanning-database.scanning_data_backup.W27` \n",
    "UNION ALL\n",
    "SELECT * , \n",
    "FROM `scanning-database.scanning_data_backup.W28` \n",
    "UNION ALL\n",
    "SELECT * , \n",
    "FROM `scanning-database.scanning_data_backup.W29`\n",
    "UNION ALL\n",
    "SELECT * , \n",
    "FROM `scanning-database.scanning_data_backup.W30`\n",
    "\"\"\""
   ]
  },
  {
   "cell_type": "code",
   "execution_count": 3,
   "metadata": {},
   "outputs": [],
   "source": [
    "# Overwriting old PowerBI source data\n",
    "job_config = bigquery.QueryJobConfig(maximum_bytes_billed=10**10,\n",
    "destination = 'scanning-database.PowerBI.PowerBI',\n",
    "write_disposition = bigquery.WriteDisposition.WRITE_TRUNCATE\n",
    ") # set query limit to 10G\n",
    "query_job = bigquery_client.query(union_weeks, job_config)  # API request\n",
    "rows = query_job.result()  # Waits for query to finish\n",
    "data_in_use = rows.to_dataframe()"
   ]
  },
  {
   "cell_type": "code",
   "execution_count": 4,
   "metadata": {},
   "outputs": [
    {
     "output_type": "execute_result",
     "data": {
      "text/plain": "                 Start_Time               Finish_Time                Activity  \\\n0 2020-05-20 18:28:00+00:00 2020-05-20 18:28:00+00:00              Production   \n1 2020-05-24 06:27:00+00:00 2020-05-24 06:27:00+00:00  Preparation/Changeover   \n2 2020-06-05 13:30:00+00:00 2020-06-06 08:12:00+00:00          Factory Closed   \n3 2020-05-24 10:51:00+00:00 2020-05-24 10:51:00+00:00              Production   \n4 2020-05-31 10:45:00+00:00 2020-05-31 11:40:00+00:00                   Break   \n\n  Seq_Code Recipe_Name       Break_Reasons Missing_Ingredients Kitting_Line  \\\n0     None          F2                None                None          KL1   \n1     None          B4                None                None          KL9   \n2     None          H2                None                None          KL7   \n3     None          J4                None                None         KL15   \n4     None          R4  move to other line                None         KL18   \n\n  Assembly_Batch          Event_Shift Team_Leader  Pickers_Count  \\\n0           None  Wednesday Afternoon         Kim              0   \n1           None       Sunday Morning       Dummy              0   \n2           None     Saturday Morning        Test              0   \n3           None       Sunday Morning       Dummy              0   \n4           None       Sunday Morning       Dummy              0   \n\n   Time_Consumption     Week  \n0              0.22  2020-22  \n1              0.18  2020-22  \n2           1122.13  2020-24  \n3              0.22  2020-22  \n4             55.58  2020-23  ",
      "text/html": "<div>\n<style scoped>\n    .dataframe tbody tr th:only-of-type {\n        vertical-align: middle;\n    }\n\n    .dataframe tbody tr th {\n        vertical-align: top;\n    }\n\n    .dataframe thead th {\n        text-align: right;\n    }\n</style>\n<table border=\"1\" class=\"dataframe\">\n  <thead>\n    <tr style=\"text-align: right;\">\n      <th></th>\n      <th>Start_Time</th>\n      <th>Finish_Time</th>\n      <th>Activity</th>\n      <th>Seq_Code</th>\n      <th>Recipe_Name</th>\n      <th>Break_Reasons</th>\n      <th>Missing_Ingredients</th>\n      <th>Kitting_Line</th>\n      <th>Assembly_Batch</th>\n      <th>Event_Shift</th>\n      <th>Team_Leader</th>\n      <th>Pickers_Count</th>\n      <th>Time_Consumption</th>\n      <th>Week</th>\n    </tr>\n  </thead>\n  <tbody>\n    <tr>\n      <th>0</th>\n      <td>2020-05-20 18:28:00+00:00</td>\n      <td>2020-05-20 18:28:00+00:00</td>\n      <td>Production</td>\n      <td>None</td>\n      <td>F2</td>\n      <td>None</td>\n      <td>None</td>\n      <td>KL1</td>\n      <td>None</td>\n      <td>Wednesday Afternoon</td>\n      <td>Kim</td>\n      <td>0</td>\n      <td>0.22</td>\n      <td>2020-22</td>\n    </tr>\n    <tr>\n      <th>1</th>\n      <td>2020-05-24 06:27:00+00:00</td>\n      <td>2020-05-24 06:27:00+00:00</td>\n      <td>Preparation/Changeover</td>\n      <td>None</td>\n      <td>B4</td>\n      <td>None</td>\n      <td>None</td>\n      <td>KL9</td>\n      <td>None</td>\n      <td>Sunday Morning</td>\n      <td>Dummy</td>\n      <td>0</td>\n      <td>0.18</td>\n      <td>2020-22</td>\n    </tr>\n    <tr>\n      <th>2</th>\n      <td>2020-06-05 13:30:00+00:00</td>\n      <td>2020-06-06 08:12:00+00:00</td>\n      <td>Factory Closed</td>\n      <td>None</td>\n      <td>H2</td>\n      <td>None</td>\n      <td>None</td>\n      <td>KL7</td>\n      <td>None</td>\n      <td>Saturday Morning</td>\n      <td>Test</td>\n      <td>0</td>\n      <td>1122.13</td>\n      <td>2020-24</td>\n    </tr>\n    <tr>\n      <th>3</th>\n      <td>2020-05-24 10:51:00+00:00</td>\n      <td>2020-05-24 10:51:00+00:00</td>\n      <td>Production</td>\n      <td>None</td>\n      <td>J4</td>\n      <td>None</td>\n      <td>None</td>\n      <td>KL15</td>\n      <td>None</td>\n      <td>Sunday Morning</td>\n      <td>Dummy</td>\n      <td>0</td>\n      <td>0.22</td>\n      <td>2020-22</td>\n    </tr>\n    <tr>\n      <th>4</th>\n      <td>2020-05-31 10:45:00+00:00</td>\n      <td>2020-05-31 11:40:00+00:00</td>\n      <td>Break</td>\n      <td>None</td>\n      <td>R4</td>\n      <td>move to other line</td>\n      <td>None</td>\n      <td>KL18</td>\n      <td>None</td>\n      <td>Sunday Morning</td>\n      <td>Dummy</td>\n      <td>0</td>\n      <td>55.58</td>\n      <td>2020-23</td>\n    </tr>\n  </tbody>\n</table>\n</div>"
     },
     "metadata": {},
     "execution_count": 4
    }
   ],
   "source": [
    "data_in_use.head()"
   ]
  },
  {
   "cell_type": "code",
   "execution_count": 5,
   "metadata": {},
   "outputs": [
    {
     "output_type": "execute_result",
     "data": {
      "text/plain": "(78137, 14)"
     },
     "metadata": {},
     "execution_count": 5
    }
   ],
   "source": [
    "data_in_use.shape"
   ]
  }
 ]
}