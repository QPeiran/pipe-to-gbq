{
 "metadata": {
  "language_info": {
   "codemirror_mode": {
    "name": "ipython",
    "version": 3
   },
   "file_extension": ".py",
   "mimetype": "text/x-python",
   "name": "python",
   "nbconvert_exporter": "python",
   "pygments_lexer": "ipython3",
   "version": "3.8.6-final"
  },
  "orig_nbformat": 2,
  "kernelspec": {
   "name": "Python 3.8.6 64-bit ('pipe-to-gpq': pipenv)",
   "display_name": "Python 3.8.6 64-bit ('pipe-to-gpq': pipenv)",
   "metadata": {
    "interpreter": {
     "hash": "2cc73edbe6a9987db876ddf9974c5b3c8d863b2585d3ab100eab75e4607f7b36"
    }
   }
  }
 },
 "nbformat": 4,
 "nbformat_minor": 2,
 "cells": [
  {
   "cell_type": "code",
   "execution_count": 1,
   "metadata": {},
   "outputs": [],
   "source": [
    "from google.cloud import bigquery\n",
    "from google.oauth2 import service_account\n",
    "key_path = \"./creds/service_acc_auth.json\"\n",
    "credentials = service_account.Credentials.from_service_account_file(key_path, scopes = [\"https://www.googleapis.com/auth/cloud-platform\"])\n",
    "bigquery_client = bigquery.Client(credentials=credentials, project=credentials.project_id)"
   ]
  },
  {
   "cell_type": "code",
   "execution_count": 2,
   "metadata": {},
   "outputs": [],
   "source": [
    "# query new data <= 1/1\n",
    "union_weeks = \"\"\"\n",
    "SELECT * , \n",
    "FROM `scanning-database.scanning_data_backup.W47`\n",
    "UNION ALL\n",
    "SELECT * , \n",
    "FROM `scanning-database.scanning_data_backup.W48`\n",
    "UNION ALL\n",
    "SELECT * , \n",
    "FROM `scanning-database.scanning_data_backup.W49`\n",
    "UNION ALL\n",
    "SELECT * , \n",
    "FROM `scanning-database.scanning_data_backup.W50`\n",
    "UNION ALL\n",
    "SELECT * , \n",
    "FROM `scanning-database.scanning_data_backup.W51`\n",
    "UNION ALL\n",
    "SELECT * , \n",
    "FROM `scanning-database.scanning_data_backup.W52`\n",
    "UNION ALL\n",
    "SELECT * , \n",
    "FROM `scanning-database.scanning_data_backup.W53`\n",
    "UNION ALL\n",
    "SELECT * , \n",
    "FROM `scanning-database.scanning_data_backup.W01`\n",
    "UNION ALL\n",
    "SELECT * , \n",
    "FROM `scanning-database.scanning_data_backup.W02`\n",
    "UNION ALL\n",
    "SELECT * , \n",
    "FROM `scanning-database.scanning_data_backup.W03`\n",
    "UNION ALL\n",
    "SELECT * , \n",
    "FROM `scanning-database.scanning_data_backup.2021-W04`\n",
    "UNION ALL\n",
    "SELECT * , \n",
    "FROM `scanning-database.scanning_data_backup.2021-W05`\n",
    "\"\"\""
   ]
  },
  {
   "cell_type": "code",
   "execution_count": 3,
   "metadata": {},
   "outputs": [],
   "source": [
    "# Overwriting old PowerBI source data\n",
    "job_config = bigquery.QueryJobConfig(maximum_bytes_billed=10**10,\n",
    "destination = 'scanning-database.PowerBI.PowerBI',\n",
    "write_disposition = bigquery.WriteDisposition.WRITE_TRUNCATE\n",
    ") # set query limit to 10G\n",
    "query_job = bigquery_client.query(union_weeks, job_config)  # API request\n",
    "rows = query_job.result()  # Waits for query to finish\n",
    "data_in_use = rows.to_dataframe()"
   ]
  },
  {
   "cell_type": "code",
   "execution_count": 4,
   "metadata": {
    "tags": []
   },
   "outputs": [
    {
     "output_type": "execute_result",
     "data": {
      "text/plain": [
       "                     Start_Time               Finish_Time    Activity  \\\n",
       "37238 2021-01-28 16:58:59+00:00 2021-01-28 17:01:05+00:00  Production   \n",
       "37241 2021-01-28 16:32:00+00:00 2021-01-28 16:34:41+00:00  Production   \n",
       "9555  2021-01-30 07:28:24+00:00 2021-01-30 07:29:21+00:00  Production   \n",
       "16975 2021-01-29 17:45:12+00:00 2021-01-29 17:48:59+00:00  Production   \n",
       "13906 2021-01-28 09:02:10+00:00 2021-01-28 09:02:20+00:00  Production   \n",
       "\n",
       "           Seq_Code Recipe_Name Break_Reasons Missing_Ingredients  \\\n",
       "37238  0004 of 0004          P4          None                None   \n",
       "37241  0002 of 0003          U4          None                None   \n",
       "9555           None          B4          None                None   \n",
       "16975  0033 of 0051          B2          None                None   \n",
       "13906  0005 of 0017          D2          None                None   \n",
       "\n",
       "      Kitting_Line     Assembly_Batch         Event_Shift         Team_Leader  \\\n",
       "37238          KL1    Friday Assembly  Thursday Afternoon  iXUsr_Selina(6751)   \n",
       "37241          KL1    Friday Assembly  Thursday Afternoon  iXUsr_Selina(6751)   \n",
       "9555           KL3               None    Saturday Morning    iXUsr_Gael(7447)   \n",
       "16975          KL3  Saturday Assembly    Friday Afternoon    iXUsr_Peni(8294)   \n",
       "13906         KL10    Friday Assembly    Thursday Morning    iXUsr_Gwen(7292)   \n",
       "\n",
       "       Pickers_Count  Time_Consumption     Week  \n",
       "37238              4              2.10  2021-05  \n",
       "37241              4              2.68  2021-05  \n",
       "9555               5              0.95  2021-05  \n",
       "16975              3              3.78  2021-05  \n",
       "13906              3              0.17  2021-05  "
      ],
      "text/html": "<div>\n<style scoped>\n    .dataframe tbody tr th:only-of-type {\n        vertical-align: middle;\n    }\n\n    .dataframe tbody tr th {\n        vertical-align: top;\n    }\n\n    .dataframe thead th {\n        text-align: right;\n    }\n</style>\n<table border=\"1\" class=\"dataframe\">\n  <thead>\n    <tr style=\"text-align: right;\">\n      <th></th>\n      <th>Start_Time</th>\n      <th>Finish_Time</th>\n      <th>Activity</th>\n      <th>Seq_Code</th>\n      <th>Recipe_Name</th>\n      <th>Break_Reasons</th>\n      <th>Missing_Ingredients</th>\n      <th>Kitting_Line</th>\n      <th>Assembly_Batch</th>\n      <th>Event_Shift</th>\n      <th>Team_Leader</th>\n      <th>Pickers_Count</th>\n      <th>Time_Consumption</th>\n      <th>Week</th>\n    </tr>\n  </thead>\n  <tbody>\n    <tr>\n      <th>37238</th>\n      <td>2021-01-28 16:58:59+00:00</td>\n      <td>2021-01-28 17:01:05+00:00</td>\n      <td>Production</td>\n      <td>0004 of 0004</td>\n      <td>P4</td>\n      <td>None</td>\n      <td>None</td>\n      <td>KL1</td>\n      <td>Friday Assembly</td>\n      <td>Thursday Afternoon</td>\n      <td>iXUsr_Selina(6751)</td>\n      <td>4</td>\n      <td>2.10</td>\n      <td>2021-05</td>\n    </tr>\n    <tr>\n      <th>37241</th>\n      <td>2021-01-28 16:32:00+00:00</td>\n      <td>2021-01-28 16:34:41+00:00</td>\n      <td>Production</td>\n      <td>0002 of 0003</td>\n      <td>U4</td>\n      <td>None</td>\n      <td>None</td>\n      <td>KL1</td>\n      <td>Friday Assembly</td>\n      <td>Thursday Afternoon</td>\n      <td>iXUsr_Selina(6751)</td>\n      <td>4</td>\n      <td>2.68</td>\n      <td>2021-05</td>\n    </tr>\n    <tr>\n      <th>9555</th>\n      <td>2021-01-30 07:28:24+00:00</td>\n      <td>2021-01-30 07:29:21+00:00</td>\n      <td>Production</td>\n      <td>None</td>\n      <td>B4</td>\n      <td>None</td>\n      <td>None</td>\n      <td>KL3</td>\n      <td>None</td>\n      <td>Saturday Morning</td>\n      <td>iXUsr_Gael(7447)</td>\n      <td>5</td>\n      <td>0.95</td>\n      <td>2021-05</td>\n    </tr>\n    <tr>\n      <th>16975</th>\n      <td>2021-01-29 17:45:12+00:00</td>\n      <td>2021-01-29 17:48:59+00:00</td>\n      <td>Production</td>\n      <td>0033 of 0051</td>\n      <td>B2</td>\n      <td>None</td>\n      <td>None</td>\n      <td>KL3</td>\n      <td>Saturday Assembly</td>\n      <td>Friday Afternoon</td>\n      <td>iXUsr_Peni(8294)</td>\n      <td>3</td>\n      <td>3.78</td>\n      <td>2021-05</td>\n    </tr>\n    <tr>\n      <th>13906</th>\n      <td>2021-01-28 09:02:10+00:00</td>\n      <td>2021-01-28 09:02:20+00:00</td>\n      <td>Production</td>\n      <td>0005 of 0017</td>\n      <td>D2</td>\n      <td>None</td>\n      <td>None</td>\n      <td>KL10</td>\n      <td>Friday Assembly</td>\n      <td>Thursday Morning</td>\n      <td>iXUsr_Gwen(7292)</td>\n      <td>3</td>\n      <td>0.17</td>\n      <td>2021-05</td>\n    </tr>\n  </tbody>\n</table>\n</div>"
     },
     "metadata": {},
     "execution_count": 4
    }
   ],
   "source": [
    "data_in_use.sort_values(by=['Week']).tail()"
   ]
  },
  {
   "cell_type": "code",
   "execution_count": 5,
   "metadata": {},
   "outputs": [
    {
     "output_type": "execute_result",
     "data": {
      "text/plain": [
       "(63370, 14)"
      ]
     },
     "metadata": {},
     "execution_count": 5
    }
   ],
   "source": [
    "data_in_use.shape"
   ]
  },
  {
   "cell_type": "code",
   "execution_count": null,
   "metadata": {},
   "outputs": [],
   "source": []
  }
 ]
}