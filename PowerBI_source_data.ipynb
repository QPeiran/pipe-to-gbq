{
 "metadata": {
  "language_info": {
   "codemirror_mode": {
    "name": "ipython",
    "version": 3
   },
   "file_extension": ".py",
   "mimetype": "text/x-python",
   "name": "python",
   "nbconvert_exporter": "python",
   "pygments_lexer": "ipython3",
   "version": "3.8.3-final"
  },
  "orig_nbformat": 2,
  "kernelspec": {
   "name": "python38364bitgbqenvconda5076e19de0394e84b989fb80c83f72da",
   "display_name": "Python 3.8.3 64-bit ('gbq-env': conda)"
  }
 },
 "nbformat": 4,
 "nbformat_minor": 2,
 "cells": [
  {
   "cell_type": "code",
   "execution_count": 1,
   "metadata": {},
   "outputs": [],
   "source": [
    "from google.cloud import bigquery\n",
    "from google.oauth2 import service_account\n",
    "key_path = \"./creds/service_acc_auth.json\"\n",
    "credentials = service_account.Credentials.from_service_account_file(key_path, scopes = [\"https://www.googleapis.com/auth/cloud-platform\"])\n",
    "bigquery_client = bigquery.Client(credentials=credentials, project=credentials.project_id)"
   ]
  },
  {
   "cell_type": "code",
   "execution_count": 2,
   "metadata": {},
   "outputs": [],
   "source": [
    "# query new data\n",
    "union_weeks = \"\"\"\n",
    "SELECT * , \n",
    "FROM `scanning-database.scanning_data_backup.W20` \n",
    "UNION ALL\n",
    "SELECT * , \n",
    "FROM `scanning-database.scanning_data_backup.W21`\n",
    "UNION ALL\n",
    "SELECT * , \n",
    "FROM `scanning-database.scanning_data_backup.W22` \n",
    "UNION ALL\n",
    "SELECT * , \n",
    "FROM `scanning-database.scanning_data_backup.W23` \n",
    "UNION ALL\n",
    "SELECT * , \n",
    "FROM `scanning-database.scanning_data_backup.W24` \n",
    "UNION ALL\n",
    "SELECT * , \n",
    "FROM `scanning-database.scanning_data_backup.W25` \n",
    "UNION ALL\n",
    "SELECT * , \n",
    "FROM `scanning-database.scanning_data_backup.W26` \n",
    "UNION ALL\n",
    "SELECT * , \n",
    "FROM `scanning-database.scanning_data_backup.W27` \n",
    "UNION ALL\n",
    "SELECT * , \n",
    "FROM `scanning-database.scanning_data_backup.W28` \n",
    "UNION ALL\n",
    "SELECT * , \n",
    "FROM `scanning-database.scanning_data_backup.W29`\n",
    "UNION ALL\n",
    "SELECT * , \n",
    "FROM `scanning-database.scanning_data_backup.W30`\n",
    "UNION ALL\n",
    "SELECT * , \n",
    "FROM `scanning-database.scanning_data_backup.W31`\n",
    "\"\"\""
   ]
  },
  {
   "cell_type": "code",
   "execution_count": 3,
   "metadata": {},
   "outputs": [],
   "source": [
    "# Overwriting old PowerBI source data\n",
    "job_config = bigquery.QueryJobConfig(maximum_bytes_billed=10**10,\n",
    "destination = 'scanning-database.PowerBI.PowerBI',\n",
    "write_disposition = bigquery.WriteDisposition.WRITE_TRUNCATE\n",
    ") # set query limit to 10G\n",
    "query_job = bigquery_client.query(union_weeks, job_config)  # API request\n",
    "rows = query_job.result()  # Waits for query to finish\n",
    "data_in_use = rows.to_dataframe()"
   ]
  },
  {
   "cell_type": "code",
   "execution_count": 4,
   "metadata": {},
   "outputs": [
    {
     "output_type": "execute_result",
     "data": {
      "text/plain": "                 Start_Time               Finish_Time    Activity Seq_Code  \\\n0 2020-05-28 11:07:00+00:00 2020-05-28 11:07:00+00:00         TBD     None   \n1 2020-07-11 21:43:00+00:00 2020-07-11 22:26:00+00:00       Break     None   \n2 2020-07-11 14:33:00+00:00 2020-07-11 17:49:00+00:00       Break     None   \n3 2020-06-07 07:38:00+00:00 2020-06-07 07:38:00+00:00  Production     None   \n4 2020-06-06 10:45:00+00:00 2020-06-06 11:20:00+00:00       Break     None   \n\n  Recipe_Name       Break_Reasons Missing_Ingredients Kitting_Line  \\\n0          R4                None                None         KL18   \n1          SE  move to other line                None         KL10   \n2          A4  move to other line                None          KL2   \n3          K4                None                None         KL13   \n4          E4  move to other line                None          KL4   \n\n  Assembly_Batch         Event_Shift Team_Leader  Pickers_Count  \\\n0           None    Thursday Morning       Dummy              0   \n1           None  Saturday Afternoon       Dummy              0   \n2           None  Saturday Afternoon      Sanjay              0   \n3           None      Sunday Morning       Tarun              0   \n4           None    Saturday Morning       Tarun              0   \n\n   Time_Consumption     Week  \n0              0.28  2020-23  \n1             43.10  2020-29  \n2            196.37  2020-29  \n3              0.13  2020-24  \n4             34.43  2020-24  ",
      "text/html": "<div>\n<style scoped>\n    .dataframe tbody tr th:only-of-type {\n        vertical-align: middle;\n    }\n\n    .dataframe tbody tr th {\n        vertical-align: top;\n    }\n\n    .dataframe thead th {\n        text-align: right;\n    }\n</style>\n<table border=\"1\" class=\"dataframe\">\n  <thead>\n    <tr style=\"text-align: right;\">\n      <th></th>\n      <th>Start_Time</th>\n      <th>Finish_Time</th>\n      <th>Activity</th>\n      <th>Seq_Code</th>\n      <th>Recipe_Name</th>\n      <th>Break_Reasons</th>\n      <th>Missing_Ingredients</th>\n      <th>Kitting_Line</th>\n      <th>Assembly_Batch</th>\n      <th>Event_Shift</th>\n      <th>Team_Leader</th>\n      <th>Pickers_Count</th>\n      <th>Time_Consumption</th>\n      <th>Week</th>\n    </tr>\n  </thead>\n  <tbody>\n    <tr>\n      <th>0</th>\n      <td>2020-05-28 11:07:00+00:00</td>\n      <td>2020-05-28 11:07:00+00:00</td>\n      <td>TBD</td>\n      <td>None</td>\n      <td>R4</td>\n      <td>None</td>\n      <td>None</td>\n      <td>KL18</td>\n      <td>None</td>\n      <td>Thursday Morning</td>\n      <td>Dummy</td>\n      <td>0</td>\n      <td>0.28</td>\n      <td>2020-23</td>\n    </tr>\n    <tr>\n      <th>1</th>\n      <td>2020-07-11 21:43:00+00:00</td>\n      <td>2020-07-11 22:26:00+00:00</td>\n      <td>Break</td>\n      <td>None</td>\n      <td>SE</td>\n      <td>move to other line</td>\n      <td>None</td>\n      <td>KL10</td>\n      <td>None</td>\n      <td>Saturday Afternoon</td>\n      <td>Dummy</td>\n      <td>0</td>\n      <td>43.10</td>\n      <td>2020-29</td>\n    </tr>\n    <tr>\n      <th>2</th>\n      <td>2020-07-11 14:33:00+00:00</td>\n      <td>2020-07-11 17:49:00+00:00</td>\n      <td>Break</td>\n      <td>None</td>\n      <td>A4</td>\n      <td>move to other line</td>\n      <td>None</td>\n      <td>KL2</td>\n      <td>None</td>\n      <td>Saturday Afternoon</td>\n      <td>Sanjay</td>\n      <td>0</td>\n      <td>196.37</td>\n      <td>2020-29</td>\n    </tr>\n    <tr>\n      <th>3</th>\n      <td>2020-06-07 07:38:00+00:00</td>\n      <td>2020-06-07 07:38:00+00:00</td>\n      <td>Production</td>\n      <td>None</td>\n      <td>K4</td>\n      <td>None</td>\n      <td>None</td>\n      <td>KL13</td>\n      <td>None</td>\n      <td>Sunday Morning</td>\n      <td>Tarun</td>\n      <td>0</td>\n      <td>0.13</td>\n      <td>2020-24</td>\n    </tr>\n    <tr>\n      <th>4</th>\n      <td>2020-06-06 10:45:00+00:00</td>\n      <td>2020-06-06 11:20:00+00:00</td>\n      <td>Break</td>\n      <td>None</td>\n      <td>E4</td>\n      <td>move to other line</td>\n      <td>None</td>\n      <td>KL4</td>\n      <td>None</td>\n      <td>Saturday Morning</td>\n      <td>Tarun</td>\n      <td>0</td>\n      <td>34.43</td>\n      <td>2020-24</td>\n    </tr>\n  </tbody>\n</table>\n</div>"
     },
     "metadata": {},
     "execution_count": 4
    }
   ],
   "source": [
    "data_in_use.head()"
   ]
  },
  {
   "cell_type": "code",
   "execution_count": 5,
   "metadata": {},
   "outputs": [
    {
     "output_type": "execute_result",
     "data": {
      "text/plain": "(85271, 14)"
     },
     "metadata": {},
     "execution_count": 5
    }
   ],
   "source": [
    "data_in_use.shape"
   ]
  },
  {
   "cell_type": "code",
   "execution_count": null,
   "metadata": {},
   "outputs": [],
   "source": []
  }
 ]
}