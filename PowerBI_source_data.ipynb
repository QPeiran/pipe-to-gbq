{
 "metadata": {
  "language_info": {
   "codemirror_mode": {
    "name": "ipython",
    "version": 3
   },
   "file_extension": ".py",
   "mimetype": "text/x-python",
   "name": "python",
   "nbconvert_exporter": "python",
   "pygments_lexer": "ipython3",
   "version": "3.8.3-final"
  },
  "orig_nbformat": 2,
  "kernelspec": {
   "name": "python38364bitgbqenvconda5076e19de0394e84b989fb80c83f72da",
   "display_name": "Python 3.8.3 64-bit ('gbq-env': conda)"
  }
 },
 "nbformat": 4,
 "nbformat_minor": 2,
 "cells": [
  {
   "cell_type": "code",
   "execution_count": 1,
   "metadata": {},
   "outputs": [],
   "source": [
    "from google.cloud import bigquery\n",
    "from google.oauth2 import service_account\n",
    "key_path = \"./creds/service_acc_auth.json\"\n",
    "credentials = service_account.Credentials.from_service_account_file(key_path, scopes = [\"https://www.googleapis.com/auth/cloud-platform\"])\n",
    "bigquery_client = bigquery.Client(credentials=credentials, project=credentials.project_id)"
   ]
  },
  {
   "cell_type": "code",
   "execution_count": 2,
   "metadata": {},
   "outputs": [],
   "source": [
    "# query new data\n",
    "union_weeks = \"\"\"\n",
    "SELECT * , \n",
    "FROM `scanning-database.scanning_data_backup.W20` \n",
    "UNION ALL\n",
    "SELECT * , \n",
    "FROM `scanning-database.scanning_data_backup.W21`\n",
    "UNION ALL\n",
    "SELECT * , \n",
    "FROM `scanning-database.scanning_data_backup.W22` \n",
    "UNION ALL\n",
    "SELECT * , \n",
    "FROM `scanning-database.scanning_data_backup.W23` \n",
    "UNION ALL\n",
    "SELECT * , \n",
    "FROM `scanning-database.scanning_data_backup.W24` \n",
    "UNION ALL\n",
    "SELECT * , \n",
    "FROM `scanning-database.scanning_data_backup.W25` \n",
    "UNION ALL\n",
    "SELECT * , \n",
    "FROM `scanning-database.scanning_data_backup.W26` \n",
    "UNION ALL\n",
    "SELECT * , \n",
    "FROM `scanning-database.scanning_data_backup.W27` \n",
    "UNION ALL\n",
    "SELECT * , \n",
    "FROM `scanning-database.scanning_data_backup.W28` \n",
    "UNION ALL\n",
    "SELECT * , \n",
    "FROM `scanning-database.scanning_data_backup.W29`\n",
    "UNION ALL\n",
    "SELECT * , \n",
    "FROM `scanning-database.scanning_data_backup.W30`\n",
    "UNION ALL\n",
    "SELECT * , \n",
    "FROM `scanning-database.scanning_data_backup.W31`\n",
    "UNION ALL\n",
    "SELECT * , \n",
    "FROM `scanning-database.scanning_data_backup.W32`\n",
    "\"\"\""
   ]
  },
  {
   "cell_type": "code",
   "execution_count": 3,
   "metadata": {},
   "outputs": [],
   "source": [
    "# Overwriting old PowerBI source data\n",
    "job_config = bigquery.QueryJobConfig(maximum_bytes_billed=10**10,\n",
    "destination = 'scanning-database.PowerBI.PowerBI',\n",
    "write_disposition = bigquery.WriteDisposition.WRITE_TRUNCATE\n",
    ") # set query limit to 10G\n",
    "query_job = bigquery_client.query(union_weeks, job_config)  # API request\n",
    "rows = query_job.result()  # Waits for query to finish\n",
    "data_in_use = rows.to_dataframe()"
   ]
  },
  {
   "cell_type": "code",
   "execution_count": 4,
   "metadata": {},
   "outputs": [
    {
     "output_type": "execute_result",
     "data": {
      "text/plain": "                 Start_Time               Finish_Time                Activity  \\\n0 2020-05-21 08:43:00+00:00 2020-05-21 08:45:00+00:00                     TBD   \n1 2020-05-24 08:52:00+00:00 2020-05-24 08:56:00+00:00                   Break   \n2 2020-07-16 09:28:11+00:00 2020-07-16 09:28:29+00:00  Preparation/Changeover   \n3 2020-08-01 07:39:17+00:00 2020-08-01 09:52:59+00:00          Factory Closed   \n4 2020-06-06 16:54:00+00:00 2020-06-06 16:55:00+00:00                     TBD   \n\n  Seq_Code Recipe_Name       Break_Reasons Missing_Ingredients Kitting_Line  \\\n0     None          N4                None                None         KL19   \n1     None          J4  move to other line                None         KL15   \n2     None          F4                None                None         KL10   \n3     None          C4                None                None          KL3   \n4     None          J2                None                None          KL6   \n\n  Assembly_Batch         Event_Shift Team_Leader  Pickers_Count  \\\n0           None    Thursday Morning       Dummy              0   \n1           None      Sunday Morning       Dummy              0   \n2           None    Thursday Morning        Temp              0   \n3           None    Saturday Morning        Leon              0   \n4           None  Saturday Afternoon     William              0   \n\n   Time_Consumption     Week  \n0              1.73  2020-22  \n1              3.15  2020-22  \n2              0.30  2020-30  \n3            133.70  2020-32  \n4              1.32  2020-24  ",
      "text/html": "<div>\n<style scoped>\n    .dataframe tbody tr th:only-of-type {\n        vertical-align: middle;\n    }\n\n    .dataframe tbody tr th {\n        vertical-align: top;\n    }\n\n    .dataframe thead th {\n        text-align: right;\n    }\n</style>\n<table border=\"1\" class=\"dataframe\">\n  <thead>\n    <tr style=\"text-align: right;\">\n      <th></th>\n      <th>Start_Time</th>\n      <th>Finish_Time</th>\n      <th>Activity</th>\n      <th>Seq_Code</th>\n      <th>Recipe_Name</th>\n      <th>Break_Reasons</th>\n      <th>Missing_Ingredients</th>\n      <th>Kitting_Line</th>\n      <th>Assembly_Batch</th>\n      <th>Event_Shift</th>\n      <th>Team_Leader</th>\n      <th>Pickers_Count</th>\n      <th>Time_Consumption</th>\n      <th>Week</th>\n    </tr>\n  </thead>\n  <tbody>\n    <tr>\n      <th>0</th>\n      <td>2020-05-21 08:43:00+00:00</td>\n      <td>2020-05-21 08:45:00+00:00</td>\n      <td>TBD</td>\n      <td>None</td>\n      <td>N4</td>\n      <td>None</td>\n      <td>None</td>\n      <td>KL19</td>\n      <td>None</td>\n      <td>Thursday Morning</td>\n      <td>Dummy</td>\n      <td>0</td>\n      <td>1.73</td>\n      <td>2020-22</td>\n    </tr>\n    <tr>\n      <th>1</th>\n      <td>2020-05-24 08:52:00+00:00</td>\n      <td>2020-05-24 08:56:00+00:00</td>\n      <td>Break</td>\n      <td>None</td>\n      <td>J4</td>\n      <td>move to other line</td>\n      <td>None</td>\n      <td>KL15</td>\n      <td>None</td>\n      <td>Sunday Morning</td>\n      <td>Dummy</td>\n      <td>0</td>\n      <td>3.15</td>\n      <td>2020-22</td>\n    </tr>\n    <tr>\n      <th>2</th>\n      <td>2020-07-16 09:28:11+00:00</td>\n      <td>2020-07-16 09:28:29+00:00</td>\n      <td>Preparation/Changeover</td>\n      <td>None</td>\n      <td>F4</td>\n      <td>None</td>\n      <td>None</td>\n      <td>KL10</td>\n      <td>None</td>\n      <td>Thursday Morning</td>\n      <td>Temp</td>\n      <td>0</td>\n      <td>0.30</td>\n      <td>2020-30</td>\n    </tr>\n    <tr>\n      <th>3</th>\n      <td>2020-08-01 07:39:17+00:00</td>\n      <td>2020-08-01 09:52:59+00:00</td>\n      <td>Factory Closed</td>\n      <td>None</td>\n      <td>C4</td>\n      <td>None</td>\n      <td>None</td>\n      <td>KL3</td>\n      <td>None</td>\n      <td>Saturday Morning</td>\n      <td>Leon</td>\n      <td>0</td>\n      <td>133.70</td>\n      <td>2020-32</td>\n    </tr>\n    <tr>\n      <th>4</th>\n      <td>2020-06-06 16:54:00+00:00</td>\n      <td>2020-06-06 16:55:00+00:00</td>\n      <td>TBD</td>\n      <td>None</td>\n      <td>J2</td>\n      <td>None</td>\n      <td>None</td>\n      <td>KL6</td>\n      <td>None</td>\n      <td>Saturday Afternoon</td>\n      <td>William</td>\n      <td>0</td>\n      <td>1.32</td>\n      <td>2020-24</td>\n    </tr>\n  </tbody>\n</table>\n</div>"
     },
     "metadata": {},
     "execution_count": 4
    }
   ],
   "source": [
    "data_in_use.head()"
   ]
  },
  {
   "cell_type": "code",
   "execution_count": 5,
   "metadata": {},
   "outputs": [
    {
     "output_type": "execute_result",
     "data": {
      "text/plain": "(92833, 14)"
     },
     "metadata": {},
     "execution_count": 5
    }
   ],
   "source": [
    "data_in_use.shape"
   ]
  },
  {
   "cell_type": "code",
   "execution_count": null,
   "metadata": {},
   "outputs": [],
   "source": []
  }
 ]
}