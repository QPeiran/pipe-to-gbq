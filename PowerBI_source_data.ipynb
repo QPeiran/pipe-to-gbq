{
 "metadata": {
  "language_info": {
   "codemirror_mode": {
    "name": "ipython",
    "version": 3
   },
   "file_extension": ".py",
   "mimetype": "text/x-python",
   "name": "python",
   "nbconvert_exporter": "python",
   "pygments_lexer": "ipython3",
   "version": "3.8.6-final"
  },
  "orig_nbformat": 2,
  "kernelspec": {
   "name": "Python 3.8.6 64-bit ('pipe-to-gpq': pipenv)",
   "display_name": "Python 3.8.6 64-bit ('pipe-to-gpq': pipenv)",
   "metadata": {
    "interpreter": {
     "hash": "2cc73edbe6a9987db876ddf9974c5b3c8d863b2585d3ab100eab75e4607f7b36"
    }
   }
  }
 },
 "nbformat": 4,
 "nbformat_minor": 2,
 "cells": [
  {
   "cell_type": "code",
   "execution_count": 1,
   "metadata": {},
   "outputs": [],
   "source": [
    "from google.cloud import bigquery\n",
    "from google.oauth2 import service_account\n",
    "key_path = \"./creds/service_acc_auth.json\"\n",
    "credentials = service_account.Credentials.from_service_account_file(key_path, scopes = [\"https://www.googleapis.com/auth/cloud-platform\"])\n",
    "bigquery_client = bigquery.Client(credentials=credentials, project=credentials.project_id)"
   ]
  },
  {
   "cell_type": "code",
   "execution_count": 2,
   "metadata": {},
   "outputs": [],
   "source": [
    "# query new data <= 1/1\n",
    "union_weeks = \"\"\"\n",
    "SELECT * , \n",
    "FROM `scanning-database.scanning_data_backup.W39`\n",
    "UNION ALL\n",
    "SELECT * , \n",
    "FROM `scanning-database.scanning_data_backup.W40`\n",
    "UNION ALL\n",
    "SELECT * , \n",
    "FROM `scanning-database.scanning_data_backup.W41`\n",
    "UNION ALL\n",
    "SELECT * , \n",
    "FROM `scanning-database.scanning_data_backup.W42`\n",
    "UNION ALL\n",
    "SELECT * , \n",
    "FROM `scanning-database.scanning_data_backup.W43`\n",
    "UNION ALL\n",
    "SELECT * , \n",
    "FROM `scanning-database.scanning_data_backup.W44`\n",
    "UNION ALL\n",
    "SELECT * , \n",
    "FROM `scanning-database.scanning_data_backup.W45`\n",
    "UNION ALL\n",
    "SELECT * , \n",
    "FROM `scanning-database.scanning_data_backup.W46`\n",
    "UNION ALL\n",
    "SELECT * , \n",
    "FROM `scanning-database.scanning_data_backup.W47`\n",
    "UNION ALL\n",
    "SELECT * , \n",
    "FROM `scanning-database.scanning_data_backup.W48`\n",
    "UNION ALL\n",
    "SELECT * , \n",
    "FROM `scanning-database.scanning_data_backup.W49`\n",
    "UNION ALL\n",
    "SELECT * , \n",
    "FROM `scanning-database.scanning_data_backup.W50`\n",
    "\"\"\""
   ]
  },
  {
   "cell_type": "code",
   "execution_count": 3,
   "metadata": {},
   "outputs": [],
   "source": [
    "# Overwriting old PowerBI source data\n",
    "job_config = bigquery.QueryJobConfig(maximum_bytes_billed=10**10,\n",
    "destination = 'scanning-database.PowerBI.PowerBI',\n",
    "write_disposition = bigquery.WriteDisposition.WRITE_TRUNCATE\n",
    ") # set query limit to 10G\n",
    "query_job = bigquery_client.query(union_weeks, job_config)  # API request\n",
    "rows = query_job.result()  # Waits for query to finish\n",
    "data_in_use = rows.to_dataframe()"
   ]
  },
  {
   "cell_type": "code",
   "execution_count": 4,
   "metadata": {
    "tags": []
   },
   "outputs": [
    {
     "output_type": "execute_result",
     "data": {
      "text/plain": [
       "                     Start_Time               Finish_Time        Activity  \\\n",
       "77552 2020-12-06 15:14:45+00:00 2020-12-06 15:15:03+00:00      Production   \n",
       "33557 2020-12-04 09:38:14+00:00 2020-12-04 19:26:27+00:00  Factory Closed   \n",
       "33556 2020-12-04 16:02:14+00:00 2020-12-04 16:02:49+00:00      Production   \n",
       "77533 2020-12-06 21:27:30+00:00 2020-12-06 21:30:05+00:00      Production   \n",
       "77681 2020-12-06 15:34:32+00:00 2020-12-06 15:40:16+00:00      Production   \n",
       "\n",
       "           Seq_Code Recipe_Name Break_Reasons Missing_Ingredients  \\\n",
       "77552          None          P4          None                None   \n",
       "33557          None          N2          None                None   \n",
       "33556          None          A2          None                None   \n",
       "77533          None          L4          None                None   \n",
       "77681  0004 of 0010          H4          None                None   \n",
       "\n",
       "      Kitting_Line   Assembly_Batch       Event_Shift             Team_Leader  \\\n",
       "77552         KL15             None  Sunday Afternoon  iXUsr_Harrington(9659)   \n",
       "33557         KL17             None  Friday Afternoon       iXUsr_Chang(8908)   \n",
       "33556          KL2             None  Friday Afternoon       iXUsr_Chang(8908)   \n",
       "77533         KL13             None  Sunday Afternoon  iXUsr_Harrington(9659)   \n",
       "77681         KL16  Monday Assembly  Sunday Afternoon  iXUsr_Harrington(9659)   \n",
       "\n",
       "       Pickers_Count  Time_Consumption     Week  \n",
       "77552              3              0.30  2020-50  \n",
       "33557              3            588.22  2020-50  \n",
       "33556              3              0.58  2020-50  \n",
       "77533              2              2.58  2020-50  \n",
       "77681              2              5.73  2020-50  "
      ],
      "text/html": "<div>\n<style scoped>\n    .dataframe tbody tr th:only-of-type {\n        vertical-align: middle;\n    }\n\n    .dataframe tbody tr th {\n        vertical-align: top;\n    }\n\n    .dataframe thead th {\n        text-align: right;\n    }\n</style>\n<table border=\"1\" class=\"dataframe\">\n  <thead>\n    <tr style=\"text-align: right;\">\n      <th></th>\n      <th>Start_Time</th>\n      <th>Finish_Time</th>\n      <th>Activity</th>\n      <th>Seq_Code</th>\n      <th>Recipe_Name</th>\n      <th>Break_Reasons</th>\n      <th>Missing_Ingredients</th>\n      <th>Kitting_Line</th>\n      <th>Assembly_Batch</th>\n      <th>Event_Shift</th>\n      <th>Team_Leader</th>\n      <th>Pickers_Count</th>\n      <th>Time_Consumption</th>\n      <th>Week</th>\n    </tr>\n  </thead>\n  <tbody>\n    <tr>\n      <th>77552</th>\n      <td>2020-12-06 15:14:45+00:00</td>\n      <td>2020-12-06 15:15:03+00:00</td>\n      <td>Production</td>\n      <td>None</td>\n      <td>P4</td>\n      <td>None</td>\n      <td>None</td>\n      <td>KL15</td>\n      <td>None</td>\n      <td>Sunday Afternoon</td>\n      <td>iXUsr_Harrington(9659)</td>\n      <td>3</td>\n      <td>0.30</td>\n      <td>2020-50</td>\n    </tr>\n    <tr>\n      <th>33557</th>\n      <td>2020-12-04 09:38:14+00:00</td>\n      <td>2020-12-04 19:26:27+00:00</td>\n      <td>Factory Closed</td>\n      <td>None</td>\n      <td>N2</td>\n      <td>None</td>\n      <td>None</td>\n      <td>KL17</td>\n      <td>None</td>\n      <td>Friday Afternoon</td>\n      <td>iXUsr_Chang(8908)</td>\n      <td>3</td>\n      <td>588.22</td>\n      <td>2020-50</td>\n    </tr>\n    <tr>\n      <th>33556</th>\n      <td>2020-12-04 16:02:14+00:00</td>\n      <td>2020-12-04 16:02:49+00:00</td>\n      <td>Production</td>\n      <td>None</td>\n      <td>A2</td>\n      <td>None</td>\n      <td>None</td>\n      <td>KL2</td>\n      <td>None</td>\n      <td>Friday Afternoon</td>\n      <td>iXUsr_Chang(8908)</td>\n      <td>3</td>\n      <td>0.58</td>\n      <td>2020-50</td>\n    </tr>\n    <tr>\n      <th>77533</th>\n      <td>2020-12-06 21:27:30+00:00</td>\n      <td>2020-12-06 21:30:05+00:00</td>\n      <td>Production</td>\n      <td>None</td>\n      <td>L4</td>\n      <td>None</td>\n      <td>None</td>\n      <td>KL13</td>\n      <td>None</td>\n      <td>Sunday Afternoon</td>\n      <td>iXUsr_Harrington(9659)</td>\n      <td>2</td>\n      <td>2.58</td>\n      <td>2020-50</td>\n    </tr>\n    <tr>\n      <th>77681</th>\n      <td>2020-12-06 15:34:32+00:00</td>\n      <td>2020-12-06 15:40:16+00:00</td>\n      <td>Production</td>\n      <td>0004 of 0010</td>\n      <td>H4</td>\n      <td>None</td>\n      <td>None</td>\n      <td>KL16</td>\n      <td>Monday Assembly</td>\n      <td>Sunday Afternoon</td>\n      <td>iXUsr_Harrington(9659)</td>\n      <td>2</td>\n      <td>5.73</td>\n      <td>2020-50</td>\n    </tr>\n  </tbody>\n</table>\n</div>"
     },
     "metadata": {},
     "execution_count": 4
    }
   ],
   "source": [
    "data_in_use.sort_values(by=['Week']).tail()"
   ]
  },
  {
   "cell_type": "code",
   "execution_count": 5,
   "metadata": {},
   "outputs": [
    {
     "output_type": "execute_result",
     "data": {
      "text/plain": [
       "(90539, 14)"
      ]
     },
     "metadata": {},
     "execution_count": 5
    }
   ],
   "source": [
    "data_in_use.shape"
   ]
  },
  {
   "cell_type": "code",
   "execution_count": null,
   "metadata": {},
   "outputs": [],
   "source": []
  }
 ]
}