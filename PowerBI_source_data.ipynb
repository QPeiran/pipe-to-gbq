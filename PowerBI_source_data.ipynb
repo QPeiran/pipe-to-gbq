{
 "metadata": {
  "language_info": {
   "codemirror_mode": {
    "name": "ipython",
    "version": 3
   },
   "file_extension": ".py",
   "mimetype": "text/x-python",
   "name": "python",
   "nbconvert_exporter": "python",
   "pygments_lexer": "ipython3",
   "version": "3.8.6-final"
  },
  "orig_nbformat": 2,
  "kernelspec": {
   "name": "Python 3.8.6 64-bit ('pipe-to-gpq': pipenv)",
   "display_name": "Python 3.8.6 64-bit ('pipe-to-gpq': pipenv)",
   "metadata": {
    "interpreter": {
     "hash": "2cc73edbe6a9987db876ddf9974c5b3c8d863b2585d3ab100eab75e4607f7b36"
    }
   }
  }
 },
 "nbformat": 4,
 "nbformat_minor": 2,
 "cells": [
  {
   "cell_type": "code",
   "execution_count": 1,
   "metadata": {},
   "outputs": [],
   "source": [
    "from google.cloud import bigquery\n",
    "from google.oauth2 import service_account\n",
    "key_path = \"./creds/service_acc_auth.json\"\n",
    "credentials = service_account.Credentials.from_service_account_file(key_path, scopes = [\"https://www.googleapis.com/auth/cloud-platform\"])\n",
    "bigquery_client = bigquery.Client(credentials=credentials, project=credentials.project_id)"
   ]
  },
  {
   "cell_type": "code",
   "execution_count": 2,
   "metadata": {},
   "outputs": [],
   "source": [
    "# query new data <= 1/1\n",
    "union_weeks = \"\"\"\n",
    "SELECT * , \n",
    "FROM `scanning-database.scanning_data_backup.W38`\n",
    "UNION ALL\n",
    "SELECT * , \n",
    "FROM `scanning-database.scanning_data_backup.W39`\n",
    "UNION ALL\n",
    "SELECT * , \n",
    "FROM `scanning-database.scanning_data_backup.W40`\n",
    "UNION ALL\n",
    "SELECT * , \n",
    "FROM `scanning-database.scanning_data_backup.W41`\n",
    "UNION ALL\n",
    "SELECT * , \n",
    "FROM `scanning-database.scanning_data_backup.W42`\n",
    "UNION ALL\n",
    "SELECT * , \n",
    "FROM `scanning-database.scanning_data_backup.W43`\n",
    "UNION ALL\n",
    "SELECT * , \n",
    "FROM `scanning-database.scanning_data_backup.W44`\n",
    "UNION ALL\n",
    "SELECT * , \n",
    "FROM `scanning-database.scanning_data_backup.W45`\n",
    "UNION ALL\n",
    "SELECT * , \n",
    "FROM `scanning-database.scanning_data_backup.W46`\n",
    "UNION ALL\n",
    "SELECT * , \n",
    "FROM `scanning-database.scanning_data_backup.W47`\n",
    "UNION ALL\n",
    "SELECT * , \n",
    "FROM `scanning-database.scanning_data_backup.W48`\n",
    "UNION ALL\n",
    "SELECT * , \n",
    "FROM `scanning-database.scanning_data_backup.W49`\n",
    "\"\"\""
   ]
  },
  {
   "cell_type": "code",
   "execution_count": 3,
   "metadata": {},
   "outputs": [],
   "source": [
    "# Overwriting old PowerBI source data\n",
    "job_config = bigquery.QueryJobConfig(maximum_bytes_billed=10**10,\n",
    "destination = 'scanning-database.PowerBI.PowerBI',\n",
    "write_disposition = bigquery.WriteDisposition.WRITE_TRUNCATE\n",
    ") # set query limit to 10G\n",
    "query_job = bigquery_client.query(union_weeks, job_config)  # API request\n",
    "rows = query_job.result()  # Waits for query to finish\n",
    "data_in_use = rows.to_dataframe()"
   ]
  },
  {
   "cell_type": "code",
   "execution_count": 4,
   "metadata": {
    "tags": []
   },
   "outputs": [
    {
     "output_type": "execute_result",
     "data": {
      "text/plain": [
       "                     Start_Time               Finish_Time  \\\n",
       "47769 2020-11-26 07:43:59+00:00 2020-11-26 07:44:06+00:00   \n",
       "63462 2020-11-28 06:50:49+00:00 2020-11-28 09:21:13+00:00   \n",
       "34540 2020-11-28 20:13:17+00:00 2020-11-28 20:14:27+00:00   \n",
       "47766 2020-11-26 07:43:44+00:00 2020-11-26 07:46:59+00:00   \n",
       "20912 2020-11-26 06:23:51+00:00 2020-11-26 06:46:41+00:00   \n",
       "\n",
       "                     Activity      Seq_Code Recipe_Name       Break_Reasons  \\\n",
       "47769              Production          None          H2                None   \n",
       "63462                   Break          None          G4  move to other line   \n",
       "34540              Production  0004 of 0004          P2                None   \n",
       "47766              Production  0022 of 0027          B4                None   \n",
       "20912  Preparation/Changeover          None          SA                None   \n",
       "\n",
       "      Missing_Ingredients Kitting_Line      Assembly_Batch  \\\n",
       "47769                None          KL9                None   \n",
       "63462                None         KL15                None   \n",
       "34540                None         KL16     Monday Assembly   \n",
       "47766                None          KL3  Wednesday Assembly   \n",
       "20912                None         KL16                None   \n",
       "\n",
       "              Event_Shift         Team_Leader  Pickers_Count  \\\n",
       "47769    Thursday Morning  iXUsr_Normie(7460)              3   \n",
       "63462    Saturday Morning  iXUsr_Ushida(8909)              4   \n",
       "34540  Saturday Afternoon    iXUsr_Wang(9965)              3   \n",
       "47766    Thursday Morning  iXUsr_Nguyen(6722)              3   \n",
       "20912    Thursday Morning    iXUsr_Gwen(7292)              4   \n",
       "\n",
       "       Time_Consumption     Week  \n",
       "47769              0.12  2020-49  \n",
       "63462            150.40  2020-49  \n",
       "34540              1.17  2020-49  \n",
       "47766              3.25  2020-49  \n",
       "20912             22.83  2020-49  "
      ],
      "text/html": "<div>\n<style scoped>\n    .dataframe tbody tr th:only-of-type {\n        vertical-align: middle;\n    }\n\n    .dataframe tbody tr th {\n        vertical-align: top;\n    }\n\n    .dataframe thead th {\n        text-align: right;\n    }\n</style>\n<table border=\"1\" class=\"dataframe\">\n  <thead>\n    <tr style=\"text-align: right;\">\n      <th></th>\n      <th>Start_Time</th>\n      <th>Finish_Time</th>\n      <th>Activity</th>\n      <th>Seq_Code</th>\n      <th>Recipe_Name</th>\n      <th>Break_Reasons</th>\n      <th>Missing_Ingredients</th>\n      <th>Kitting_Line</th>\n      <th>Assembly_Batch</th>\n      <th>Event_Shift</th>\n      <th>Team_Leader</th>\n      <th>Pickers_Count</th>\n      <th>Time_Consumption</th>\n      <th>Week</th>\n    </tr>\n  </thead>\n  <tbody>\n    <tr>\n      <th>47769</th>\n      <td>2020-11-26 07:43:59+00:00</td>\n      <td>2020-11-26 07:44:06+00:00</td>\n      <td>Production</td>\n      <td>None</td>\n      <td>H2</td>\n      <td>None</td>\n      <td>None</td>\n      <td>KL9</td>\n      <td>None</td>\n      <td>Thursday Morning</td>\n      <td>iXUsr_Normie(7460)</td>\n      <td>3</td>\n      <td>0.12</td>\n      <td>2020-49</td>\n    </tr>\n    <tr>\n      <th>63462</th>\n      <td>2020-11-28 06:50:49+00:00</td>\n      <td>2020-11-28 09:21:13+00:00</td>\n      <td>Break</td>\n      <td>None</td>\n      <td>G4</td>\n      <td>move to other line</td>\n      <td>None</td>\n      <td>KL15</td>\n      <td>None</td>\n      <td>Saturday Morning</td>\n      <td>iXUsr_Ushida(8909)</td>\n      <td>4</td>\n      <td>150.40</td>\n      <td>2020-49</td>\n    </tr>\n    <tr>\n      <th>34540</th>\n      <td>2020-11-28 20:13:17+00:00</td>\n      <td>2020-11-28 20:14:27+00:00</td>\n      <td>Production</td>\n      <td>0004 of 0004</td>\n      <td>P2</td>\n      <td>None</td>\n      <td>None</td>\n      <td>KL16</td>\n      <td>Monday Assembly</td>\n      <td>Saturday Afternoon</td>\n      <td>iXUsr_Wang(9965)</td>\n      <td>3</td>\n      <td>1.17</td>\n      <td>2020-49</td>\n    </tr>\n    <tr>\n      <th>47766</th>\n      <td>2020-11-26 07:43:44+00:00</td>\n      <td>2020-11-26 07:46:59+00:00</td>\n      <td>Production</td>\n      <td>0022 of 0027</td>\n      <td>B4</td>\n      <td>None</td>\n      <td>None</td>\n      <td>KL3</td>\n      <td>Wednesday Assembly</td>\n      <td>Thursday Morning</td>\n      <td>iXUsr_Nguyen(6722)</td>\n      <td>3</td>\n      <td>3.25</td>\n      <td>2020-49</td>\n    </tr>\n    <tr>\n      <th>20912</th>\n      <td>2020-11-26 06:23:51+00:00</td>\n      <td>2020-11-26 06:46:41+00:00</td>\n      <td>Preparation/Changeover</td>\n      <td>None</td>\n      <td>SA</td>\n      <td>None</td>\n      <td>None</td>\n      <td>KL16</td>\n      <td>None</td>\n      <td>Thursday Morning</td>\n      <td>iXUsr_Gwen(7292)</td>\n      <td>4</td>\n      <td>22.83</td>\n      <td>2020-49</td>\n    </tr>\n  </tbody>\n</table>\n</div>"
     },
     "metadata": {},
     "execution_count": 4
    }
   ],
   "source": [
    "data_in_use.sort_values(by=['Week']).tail()"
   ]
  },
  {
   "cell_type": "code",
   "execution_count": 5,
   "metadata": {},
   "outputs": [
    {
     "output_type": "execute_result",
     "data": {
      "text/plain": [
       "(92758, 14)"
      ]
     },
     "metadata": {},
     "execution_count": 5
    }
   ],
   "source": [
    "data_in_use.shape"
   ]
  },
  {
   "cell_type": "code",
   "execution_count": null,
   "metadata": {},
   "outputs": [],
   "source": []
  }
 ]
}