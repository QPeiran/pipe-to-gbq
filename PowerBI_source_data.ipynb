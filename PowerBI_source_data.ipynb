{
 "metadata": {
  "language_info": {
   "codemirror_mode": {
    "name": "ipython",
    "version": 3
   },
   "file_extension": ".py",
   "mimetype": "text/x-python",
   "name": "python",
   "nbconvert_exporter": "python",
   "pygments_lexer": "ipython3",
   "version": "3.8.6-final"
  },
  "orig_nbformat": 2,
  "kernelspec": {
   "name": "Python 3.8.6 64-bit ('pipe-to-gpq': pipenv)",
   "display_name": "Python 3.8.6 64-bit ('pipe-to-gpq': pipenv)",
   "metadata": {
    "interpreter": {
     "hash": "2cc73edbe6a9987db876ddf9974c5b3c8d863b2585d3ab100eab75e4607f7b36"
    }
   }
  }
 },
 "nbformat": 4,
 "nbformat_minor": 2,
 "cells": [
  {
   "cell_type": "code",
   "execution_count": 4,
   "metadata": {},
   "outputs": [],
   "source": [
    "from google.cloud import bigquery\n",
    "from google.oauth2 import service_account\n",
    "key_path = \"./creds/service_acc_auth.json\"\n",
    "credentials = service_account.Credentials.from_service_account_file(key_path, scopes = [\"https://www.googleapis.com/auth/cloud-platform\"])\n",
    "bigquery_client = bigquery.Client(credentials=credentials, project=credentials.project_id)"
   ]
  },
  {
   "cell_type": "code",
   "execution_count": 5,
   "metadata": {},
   "outputs": [],
   "source": [
    "# query new data <= 1/1\n",
    "union_weeks = \"\"\"\n",
    "SELECT * , \n",
    "FROM `scanning-database.scanning_data_backup.W46`\n",
    "UNION ALL\n",
    "SELECT * , \n",
    "FROM `scanning-database.scanning_data_backup.W47`\n",
    "UNION ALL\n",
    "SELECT * , \n",
    "FROM `scanning-database.scanning_data_backup.W48`\n",
    "UNION ALL\n",
    "SELECT * , \n",
    "FROM `scanning-database.scanning_data_backup.W49`\n",
    "UNION ALL\n",
    "SELECT * , \n",
    "FROM `scanning-database.scanning_data_backup.W50`\n",
    "UNION ALL\n",
    "SELECT * , \n",
    "FROM `scanning-database.scanning_data_backup.W51`\n",
    "UNION ALL\n",
    "SELECT * , \n",
    "FROM `scanning-database.scanning_data_backup.W52`\n",
    "UNION ALL\n",
    "SELECT * , \n",
    "FROM `scanning-database.scanning_data_backup.W53`\n",
    "UNION ALL\n",
    "SELECT * , \n",
    "FROM `scanning-database.scanning_data_backup.W01`\n",
    "UNION ALL\n",
    "SELECT * , \n",
    "FROM `scanning-database.scanning_data_backup.W02`\n",
    "UNION ALL\n",
    "SELECT * , \n",
    "FROM `scanning-database.scanning_data_backup.W03`\n",
    "UNION ALL\n",
    "SELECT * , \n",
    "FROM `scanning-database.scanning_data_backup.2021-W04`\n",
    "\"\"\""
   ]
  },
  {
   "cell_type": "code",
   "execution_count": 6,
   "metadata": {},
   "outputs": [],
   "source": [
    "# Overwriting old PowerBI source data\n",
    "job_config = bigquery.QueryJobConfig(maximum_bytes_billed=10**10,\n",
    "destination = 'scanning-database.PowerBI.PowerBI',\n",
    "write_disposition = bigquery.WriteDisposition.WRITE_TRUNCATE\n",
    ") # set query limit to 10G\n",
    "query_job = bigquery_client.query(union_weeks, job_config)  # API request\n",
    "rows = query_job.result()  # Waits for query to finish\n",
    "data_in_use = rows.to_dataframe()"
   ]
  },
  {
   "cell_type": "code",
   "execution_count": 7,
   "metadata": {
    "tags": []
   },
   "outputs": [
    {
     "output_type": "execute_result",
     "data": {
      "text/plain": [
       "                     Start_Time               Finish_Time  \\\n",
       "50123 2021-01-24 07:46:47+00:00 2021-01-24 07:49:01+00:00   \n",
       "50134 2021-01-24 06:58:05+00:00 2021-01-24 07:02:29+00:00   \n",
       "19758 2021-01-22 19:50:56+00:00 2021-01-22 19:55:28+00:00   \n",
       "19685 2021-01-22 14:33:16+00:00 2021-01-22 14:36:35+00:00   \n",
       "37729 2021-01-23 14:22:44+00:00 2021-01-23 14:22:53+00:00   \n",
       "\n",
       "                     Activity      Seq_Code Recipe_Name Break_Reasons  \\\n",
       "50123              Production  0016 of 0017          D2          None   \n",
       "50134              Production  0010 of 0017          D2          None   \n",
       "19758              Production  0001 of 0008          D2          None   \n",
       "19685              Production  0002 of 0016          H2          None   \n",
       "37729  Preparation/Changeover          None          E4          None   \n",
       "\n",
       "      Missing_Ingredients Kitting_Line     Assembly_Batch         Event_Shift  \\\n",
       "50123                None          KL7    Monday Assembly      Sunday Morning   \n",
       "50134                None          KL7    Monday Assembly      Sunday Morning   \n",
       "19758                None          KL7  Thursday Assembly    Friday Afternoon   \n",
       "19685                None          KL8  Saturday Assembly    Friday Afternoon   \n",
       "37729                None          KL5               None  Saturday Afternoon   \n",
       "\n",
       "               Team_Leader  Pickers_Count  Time_Consumption     Week  \n",
       "50123  iXUsr_Siregar(6092)              2              2.23  2021-04  \n",
       "50134  iXUsr_Siregar(6092)              2              4.40  2021-04  \n",
       "19758     iXUsr_Wang(9965)              3              4.53  2021-04  \n",
       "19685     iXUsr_Wang(9965)              3              3.32  2021-04  \n",
       "37729   iXUsr_Selina(6751)              3              0.15  2021-04  "
      ],
      "text/html": "<div>\n<style scoped>\n    .dataframe tbody tr th:only-of-type {\n        vertical-align: middle;\n    }\n\n    .dataframe tbody tr th {\n        vertical-align: top;\n    }\n\n    .dataframe thead th {\n        text-align: right;\n    }\n</style>\n<table border=\"1\" class=\"dataframe\">\n  <thead>\n    <tr style=\"text-align: right;\">\n      <th></th>\n      <th>Start_Time</th>\n      <th>Finish_Time</th>\n      <th>Activity</th>\n      <th>Seq_Code</th>\n      <th>Recipe_Name</th>\n      <th>Break_Reasons</th>\n      <th>Missing_Ingredients</th>\n      <th>Kitting_Line</th>\n      <th>Assembly_Batch</th>\n      <th>Event_Shift</th>\n      <th>Team_Leader</th>\n      <th>Pickers_Count</th>\n      <th>Time_Consumption</th>\n      <th>Week</th>\n    </tr>\n  </thead>\n  <tbody>\n    <tr>\n      <th>50123</th>\n      <td>2021-01-24 07:46:47+00:00</td>\n      <td>2021-01-24 07:49:01+00:00</td>\n      <td>Production</td>\n      <td>0016 of 0017</td>\n      <td>D2</td>\n      <td>None</td>\n      <td>None</td>\n      <td>KL7</td>\n      <td>Monday Assembly</td>\n      <td>Sunday Morning</td>\n      <td>iXUsr_Siregar(6092)</td>\n      <td>2</td>\n      <td>2.23</td>\n      <td>2021-04</td>\n    </tr>\n    <tr>\n      <th>50134</th>\n      <td>2021-01-24 06:58:05+00:00</td>\n      <td>2021-01-24 07:02:29+00:00</td>\n      <td>Production</td>\n      <td>0010 of 0017</td>\n      <td>D2</td>\n      <td>None</td>\n      <td>None</td>\n      <td>KL7</td>\n      <td>Monday Assembly</td>\n      <td>Sunday Morning</td>\n      <td>iXUsr_Siregar(6092)</td>\n      <td>2</td>\n      <td>4.40</td>\n      <td>2021-04</td>\n    </tr>\n    <tr>\n      <th>19758</th>\n      <td>2021-01-22 19:50:56+00:00</td>\n      <td>2021-01-22 19:55:28+00:00</td>\n      <td>Production</td>\n      <td>0001 of 0008</td>\n      <td>D2</td>\n      <td>None</td>\n      <td>None</td>\n      <td>KL7</td>\n      <td>Thursday Assembly</td>\n      <td>Friday Afternoon</td>\n      <td>iXUsr_Wang(9965)</td>\n      <td>3</td>\n      <td>4.53</td>\n      <td>2021-04</td>\n    </tr>\n    <tr>\n      <th>19685</th>\n      <td>2021-01-22 14:33:16+00:00</td>\n      <td>2021-01-22 14:36:35+00:00</td>\n      <td>Production</td>\n      <td>0002 of 0016</td>\n      <td>H2</td>\n      <td>None</td>\n      <td>None</td>\n      <td>KL8</td>\n      <td>Saturday Assembly</td>\n      <td>Friday Afternoon</td>\n      <td>iXUsr_Wang(9965)</td>\n      <td>3</td>\n      <td>3.32</td>\n      <td>2021-04</td>\n    </tr>\n    <tr>\n      <th>37729</th>\n      <td>2021-01-23 14:22:44+00:00</td>\n      <td>2021-01-23 14:22:53+00:00</td>\n      <td>Preparation/Changeover</td>\n      <td>None</td>\n      <td>E4</td>\n      <td>None</td>\n      <td>None</td>\n      <td>KL5</td>\n      <td>None</td>\n      <td>Saturday Afternoon</td>\n      <td>iXUsr_Selina(6751)</td>\n      <td>3</td>\n      <td>0.15</td>\n      <td>2021-04</td>\n    </tr>\n  </tbody>\n</table>\n</div>"
     },
     "metadata": {},
     "execution_count": 7
    }
   ],
   "source": [
    "data_in_use.sort_values(by=['Week']).tail()"
   ]
  },
  {
   "cell_type": "code",
   "execution_count": 8,
   "metadata": {},
   "outputs": [
    {
     "output_type": "execute_result",
     "data": {
      "text/plain": [
       "(65021, 14)"
      ]
     },
     "metadata": {},
     "execution_count": 8
    }
   ],
   "source": [
    "data_in_use.shape"
   ]
  },
  {
   "cell_type": "code",
   "execution_count": null,
   "metadata": {},
   "outputs": [],
   "source": []
  }
 ]
}