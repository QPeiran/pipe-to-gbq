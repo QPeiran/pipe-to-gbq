{
 "metadata": {
  "language_info": {
   "codemirror_mode": {
    "name": "ipython",
    "version": 3
   },
   "file_extension": ".py",
   "mimetype": "text/x-python",
   "name": "python",
   "nbconvert_exporter": "python",
   "pygments_lexer": "ipython3",
   "version": "3.8.6-final"
  },
  "orig_nbformat": 2,
  "kernelspec": {
   "name": "Python 3.8.6 64-bit ('pipe-to-gpq': pipenv)",
   "display_name": "Python 3.8.6 64-bit ('pipe-to-gpq': pipenv)",
   "metadata": {
    "interpreter": {
     "hash": "2cc73edbe6a9987db876ddf9974c5b3c8d863b2585d3ab100eab75e4607f7b36"
    }
   }
  }
 },
 "nbformat": 4,
 "nbformat_minor": 2,
 "cells": [
  {
   "cell_type": "code",
   "execution_count": 1,
   "metadata": {},
   "outputs": [],
   "source": [
    "from google.cloud import bigquery\n",
    "from google.oauth2 import service_account\n",
    "key_path = \"./creds/service_acc_auth.json\"\n",
    "credentials = service_account.Credentials.from_service_account_file(key_path, scopes = [\"https://www.googleapis.com/auth/cloud-platform\"])\n",
    "bigquery_client = bigquery.Client(credentials=credentials, project=credentials.project_id)"
   ]
  },
  {
   "cell_type": "code",
   "execution_count": 2,
   "metadata": {},
   "outputs": [],
   "source": [
    "# query new data <= 1/1\n",
    "union_weeks = \"\"\"\n",
    "SELECT * , \n",
    "FROM `scanning-database.scanning_data_backup.W44`\n",
    "UNION ALL\n",
    "SELECT * , \n",
    "FROM `scanning-database.scanning_data_backup.W45`\n",
    "UNION ALL\n",
    "SELECT * , \n",
    "FROM `scanning-database.scanning_data_backup.W46`\n",
    "UNION ALL\n",
    "SELECT * , \n",
    "FROM `scanning-database.scanning_data_backup.W47`\n",
    "UNION ALL\n",
    "SELECT * , \n",
    "FROM `scanning-database.scanning_data_backup.W48`\n",
    "UNION ALL\n",
    "SELECT * , \n",
    "FROM `scanning-database.scanning_data_backup.W49`\n",
    "UNION ALL\n",
    "SELECT * , \n",
    "FROM `scanning-database.scanning_data_backup.W50`\n",
    "UNION ALL\n",
    "SELECT * , \n",
    "FROM `scanning-database.scanning_data_backup.W51`\n",
    "UNION ALL\n",
    "SELECT * , \n",
    "FROM `scanning-database.scanning_data_backup.W52`\n",
    "UNION ALL\n",
    "SELECT * , \n",
    "FROM `scanning-database.scanning_data_backup.W53`\n",
    "UNION ALL\n",
    "SELECT * , \n",
    "FROM `scanning-database.scanning_data_backup.W01`\n",
    "UNION ALL\n",
    "SELECT * , \n",
    "FROM `scanning-database.scanning_data_backup.W02`\n",
    "\"\"\""
   ]
  },
  {
   "cell_type": "code",
   "execution_count": 3,
   "metadata": {},
   "outputs": [],
   "source": [
    "# Overwriting old PowerBI source data\n",
    "job_config = bigquery.QueryJobConfig(maximum_bytes_billed=10**10,\n",
    "destination = 'scanning-database.PowerBI.PowerBI',\n",
    "write_disposition = bigquery.WriteDisposition.WRITE_TRUNCATE\n",
    ") # set query limit to 10G\n",
    "query_job = bigquery_client.query(union_weeks, job_config)  # API request\n",
    "rows = query_job.result()  # Waits for query to finish\n",
    "data_in_use = rows.to_dataframe()"
   ]
  },
  {
   "cell_type": "code",
   "execution_count": 4,
   "metadata": {
    "tags": []
   },
   "outputs": [
    {
     "output_type": "execute_result",
     "data": {
      "text/plain": [
       "                     Start_Time               Finish_Time  \\\n",
       "52031 2021-01-07 08:02:59+00:00 2021-01-07 08:03:08+00:00   \n",
       "51993 2021-01-07 08:07:16+00:00 2021-01-07 08:08:53+00:00   \n",
       "51967 2021-01-07 08:08:53+00:00 2021-01-07 08:17:15+00:00   \n",
       "52177 2021-01-10 06:28:57+00:00 2021-01-10 06:29:09+00:00   \n",
       "0     2021-01-07 09:15:24+00:00 2021-01-07 15:51:32+00:00   \n",
       "\n",
       "                     Activity      Seq_Code Recipe_Name       Break_Reasons  \\\n",
       "52031              Production  0001 of 0003          U2                None   \n",
       "51993              Production  0003 of 0003          U2                None   \n",
       "51967  Preparation/Changeover          None          U2                None   \n",
       "52177              Production  0001 of 0011          H2                None   \n",
       "0                       Break          None          J2  move to other line   \n",
       "\n",
       "      Missing_Ingredients Kitting_Line   Assembly_Batch         Event_Shift  \\\n",
       "52031                None          KL7  Friday Assembly    Thursday Morning   \n",
       "51993                None          KL7  Friday Assembly    Thursday Morning   \n",
       "51967                None          KL7             None    Thursday Morning   \n",
       "52177                None          KL7  Monday Assembly      Sunday Morning   \n",
       "0                    None          KL8             None  Thursday Afternoon   \n",
       "\n",
       "               Team_Leader  Pickers_Count  Time_Consumption     Week  \n",
       "52031  iXUsr_Sianen(10382)              4              0.15  2021-02  \n",
       "51993  iXUsr_Sianen(10382)              4              1.62  2021-02  \n",
       "51967  iXUsr_Sianen(10382)              4              8.37  2021-02  \n",
       "52177  iXUsr_Sianen(10382)              3              0.20  2021-02  \n",
       "0                      Ala              0            396.13  2021-02  "
      ],
      "text/html": "<div>\n<style scoped>\n    .dataframe tbody tr th:only-of-type {\n        vertical-align: middle;\n    }\n\n    .dataframe tbody tr th {\n        vertical-align: top;\n    }\n\n    .dataframe thead th {\n        text-align: right;\n    }\n</style>\n<table border=\"1\" class=\"dataframe\">\n  <thead>\n    <tr style=\"text-align: right;\">\n      <th></th>\n      <th>Start_Time</th>\n      <th>Finish_Time</th>\n      <th>Activity</th>\n      <th>Seq_Code</th>\n      <th>Recipe_Name</th>\n      <th>Break_Reasons</th>\n      <th>Missing_Ingredients</th>\n      <th>Kitting_Line</th>\n      <th>Assembly_Batch</th>\n      <th>Event_Shift</th>\n      <th>Team_Leader</th>\n      <th>Pickers_Count</th>\n      <th>Time_Consumption</th>\n      <th>Week</th>\n    </tr>\n  </thead>\n  <tbody>\n    <tr>\n      <th>52031</th>\n      <td>2021-01-07 08:02:59+00:00</td>\n      <td>2021-01-07 08:03:08+00:00</td>\n      <td>Production</td>\n      <td>0001 of 0003</td>\n      <td>U2</td>\n      <td>None</td>\n      <td>None</td>\n      <td>KL7</td>\n      <td>Friday Assembly</td>\n      <td>Thursday Morning</td>\n      <td>iXUsr_Sianen(10382)</td>\n      <td>4</td>\n      <td>0.15</td>\n      <td>2021-02</td>\n    </tr>\n    <tr>\n      <th>51993</th>\n      <td>2021-01-07 08:07:16+00:00</td>\n      <td>2021-01-07 08:08:53+00:00</td>\n      <td>Production</td>\n      <td>0003 of 0003</td>\n      <td>U2</td>\n      <td>None</td>\n      <td>None</td>\n      <td>KL7</td>\n      <td>Friday Assembly</td>\n      <td>Thursday Morning</td>\n      <td>iXUsr_Sianen(10382)</td>\n      <td>4</td>\n      <td>1.62</td>\n      <td>2021-02</td>\n    </tr>\n    <tr>\n      <th>51967</th>\n      <td>2021-01-07 08:08:53+00:00</td>\n      <td>2021-01-07 08:17:15+00:00</td>\n      <td>Preparation/Changeover</td>\n      <td>None</td>\n      <td>U2</td>\n      <td>None</td>\n      <td>None</td>\n      <td>KL7</td>\n      <td>None</td>\n      <td>Thursday Morning</td>\n      <td>iXUsr_Sianen(10382)</td>\n      <td>4</td>\n      <td>8.37</td>\n      <td>2021-02</td>\n    </tr>\n    <tr>\n      <th>52177</th>\n      <td>2021-01-10 06:28:57+00:00</td>\n      <td>2021-01-10 06:29:09+00:00</td>\n      <td>Production</td>\n      <td>0001 of 0011</td>\n      <td>H2</td>\n      <td>None</td>\n      <td>None</td>\n      <td>KL7</td>\n      <td>Monday Assembly</td>\n      <td>Sunday Morning</td>\n      <td>iXUsr_Sianen(10382)</td>\n      <td>3</td>\n      <td>0.20</td>\n      <td>2021-02</td>\n    </tr>\n    <tr>\n      <th>0</th>\n      <td>2021-01-07 09:15:24+00:00</td>\n      <td>2021-01-07 15:51:32+00:00</td>\n      <td>Break</td>\n      <td>None</td>\n      <td>J2</td>\n      <td>move to other line</td>\n      <td>None</td>\n      <td>KL8</td>\n      <td>None</td>\n      <td>Thursday Afternoon</td>\n      <td>Ala</td>\n      <td>0</td>\n      <td>396.13</td>\n      <td>2021-02</td>\n    </tr>\n  </tbody>\n</table>\n</div>"
     },
     "metadata": {},
     "execution_count": 4
    }
   ],
   "source": [
    "data_in_use.sort_values(by=['Week']).tail()"
   ]
  },
  {
   "cell_type": "code",
   "execution_count": 5,
   "metadata": {},
   "outputs": [
    {
     "output_type": "execute_result",
     "data": {
      "text/plain": [
       "(70755, 14)"
      ]
     },
     "metadata": {},
     "execution_count": 5
    }
   ],
   "source": [
    "data_in_use.shape"
   ]
  },
  {
   "cell_type": "code",
   "execution_count": null,
   "metadata": {},
   "outputs": [],
   "source": []
  }
 ]
}