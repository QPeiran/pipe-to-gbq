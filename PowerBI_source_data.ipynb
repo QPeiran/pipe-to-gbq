{
 "metadata": {
  "language_info": {
   "codemirror_mode": {
    "name": "ipython",
    "version": 3
   },
   "file_extension": ".py",
   "mimetype": "text/x-python",
   "name": "python",
   "nbconvert_exporter": "python",
   "pygments_lexer": "ipython3",
   "version": "3.8.6-final"
  },
  "orig_nbformat": 2,
  "kernelspec": {
   "name": "Python 3.8.6 64-bit ('pipe-to-gpq': pipenv)",
   "display_name": "Python 3.8.6 64-bit ('pipe-to-gpq': pipenv)",
   "metadata": {
    "interpreter": {
     "hash": "2cc73edbe6a9987db876ddf9974c5b3c8d863b2585d3ab100eab75e4607f7b36"
    }
   }
  }
 },
 "nbformat": 4,
 "nbformat_minor": 2,
 "cells": [
  {
   "cell_type": "code",
   "execution_count": 1,
   "metadata": {},
   "outputs": [],
   "source": [
    "from google.cloud import bigquery\n",
    "from google.oauth2 import service_account\n",
    "key_path = \"./creds/service_acc_auth.json\"\n",
    "credentials = service_account.Credentials.from_service_account_file(key_path, scopes = [\"https://www.googleapis.com/auth/cloud-platform\"])\n",
    "bigquery_client = bigquery.Client(credentials=credentials, project=credentials.project_id)"
   ]
  },
  {
   "cell_type": "code",
   "execution_count": 2,
   "metadata": {},
   "outputs": [],
   "source": [
    "# query new data <= 1/1\n",
    "union_weeks = \"\"\"\n",
    "SELECT * , \n",
    "FROM `scanning-database.scanning_data_backup.W40`\n",
    "UNION ALL\n",
    "SELECT * , \n",
    "FROM `scanning-database.scanning_data_backup.W41`\n",
    "UNION ALL\n",
    "SELECT * , \n",
    "FROM `scanning-database.scanning_data_backup.W42`\n",
    "UNION ALL\n",
    "SELECT * , \n",
    "FROM `scanning-database.scanning_data_backup.W43`\n",
    "UNION ALL\n",
    "SELECT * , \n",
    "FROM `scanning-database.scanning_data_backup.W44`\n",
    "UNION ALL\n",
    "SELECT * , \n",
    "FROM `scanning-database.scanning_data_backup.W45`\n",
    "UNION ALL\n",
    "SELECT * , \n",
    "FROM `scanning-database.scanning_data_backup.W46`\n",
    "UNION ALL\n",
    "SELECT * , \n",
    "FROM `scanning-database.scanning_data_backup.W47`\n",
    "UNION ALL\n",
    "SELECT * , \n",
    "FROM `scanning-database.scanning_data_backup.W48`\n",
    "UNION ALL\n",
    "SELECT * , \n",
    "FROM `scanning-database.scanning_data_backup.W49`\n",
    "UNION ALL\n",
    "SELECT * , \n",
    "FROM `scanning-database.scanning_data_backup.W50`\n",
    "UNION ALL\n",
    "SELECT * , \n",
    "FROM `scanning-database.scanning_data_backup.W51`\n",
    "\"\"\""
   ]
  },
  {
   "cell_type": "code",
   "execution_count": 3,
   "metadata": {},
   "outputs": [],
   "source": [
    "# Overwriting old PowerBI source data\n",
    "job_config = bigquery.QueryJobConfig(maximum_bytes_billed=10**10,\n",
    "destination = 'scanning-database.PowerBI.PowerBI',\n",
    "write_disposition = bigquery.WriteDisposition.WRITE_TRUNCATE\n",
    ") # set query limit to 10G\n",
    "query_job = bigquery_client.query(union_weeks, job_config)  # API request\n",
    "rows = query_job.result()  # Waits for query to finish\n",
    "data_in_use = rows.to_dataframe()"
   ]
  },
  {
   "cell_type": "code",
   "execution_count": 4,
   "metadata": {
    "tags": []
   },
   "outputs": [
    {
     "output_type": "execute_result",
     "data": {
      "text/plain": [
       "                     Start_Time               Finish_Time    Activity  \\\n",
       "46317 2020-12-11 08:54:41+00:00 2020-12-11 08:58:59+00:00  Production   \n",
       "80267 2020-12-12 15:19:03+00:00 2020-12-12 15:22:33+00:00  Production   \n",
       "80266 2020-12-12 17:02:57+00:00 2020-12-12 17:06:21+00:00  Production   \n",
       "46344 2020-12-11 07:03:44+00:00 2020-12-11 07:05:14+00:00  Production   \n",
       "0     2020-12-11 14:34:24+00:00 2020-12-11 14:36:33+00:00         TBD   \n",
       "\n",
       "           Seq_Code Recipe_Name Break_Reasons Missing_Ingredients  \\\n",
       "46317  0007 of 0016          F2          None                None   \n",
       "80267  0002 of 0005          Q2          None                None   \n",
       "80266  0021 of 0033          B2          None                None   \n",
       "46344  0023 of 0023          I4          None                None   \n",
       "0              None          O4          None                None   \n",
       "\n",
       "      Kitting_Line     Assembly_Batch         Event_Shift  \\\n",
       "46317          KL9  Saturday Assembly      Friday Morning   \n",
       "80267         KL15    Sunday Assembly  Saturday Afternoon   \n",
       "80266          KL3    Sunday Assembly  Saturday Afternoon   \n",
       "46344         KL13  Saturday Assembly      Friday Morning   \n",
       "0             KL18               None    Friday Afternoon   \n",
       "\n",
       "                   Team_Leader  Pickers_Count  Time_Consumption     Week  \n",
       "46317       iXUsr_Normie(7460)              3              4.30  2020-51  \n",
       "80267  iXUsr_Kim Jie Yap 7055;              4              3.50  2020-51  \n",
       "80266  iXUsr_Kim Jie Yap 7055;              4              3.40  2020-51  \n",
       "46344       iXUsr_Normie(7460)              3              1.50  2020-51  \n",
       "0                          Ala              3              2.15  2020-51  "
      ],
      "text/html": "<div>\n<style scoped>\n    .dataframe tbody tr th:only-of-type {\n        vertical-align: middle;\n    }\n\n    .dataframe tbody tr th {\n        vertical-align: top;\n    }\n\n    .dataframe thead th {\n        text-align: right;\n    }\n</style>\n<table border=\"1\" class=\"dataframe\">\n  <thead>\n    <tr style=\"text-align: right;\">\n      <th></th>\n      <th>Start_Time</th>\n      <th>Finish_Time</th>\n      <th>Activity</th>\n      <th>Seq_Code</th>\n      <th>Recipe_Name</th>\n      <th>Break_Reasons</th>\n      <th>Missing_Ingredients</th>\n      <th>Kitting_Line</th>\n      <th>Assembly_Batch</th>\n      <th>Event_Shift</th>\n      <th>Team_Leader</th>\n      <th>Pickers_Count</th>\n      <th>Time_Consumption</th>\n      <th>Week</th>\n    </tr>\n  </thead>\n  <tbody>\n    <tr>\n      <th>46317</th>\n      <td>2020-12-11 08:54:41+00:00</td>\n      <td>2020-12-11 08:58:59+00:00</td>\n      <td>Production</td>\n      <td>0007 of 0016</td>\n      <td>F2</td>\n      <td>None</td>\n      <td>None</td>\n      <td>KL9</td>\n      <td>Saturday Assembly</td>\n      <td>Friday Morning</td>\n      <td>iXUsr_Normie(7460)</td>\n      <td>3</td>\n      <td>4.30</td>\n      <td>2020-51</td>\n    </tr>\n    <tr>\n      <th>80267</th>\n      <td>2020-12-12 15:19:03+00:00</td>\n      <td>2020-12-12 15:22:33+00:00</td>\n      <td>Production</td>\n      <td>0002 of 0005</td>\n      <td>Q2</td>\n      <td>None</td>\n      <td>None</td>\n      <td>KL15</td>\n      <td>Sunday Assembly</td>\n      <td>Saturday Afternoon</td>\n      <td>iXUsr_Kim Jie Yap 7055;</td>\n      <td>4</td>\n      <td>3.50</td>\n      <td>2020-51</td>\n    </tr>\n    <tr>\n      <th>80266</th>\n      <td>2020-12-12 17:02:57+00:00</td>\n      <td>2020-12-12 17:06:21+00:00</td>\n      <td>Production</td>\n      <td>0021 of 0033</td>\n      <td>B2</td>\n      <td>None</td>\n      <td>None</td>\n      <td>KL3</td>\n      <td>Sunday Assembly</td>\n      <td>Saturday Afternoon</td>\n      <td>iXUsr_Kim Jie Yap 7055;</td>\n      <td>4</td>\n      <td>3.40</td>\n      <td>2020-51</td>\n    </tr>\n    <tr>\n      <th>46344</th>\n      <td>2020-12-11 07:03:44+00:00</td>\n      <td>2020-12-11 07:05:14+00:00</td>\n      <td>Production</td>\n      <td>0023 of 0023</td>\n      <td>I4</td>\n      <td>None</td>\n      <td>None</td>\n      <td>KL13</td>\n      <td>Saturday Assembly</td>\n      <td>Friday Morning</td>\n      <td>iXUsr_Normie(7460)</td>\n      <td>3</td>\n      <td>1.50</td>\n      <td>2020-51</td>\n    </tr>\n    <tr>\n      <th>0</th>\n      <td>2020-12-11 14:34:24+00:00</td>\n      <td>2020-12-11 14:36:33+00:00</td>\n      <td>TBD</td>\n      <td>None</td>\n      <td>O4</td>\n      <td>None</td>\n      <td>None</td>\n      <td>KL18</td>\n      <td>None</td>\n      <td>Friday Afternoon</td>\n      <td>Ala</td>\n      <td>3</td>\n      <td>2.15</td>\n      <td>2020-51</td>\n    </tr>\n  </tbody>\n</table>\n</div>"
     },
     "metadata": {},
     "execution_count": 4
    }
   ],
   "source": [
    "data_in_use.sort_values(by=['Week']).tail()"
   ]
  },
  {
   "cell_type": "code",
   "execution_count": 5,
   "metadata": {},
   "outputs": [
    {
     "output_type": "execute_result",
     "data": {
      "text/plain": [
       "(87642, 14)"
      ]
     },
     "metadata": {},
     "execution_count": 5
    }
   ],
   "source": [
    "data_in_use.shape"
   ]
  },
  {
   "cell_type": "code",
   "execution_count": null,
   "metadata": {},
   "outputs": [],
   "source": []
  }
 ]
}