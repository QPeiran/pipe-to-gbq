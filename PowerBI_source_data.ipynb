{
 "metadata": {
  "language_info": {
   "codemirror_mode": {
    "name": "ipython",
    "version": 3
   },
   "file_extension": ".py",
   "mimetype": "text/x-python",
   "name": "python",
   "nbconvert_exporter": "python",
   "pygments_lexer": "ipython3",
   "version": "3.8.3-final"
  },
  "orig_nbformat": 2,
  "kernelspec": {
   "name": "python38364bitgbqenvconda5076e19de0394e84b989fb80c83f72da",
   "display_name": "Python 3.8.3 64-bit ('gbq-env': conda)"
  }
 },
 "nbformat": 4,
 "nbformat_minor": 2,
 "cells": [
  {
   "cell_type": "code",
   "execution_count": 1,
   "metadata": {},
   "outputs": [],
   "source": [
    "from google.cloud import bigquery\n",
    "from google.oauth2 import service_account\n",
    "key_path = \"./creds/service_acc_auth.json\"\n",
    "credentials = service_account.Credentials.from_service_account_file(key_path, scopes = [\"https://www.googleapis.com/auth/cloud-platform\"])\n",
    "bigquery_client = bigquery.Client(credentials=credentials, project=credentials.project_id)"
   ]
  },
  {
   "cell_type": "code",
   "execution_count": 2,
   "metadata": {},
   "outputs": [],
   "source": [
    "# query new data\n",
    "union_weeks = \"\"\"\n",
    "SELECT * , \n",
    "FROM `scanning-database.scanning_data_backup.W27` \n",
    "UNION ALL\n",
    "SELECT * , \n",
    "FROM `scanning-database.scanning_data_backup.W28` \n",
    "UNION ALL\n",
    "SELECT * , \n",
    "FROM `scanning-database.scanning_data_backup.W29`\n",
    "UNION ALL\n",
    "SELECT * , \n",
    "FROM `scanning-database.scanning_data_backup.W30`\n",
    "UNION ALL\n",
    "SELECT * , \n",
    "FROM `scanning-database.scanning_data_backup.W31`\n",
    "UNION ALL\n",
    "SELECT * , \n",
    "FROM `scanning-database.scanning_data_backup.W32`\n",
    "UNION ALL\n",
    "SELECT * , \n",
    "FROM `scanning-database.scanning_data_backup.W33`\n",
    "UNION ALL\n",
    "SELECT * , \n",
    "FROM `scanning-database.scanning_data_backup.W34`\n",
    "UNION ALL\n",
    "SELECT * , \n",
    "FROM `scanning-database.scanning_data_backup.W35`\n",
    "UNION ALL\n",
    "SELECT * , \n",
    "FROM `scanning-database.scanning_data_backup.W36`\n",
    "UNION ALL\n",
    "SELECT * , \n",
    "FROM `scanning-database.scanning_data_backup.W37`\n",
    "UNION ALL\n",
    "SELECT * , \n",
    "FROM `scanning-database.scanning_data_backup.W38`\n",
    "UNION ALL\n",
    "SELECT * , \n",
    "FROM `scanning-database.scanning_data_backup.W39`\n",
    "\"\"\""
   ]
  },
  {
   "cell_type": "code",
   "execution_count": 3,
   "metadata": {},
   "outputs": [],
   "source": [
    "# Overwriting old PowerBI source data\n",
    "job_config = bigquery.QueryJobConfig(maximum_bytes_billed=10**10,\n",
    "destination = 'scanning-database.PowerBI.PowerBI',\n",
    "write_disposition = bigquery.WriteDisposition.WRITE_TRUNCATE\n",
    ") # set query limit to 10G\n",
    "query_job = bigquery_client.query(union_weeks, job_config)  # API request\n",
    "rows = query_job.result()  # Waits for query to finish\n",
    "data_in_use = rows.to_dataframe()"
   ]
  },
  {
   "cell_type": "code",
   "execution_count": 4,
   "metadata": {},
   "outputs": [
    {
     "output_type": "execute_result",
     "data": {
      "text/plain": "                     Start_Time               Finish_Time    Activity  \\\n98252 2020-07-26 12:09:36+00:00 2020-07-26 12:14:53+00:00  Production   \n98253 2020-07-26 13:36:04+00:00 2020-07-26 13:42:54+00:00  Production   \n98254 2020-07-26 10:27:50+00:00 2020-07-26 10:32:43+00:00  Production   \n98255 2020-07-26 10:10:33+00:00 2020-07-26 10:17:06+00:00  Production   \n98256 2020-07-26 12:14:53+00:00 2020-07-26 12:20:08+00:00  Production   \n\n           Seq_Code Recipe_Name Break_Reasons Missing_Ingredients  \\\n98252  0018 of 0083          C2          None                None   \n98253  0029 of 0083          C2          None                None   \n98254  0009 of 0083          C2          None                None   \n98255  0007 of 0083          C2          None                None   \n98256  0019 of 0083          C2          None                None   \n\n      Kitting_Line   Assembly_Batch     Event_Shift  \\\n98252         KL19  Monday Assembly  Sunday Morning   \n98253         KL19  Monday Assembly  Sunday Morning   \n98254         KL19  Monday Assembly  Sunday Morning   \n98255         KL19  Monday Assembly  Sunday Morning   \n98256         KL19  Monday Assembly  Sunday Morning   \n\n                                  Team_Leader  Pickers_Count  \\\n98252  Siti Rahmah SiregarSiti Rahmah Siregar              3   \n98253  Siti Rahmah SiregarSiti Rahmah Siregar              3   \n98254  Siti Rahmah SiregarSiti Rahmah Siregar              3   \n98255  Siti Rahmah SiregarSiti Rahmah Siregar              3   \n98256  Siti Rahmah SiregarSiti Rahmah Siregar              3   \n\n       Time_Consumption     Week  \n98252              5.28  2020-31  \n98253              6.83  2020-31  \n98254              4.88  2020-31  \n98255              6.55  2020-31  \n98256              5.25  2020-31  ",
      "text/html": "<div>\n<style scoped>\n    .dataframe tbody tr th:only-of-type {\n        vertical-align: middle;\n    }\n\n    .dataframe tbody tr th {\n        vertical-align: top;\n    }\n\n    .dataframe thead th {\n        text-align: right;\n    }\n</style>\n<table border=\"1\" class=\"dataframe\">\n  <thead>\n    <tr style=\"text-align: right;\">\n      <th></th>\n      <th>Start_Time</th>\n      <th>Finish_Time</th>\n      <th>Activity</th>\n      <th>Seq_Code</th>\n      <th>Recipe_Name</th>\n      <th>Break_Reasons</th>\n      <th>Missing_Ingredients</th>\n      <th>Kitting_Line</th>\n      <th>Assembly_Batch</th>\n      <th>Event_Shift</th>\n      <th>Team_Leader</th>\n      <th>Pickers_Count</th>\n      <th>Time_Consumption</th>\n      <th>Week</th>\n    </tr>\n  </thead>\n  <tbody>\n    <tr>\n      <th>98252</th>\n      <td>2020-07-26 12:09:36+00:00</td>\n      <td>2020-07-26 12:14:53+00:00</td>\n      <td>Production</td>\n      <td>0018 of 0083</td>\n      <td>C2</td>\n      <td>None</td>\n      <td>None</td>\n      <td>KL19</td>\n      <td>Monday Assembly</td>\n      <td>Sunday Morning</td>\n      <td>Siti Rahmah SiregarSiti Rahmah Siregar</td>\n      <td>3</td>\n      <td>5.28</td>\n      <td>2020-31</td>\n    </tr>\n    <tr>\n      <th>98253</th>\n      <td>2020-07-26 13:36:04+00:00</td>\n      <td>2020-07-26 13:42:54+00:00</td>\n      <td>Production</td>\n      <td>0029 of 0083</td>\n      <td>C2</td>\n      <td>None</td>\n      <td>None</td>\n      <td>KL19</td>\n      <td>Monday Assembly</td>\n      <td>Sunday Morning</td>\n      <td>Siti Rahmah SiregarSiti Rahmah Siregar</td>\n      <td>3</td>\n      <td>6.83</td>\n      <td>2020-31</td>\n    </tr>\n    <tr>\n      <th>98254</th>\n      <td>2020-07-26 10:27:50+00:00</td>\n      <td>2020-07-26 10:32:43+00:00</td>\n      <td>Production</td>\n      <td>0009 of 0083</td>\n      <td>C2</td>\n      <td>None</td>\n      <td>None</td>\n      <td>KL19</td>\n      <td>Monday Assembly</td>\n      <td>Sunday Morning</td>\n      <td>Siti Rahmah SiregarSiti Rahmah Siregar</td>\n      <td>3</td>\n      <td>4.88</td>\n      <td>2020-31</td>\n    </tr>\n    <tr>\n      <th>98255</th>\n      <td>2020-07-26 10:10:33+00:00</td>\n      <td>2020-07-26 10:17:06+00:00</td>\n      <td>Production</td>\n      <td>0007 of 0083</td>\n      <td>C2</td>\n      <td>None</td>\n      <td>None</td>\n      <td>KL19</td>\n      <td>Monday Assembly</td>\n      <td>Sunday Morning</td>\n      <td>Siti Rahmah SiregarSiti Rahmah Siregar</td>\n      <td>3</td>\n      <td>6.55</td>\n      <td>2020-31</td>\n    </tr>\n    <tr>\n      <th>98256</th>\n      <td>2020-07-26 12:14:53+00:00</td>\n      <td>2020-07-26 12:20:08+00:00</td>\n      <td>Production</td>\n      <td>0019 of 0083</td>\n      <td>C2</td>\n      <td>None</td>\n      <td>None</td>\n      <td>KL19</td>\n      <td>Monday Assembly</td>\n      <td>Sunday Morning</td>\n      <td>Siti Rahmah SiregarSiti Rahmah Siregar</td>\n      <td>3</td>\n      <td>5.25</td>\n      <td>2020-31</td>\n    </tr>\n  </tbody>\n</table>\n</div>"
     },
     "metadata": {},
     "execution_count": 4
    }
   ],
   "source": [
    "data_in_use.tail()"
   ]
  },
  {
   "cell_type": "code",
   "execution_count": 5,
   "metadata": {},
   "outputs": [
    {
     "output_type": "execute_result",
     "data": {
      "text/plain": "(98257, 14)"
     },
     "metadata": {},
     "execution_count": 5
    }
   ],
   "source": [
    "data_in_use.shape"
   ]
  },
  {
   "cell_type": "code",
   "execution_count": null,
   "metadata": {},
   "outputs": [],
   "source": []
  }
 ]
}