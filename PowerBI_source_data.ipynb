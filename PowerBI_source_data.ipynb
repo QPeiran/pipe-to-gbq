{
 "metadata": {
  "language_info": {
   "codemirror_mode": {
    "name": "ipython",
    "version": 3
   },
   "file_extension": ".py",
   "mimetype": "text/x-python",
   "name": "python",
   "nbconvert_exporter": "python",
   "pygments_lexer": "ipython3",
   "version": "3.8.2-final"
  },
  "orig_nbformat": 2,
  "kernelspec": {
   "name": "python38264bitpipetogbqpipenv5ad3789e8b0d4cdb9e3d1cdd83d2f042",
   "display_name": "Python 3.8.2 64-bit ('pipe-to-gbq': pipenv)"
  }
 },
 "nbformat": 4,
 "nbformat_minor": 2,
 "cells": [
  {
   "cell_type": "code",
   "execution_count": 1,
   "metadata": {},
   "outputs": [],
   "source": [
    "from google.cloud import bigquery\n",
    "from google.oauth2 import service_account\n",
    "key_path = \"./creds/service_acc_auth.json\"\n",
    "credentials = service_account.Credentials.from_service_account_file(key_path, scopes = [\"https://www.googleapis.com/auth/cloud-platform\"])\n",
    "bigquery_client = bigquery.Client(credentials=credentials, project=credentials.project_id)"
   ]
  },
  {
   "cell_type": "code",
   "execution_count": 2,
   "metadata": {},
   "outputs": [],
   "source": [
    "# query new data\n",
    "union_weeks = \"\"\"\n",
    "SELECT * , \n",
    "FROM `scanning-database.scanning_data_backup.W22` \n",
    "UNION ALL\n",
    "SELECT * , \n",
    "FROM `scanning-database.scanning_data_backup.W23` \n",
    "UNION ALL\n",
    "SELECT * , \n",
    "FROM `scanning-database.scanning_data_backup.W24` \n",
    "UNION ALL\n",
    "SELECT * , \n",
    "FROM `scanning-database.scanning_data_backup.W25` \n",
    "UNION ALL\n",
    "SELECT * , \n",
    "FROM `scanning-database.scanning_data_backup.W26` \n",
    "UNION ALL\n",
    "SELECT * , \n",
    "FROM `scanning-database.scanning_data_backup.W27` \n",
    "UNION ALL\n",
    "SELECT * , \n",
    "FROM `scanning-database.scanning_data_backup.W28` \n",
    "UNION ALL\n",
    "SELECT * , \n",
    "FROM `scanning-database.scanning_data_backup.W29`\n",
    "UNION ALL\n",
    "SELECT * , \n",
    "FROM `scanning-database.scanning_data_backup.W30`\n",
    "UNION ALL\n",
    "SELECT * , \n",
    "FROM `scanning-database.scanning_data_backup.W31`\n",
    "UNION ALL\n",
    "SELECT * , \n",
    "FROM `scanning-database.scanning_data_backup.W32`\n",
    "UNION ALL\n",
    "SELECT * , \n",
    "FROM `scanning-database.scanning_data_backup.W33`\n",
    "UNION ALL\n",
    "SELECT * , \n",
    "FROM `scanning-database.scanning_data_backup.W34`\n",
    "\"\"\""
   ]
  },
  {
   "cell_type": "code",
   "execution_count": 3,
   "metadata": {},
   "outputs": [],
   "source": [
    "# Overwriting old PowerBI source data\n",
    "job_config = bigquery.QueryJobConfig(maximum_bytes_billed=10**10,\n",
    "destination = 'scanning-database.PowerBI.PowerBI',\n",
    "write_disposition = bigquery.WriteDisposition.WRITE_TRUNCATE\n",
    ") # set query limit to 10G\n",
    "query_job = bigquery_client.query(union_weeks, job_config)  # API request\n",
    "rows = query_job.result()  # Waits for query to finish\n",
    "data_in_use = rows.to_dataframe()"
   ]
  },
  {
   "cell_type": "code",
   "execution_count": 4,
   "metadata": {},
   "outputs": [
    {
     "output_type": "execute_result",
     "data": {
      "text/plain": "                 Start_Time               Finish_Time                Activity  \\\n0 2020-07-16 10:33:59+00:00 2020-07-16 10:34:14+00:00  Preparation/Changeover   \n1 2020-07-11 17:51:00+00:00 2020-07-11 17:53:00+00:00          Factory Closed   \n2 2020-07-11 21:43:00+00:00 2020-07-11 22:26:00+00:00                   Break   \n3 2020-06-06 09:51:00+00:00 2020-06-06 09:54:00+00:00                     TBD   \n4 2020-06-05 18:50:00+00:00 2020-06-06 09:50:00+00:00                   Break   \n\n  Seq_Code Recipe_Name       Break_Reasons Missing_Ingredients Kitting_Line  \\\n0     None          F4                None                None         KL10   \n1     None          A4                None                None          KL2   \n2     None          SE  move to other line                None         KL10   \n3     None          K4                None                None         KL13   \n4     None          K4  move to other line                None         KL13   \n\n  Assembly_Batch         Event_Shift Team_Leader  Pickers_Count  \\\n0           None    Thursday Morning        Temp              0   \n1           None  Saturday Afternoon      Sanjay              0   \n2           None  Saturday Afternoon       Dummy              0   \n3           None    Saturday Morning       Tarun              0   \n4           None    Saturday Morning       Tarun              0   \n\n   Time_Consumption     Week  \n0              0.25  2020-30  \n1              1.83  2020-29  \n2             43.10  2020-29  \n3              2.85  2020-24  \n4            900.17  2020-24  ",
      "text/html": "<div>\n<style scoped>\n    .dataframe tbody tr th:only-of-type {\n        vertical-align: middle;\n    }\n\n    .dataframe tbody tr th {\n        vertical-align: top;\n    }\n\n    .dataframe thead th {\n        text-align: right;\n    }\n</style>\n<table border=\"1\" class=\"dataframe\">\n  <thead>\n    <tr style=\"text-align: right;\">\n      <th></th>\n      <th>Start_Time</th>\n      <th>Finish_Time</th>\n      <th>Activity</th>\n      <th>Seq_Code</th>\n      <th>Recipe_Name</th>\n      <th>Break_Reasons</th>\n      <th>Missing_Ingredients</th>\n      <th>Kitting_Line</th>\n      <th>Assembly_Batch</th>\n      <th>Event_Shift</th>\n      <th>Team_Leader</th>\n      <th>Pickers_Count</th>\n      <th>Time_Consumption</th>\n      <th>Week</th>\n    </tr>\n  </thead>\n  <tbody>\n    <tr>\n      <th>0</th>\n      <td>2020-07-16 10:33:59+00:00</td>\n      <td>2020-07-16 10:34:14+00:00</td>\n      <td>Preparation/Changeover</td>\n      <td>None</td>\n      <td>F4</td>\n      <td>None</td>\n      <td>None</td>\n      <td>KL10</td>\n      <td>None</td>\n      <td>Thursday Morning</td>\n      <td>Temp</td>\n      <td>0</td>\n      <td>0.25</td>\n      <td>2020-30</td>\n    </tr>\n    <tr>\n      <th>1</th>\n      <td>2020-07-11 17:51:00+00:00</td>\n      <td>2020-07-11 17:53:00+00:00</td>\n      <td>Factory Closed</td>\n      <td>None</td>\n      <td>A4</td>\n      <td>None</td>\n      <td>None</td>\n      <td>KL2</td>\n      <td>None</td>\n      <td>Saturday Afternoon</td>\n      <td>Sanjay</td>\n      <td>0</td>\n      <td>1.83</td>\n      <td>2020-29</td>\n    </tr>\n    <tr>\n      <th>2</th>\n      <td>2020-07-11 21:43:00+00:00</td>\n      <td>2020-07-11 22:26:00+00:00</td>\n      <td>Break</td>\n      <td>None</td>\n      <td>SE</td>\n      <td>move to other line</td>\n      <td>None</td>\n      <td>KL10</td>\n      <td>None</td>\n      <td>Saturday Afternoon</td>\n      <td>Dummy</td>\n      <td>0</td>\n      <td>43.10</td>\n      <td>2020-29</td>\n    </tr>\n    <tr>\n      <th>3</th>\n      <td>2020-06-06 09:51:00+00:00</td>\n      <td>2020-06-06 09:54:00+00:00</td>\n      <td>TBD</td>\n      <td>None</td>\n      <td>K4</td>\n      <td>None</td>\n      <td>None</td>\n      <td>KL13</td>\n      <td>None</td>\n      <td>Saturday Morning</td>\n      <td>Tarun</td>\n      <td>0</td>\n      <td>2.85</td>\n      <td>2020-24</td>\n    </tr>\n    <tr>\n      <th>4</th>\n      <td>2020-06-05 18:50:00+00:00</td>\n      <td>2020-06-06 09:50:00+00:00</td>\n      <td>Break</td>\n      <td>None</td>\n      <td>K4</td>\n      <td>move to other line</td>\n      <td>None</td>\n      <td>KL13</td>\n      <td>None</td>\n      <td>Saturday Morning</td>\n      <td>Tarun</td>\n      <td>0</td>\n      <td>900.17</td>\n      <td>2020-24</td>\n    </tr>\n  </tbody>\n</table>\n</div>"
     },
     "metadata": {},
     "execution_count": 4
    }
   ],
   "source": [
    "data_in_use.head()"
   ]
  },
  {
   "cell_type": "code",
   "execution_count": 5,
   "metadata": {},
   "outputs": [
    {
     "output_type": "execute_result",
     "data": {
      "text/plain": "(90876, 14)"
     },
     "metadata": {},
     "execution_count": 5
    }
   ],
   "source": [
    "data_in_use.shape"
   ]
  },
  {
   "cell_type": "code",
   "execution_count": null,
   "metadata": {},
   "outputs": [],
   "source": []
  }
 ]
}