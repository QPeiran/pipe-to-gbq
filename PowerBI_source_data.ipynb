{
 "metadata": {
  "language_info": {
   "codemirror_mode": {
    "name": "ipython",
    "version": 3
   },
   "file_extension": ".py",
   "mimetype": "text/x-python",
   "name": "python",
   "nbconvert_exporter": "python",
   "pygments_lexer": "ipython3",
   "version": "3.8.6-final"
  },
  "orig_nbformat": 2,
  "kernelspec": {
   "name": "python38664bitpipetogpqpipenv6d7bf4315754424a9df6fb708c3fc6e9",
   "display_name": "Python 3.8.6 64-bit ('pipe-to-gpq': pipenv)",
   "language": "python"
  }
 },
 "nbformat": 4,
 "nbformat_minor": 2,
 "cells": [
  {
   "cell_type": "code",
   "execution_count": 1,
   "metadata": {},
   "outputs": [],
   "source": [
    "from google.cloud import bigquery\n",
    "from google.oauth2 import service_account\n",
    "key_path = \"./creds/service_acc_auth.json\"\n",
    "credentials = service_account.Credentials.from_service_account_file(key_path, scopes = [\"https://www.googleapis.com/auth/cloud-platform\"])\n",
    "bigquery_client = bigquery.Client(credentials=credentials, project=credentials.project_id)"
   ]
  },
  {
   "cell_type": "code",
   "execution_count": 2,
   "metadata": {},
   "outputs": [],
   "source": [
    "# query new data <= 1/1\n",
    "union_weeks = \"\"\"\n",
    "SELECT * , \n",
    "FROM `scanning-database.scanning_data_backup.W01`\n",
    "UNION ALL\n",
    "SELECT * , \n",
    "FROM `scanning-database.scanning_data_backup.W02`\n",
    "UNION ALL\n",
    "SELECT * , \n",
    "FROM `scanning-database.scanning_data_backup.W03`\n",
    "UNION ALL\n",
    "SELECT * , \n",
    "FROM `scanning-database.scanning_data_backup.2021-W04`\n",
    "UNION ALL\n",
    "SELECT * , \n",
    "FROM `scanning-database.scanning_data_backup.2021-W05`\n",
    "UNION ALL\n",
    "SELECT * , \n",
    "FROM `scanning-database.scanning_data_backup.2021-W06`\n",
    "UNION ALL\n",
    "SELECT * , \n",
    "FROM `scanning-database.scanning_data_backup.2021-W07`\n",
    "UNION ALL\n",
    "SELECT * , \n",
    "FROM `scanning-database.scanning_data_backup.2021-W08`\n",
    "UNION ALL\n",
    "SELECT * , \n",
    "FROM `scanning-database.scanning_data_backup.2021-W09`\n",
    "UNION ALL\n",
    "SELECT * , \n",
    "FROM `scanning-database.scanning_data_backup.2021-W10`\n",
    "UNION ALL\n",
    "SELECT * , \n",
    "FROM `scanning-database.scanning_data_backup.2021-W11`\n",
    "UNION ALL\n",
    "SELECT * , \n",
    "FROM `scanning-database.scanning_data_backup.2021-W12`\n",
    "\"\"\""
   ]
  },
  {
   "cell_type": "code",
   "execution_count": 3,
   "metadata": {},
   "outputs": [],
   "source": [
    "# Overwriting old PowerBI source data\n",
    "job_config = bigquery.QueryJobConfig(maximum_bytes_billed=10**10,\n",
    "destination = 'scanning-database.PowerBI.PowerBI',\n",
    "write_disposition = bigquery.WriteDisposition.WRITE_TRUNCATE\n",
    ") # set query limit to 10G\n",
    "query_job = bigquery_client.query(union_weeks, job_config)  # API request\n",
    "rows = query_job.result()  # Waits for query to finish\n",
    "data_in_use = rows.to_dataframe()"
   ]
  },
  {
   "cell_type": "code",
   "execution_count": 4,
   "metadata": {
    "tags": []
   },
   "outputs": [
    {
     "output_type": "execute_result",
     "data": {
      "text/plain": [
       "                     Start_Time               Finish_Time        Activity  \\\n",
       "34870 2021-03-18 20:00:11+00:00 2021-03-18 20:03:43+00:00      Production   \n",
       "34869 2021-03-18 19:05:36+00:00 2021-03-18 19:09:42+00:00      Production   \n",
       "34868 2021-03-19 15:04:52+00:00 2021-03-19 15:08:19+00:00      Production   \n",
       "34866 2021-03-19 12:54:26+00:00 2021-03-19 12:57:49+00:00      Production   \n",
       "20437 2021-03-18 15:52:41+00:00 2021-03-19 06:11:57+00:00  Factory Closed   \n",
       "\n",
       "           Seq_Code Recipe_Name Break_Reasons Missing_Ingredients  \\\n",
       "34870  0016 of 0043          N4          None                None   \n",
       "34869  0008 of 0043          N4          None                None   \n",
       "34868  0042 of 0062          B2          None                None   \n",
       "34866  0028 of 0028          H2          None                None   \n",
       "20437          None          I4          None                None   \n",
       "\n",
       "      Kitting_Line   Assembly_Batch         Event_Shift  \\\n",
       "34870         KL14  Sat-NI Delivery  Thursday Afternoon   \n",
       "34869         KL14  Sat-NI Delivery  Thursday Afternoon   \n",
       "34868         KL13  Sat-NI Delivery    Friday Afternoon   \n",
       "34866          KL9  Sat-NI Delivery      Friday Morning   \n",
       "20437          KL5             None      Friday Morning   \n",
       "\n",
       "                 Team_Leader  Pickers_Count  Time_Consumption     Week  \n",
       "34870  iXUsr_Fuataimi(10462)              4              3.53  2021-12  \n",
       "34869  iXUsr_Fuataimi(10462)              4              4.10  2021-12  \n",
       "34868       iXUsr_Wang(9965)              4              3.45  2021-12  \n",
       "34866     iXUsr_Pontoh(6763)              4              3.38  2021-12  \n",
       "20437       iXUsr_Gwen(7292)              5            859.27  2021-12  "
      ],
      "text/html": "<div>\n<style scoped>\n    .dataframe tbody tr th:only-of-type {\n        vertical-align: middle;\n    }\n\n    .dataframe tbody tr th {\n        vertical-align: top;\n    }\n\n    .dataframe thead th {\n        text-align: right;\n    }\n</style>\n<table border=\"1\" class=\"dataframe\">\n  <thead>\n    <tr style=\"text-align: right;\">\n      <th></th>\n      <th>Start_Time</th>\n      <th>Finish_Time</th>\n      <th>Activity</th>\n      <th>Seq_Code</th>\n      <th>Recipe_Name</th>\n      <th>Break_Reasons</th>\n      <th>Missing_Ingredients</th>\n      <th>Kitting_Line</th>\n      <th>Assembly_Batch</th>\n      <th>Event_Shift</th>\n      <th>Team_Leader</th>\n      <th>Pickers_Count</th>\n      <th>Time_Consumption</th>\n      <th>Week</th>\n    </tr>\n  </thead>\n  <tbody>\n    <tr>\n      <th>34870</th>\n      <td>2021-03-18 20:00:11+00:00</td>\n      <td>2021-03-18 20:03:43+00:00</td>\n      <td>Production</td>\n      <td>0016 of 0043</td>\n      <td>N4</td>\n      <td>None</td>\n      <td>None</td>\n      <td>KL14</td>\n      <td>Sat-NI Delivery</td>\n      <td>Thursday Afternoon</td>\n      <td>iXUsr_Fuataimi(10462)</td>\n      <td>4</td>\n      <td>3.53</td>\n      <td>2021-12</td>\n    </tr>\n    <tr>\n      <th>34869</th>\n      <td>2021-03-18 19:05:36+00:00</td>\n      <td>2021-03-18 19:09:42+00:00</td>\n      <td>Production</td>\n      <td>0008 of 0043</td>\n      <td>N4</td>\n      <td>None</td>\n      <td>None</td>\n      <td>KL14</td>\n      <td>Sat-NI Delivery</td>\n      <td>Thursday Afternoon</td>\n      <td>iXUsr_Fuataimi(10462)</td>\n      <td>4</td>\n      <td>4.10</td>\n      <td>2021-12</td>\n    </tr>\n    <tr>\n      <th>34868</th>\n      <td>2021-03-19 15:04:52+00:00</td>\n      <td>2021-03-19 15:08:19+00:00</td>\n      <td>Production</td>\n      <td>0042 of 0062</td>\n      <td>B2</td>\n      <td>None</td>\n      <td>None</td>\n      <td>KL13</td>\n      <td>Sat-NI Delivery</td>\n      <td>Friday Afternoon</td>\n      <td>iXUsr_Wang(9965)</td>\n      <td>4</td>\n      <td>3.45</td>\n      <td>2021-12</td>\n    </tr>\n    <tr>\n      <th>34866</th>\n      <td>2021-03-19 12:54:26+00:00</td>\n      <td>2021-03-19 12:57:49+00:00</td>\n      <td>Production</td>\n      <td>0028 of 0028</td>\n      <td>H2</td>\n      <td>None</td>\n      <td>None</td>\n      <td>KL9</td>\n      <td>Sat-NI Delivery</td>\n      <td>Friday Morning</td>\n      <td>iXUsr_Pontoh(6763)</td>\n      <td>4</td>\n      <td>3.38</td>\n      <td>2021-12</td>\n    </tr>\n    <tr>\n      <th>20437</th>\n      <td>2021-03-18 15:52:41+00:00</td>\n      <td>2021-03-19 06:11:57+00:00</td>\n      <td>Factory Closed</td>\n      <td>None</td>\n      <td>I4</td>\n      <td>None</td>\n      <td>None</td>\n      <td>KL5</td>\n      <td>None</td>\n      <td>Friday Morning</td>\n      <td>iXUsr_Gwen(7292)</td>\n      <td>5</td>\n      <td>859.27</td>\n      <td>2021-12</td>\n    </tr>\n  </tbody>\n</table>\n</div>"
     },
     "metadata": {},
     "execution_count": 4
    }
   ],
   "source": [
    "data_in_use.sort_values(by=['Week']).tail()"
   ]
  },
  {
   "cell_type": "code",
   "execution_count": 5,
   "metadata": {},
   "outputs": [
    {
     "output_type": "execute_result",
     "data": {
      "text/plain": [
       "(73122, 14)"
      ]
     },
     "metadata": {},
     "execution_count": 5
    }
   ],
   "source": [
    "data_in_use.shape"
   ]
  },
  {
   "cell_type": "code",
   "execution_count": null,
   "metadata": {},
   "outputs": [],
   "source": []
  }
 ]
}