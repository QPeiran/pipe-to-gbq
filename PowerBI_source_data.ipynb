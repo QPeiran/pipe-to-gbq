{
 "metadata": {
  "language_info": {
   "codemirror_mode": {
    "name": "ipython",
    "version": 3
   },
   "file_extension": ".py",
   "mimetype": "text/x-python",
   "name": "python",
   "nbconvert_exporter": "python",
   "pygments_lexer": "ipython3",
   "version": "3.8.6-final"
  },
  "orig_nbformat": 2,
  "kernelspec": {
   "name": "python_defaultSpec_1601342392948",
   "display_name": "Python 3.8.6 64-bit ('pipe-to-gpq': pipenv)"
  }
 },
 "nbformat": 4,
 "nbformat_minor": 2,
 "cells": [
  {
   "cell_type": "code",
   "execution_count": 1,
   "metadata": {},
   "outputs": [],
   "source": [
    "from google.cloud import bigquery\n",
    "from google.oauth2 import service_account\n",
    "key_path = \"./creds/service_acc_auth.json\"\n",
    "credentials = service_account.Credentials.from_service_account_file(key_path, scopes = [\"https://www.googleapis.com/auth/cloud-platform\"])\n",
    "bigquery_client = bigquery.Client(credentials=credentials, project=credentials.project_id)"
   ]
  },
  {
   "cell_type": "code",
   "execution_count": 2,
   "metadata": {},
   "outputs": [],
   "source": [
    "# query new data\n",
    "union_weeks = \"\"\"\n",
    "SELECT * , \n",
    "FROM `scanning-database.scanning_data_backup.W29`\n",
    "UNION ALL\n",
    "SELECT * , \n",
    "FROM `scanning-database.scanning_data_backup.W30`\n",
    "UNION ALL\n",
    "SELECT * , \n",
    "FROM `scanning-database.scanning_data_backup.W31`\n",
    "UNION ALL\n",
    "SELECT * , \n",
    "FROM `scanning-database.scanning_data_backup.W32`\n",
    "UNION ALL\n",
    "SELECT * , \n",
    "FROM `scanning-database.scanning_data_backup.W33`\n",
    "UNION ALL\n",
    "SELECT * , \n",
    "FROM `scanning-database.scanning_data_backup.W34`\n",
    "UNION ALL\n",
    "SELECT * , \n",
    "FROM `scanning-database.scanning_data_backup.W35`\n",
    "UNION ALL\n",
    "SELECT * , \n",
    "FROM `scanning-database.scanning_data_backup.W36`\n",
    "UNION ALL\n",
    "SELECT * , \n",
    "FROM `scanning-database.scanning_data_backup.W37`\n",
    "UNION ALL\n",
    "SELECT * , \n",
    "FROM `scanning-database.scanning_data_backup.W38`\n",
    "UNION ALL\n",
    "SELECT * , \n",
    "FROM `scanning-database.scanning_data_backup.W39`\n",
    "UNION ALL\n",
    "SELECT * , \n",
    "FROM `scanning-database.scanning_data_backup.W40`\n",
    "\"\"\""
   ]
  },
  {
   "cell_type": "code",
   "execution_count": 3,
   "metadata": {},
   "outputs": [],
   "source": [
    "# Overwriting old PowerBI source data\n",
    "job_config = bigquery.QueryJobConfig(maximum_bytes_billed=10**10,\n",
    "destination = 'scanning-database.PowerBI.PowerBI',\n",
    "write_disposition = bigquery.WriteDisposition.WRITE_TRUNCATE\n",
    ") # set query limit to 10G\n",
    "query_job = bigquery_client.query(union_weeks, job_config)  # API request\n",
    "rows = query_job.result()  # Waits for query to finish\n",
    "data_in_use = rows.to_dataframe()"
   ]
  },
  {
   "cell_type": "code",
   "execution_count": 4,
   "metadata": {},
   "outputs": [
    {
     "output_type": "execute_result",
     "data": {
      "text/plain": "                     Start_Time               Finish_Time    Activity  \\\n91324 2020-07-30 20:09:39+00:00 2020-07-30 20:14:10+00:00  Production   \n91325 2020-07-30 21:47:46+00:00 2020-07-30 21:51:19+00:00  Production   \n91326 2020-08-20 14:38:38+00:00 2020-08-20 14:38:48+00:00  Production   \n91327 2020-08-20 14:26:05+00:00 2020-08-20 14:28:31+00:00  Production   \n91328 2020-08-20 14:28:31+00:00 2020-08-20 14:28:45+00:00  Production   \n\n           Seq_Code Recipe_Name Break_Reasons Missing_Ingredients  \\\n91324  0006 of 0018          C2          None                None   \n91325  0006 of 0009          C4          None                None   \n91326  0001 of 0001          SF          None                None   \n91327  0005 of 0006          Q2          None                None   \n91328  0006 of 0006          Q2          None                None   \n\n      Kitting_Line      Assembly_Batch         Event_Shift  \\\n91324          KL3  Wednesday Assembly  Thursday Afternoon   \n91325          KL3  Wednesday Assembly  Thursday Afternoon   \n91326         KL19  Wednesday Assembly  Thursday Afternoon   \n91327         KL19  Wednesday Assembly  Thursday Afternoon   \n91328         KL19  Wednesday Assembly  Thursday Afternoon   \n\n              Team_Leader  Pickers_Count  Time_Consumption     Week  \n91324  James Ray Alay-ay;              5              4.52  2020-32  \n91325  James Ray Alay-ay;              5              3.55  2020-32  \n91326   iXUsr_Chang(8908)              6              0.17  2020-35  \n91327   iXUsr_Chang(8908)              6              2.43  2020-35  \n91328   iXUsr_Chang(8908)              6              0.23  2020-35  ",
      "text/html": "<div>\n<style scoped>\n    .dataframe tbody tr th:only-of-type {\n        vertical-align: middle;\n    }\n\n    .dataframe tbody tr th {\n        vertical-align: top;\n    }\n\n    .dataframe thead th {\n        text-align: right;\n    }\n</style>\n<table border=\"1\" class=\"dataframe\">\n  <thead>\n    <tr style=\"text-align: right;\">\n      <th></th>\n      <th>Start_Time</th>\n      <th>Finish_Time</th>\n      <th>Activity</th>\n      <th>Seq_Code</th>\n      <th>Recipe_Name</th>\n      <th>Break_Reasons</th>\n      <th>Missing_Ingredients</th>\n      <th>Kitting_Line</th>\n      <th>Assembly_Batch</th>\n      <th>Event_Shift</th>\n      <th>Team_Leader</th>\n      <th>Pickers_Count</th>\n      <th>Time_Consumption</th>\n      <th>Week</th>\n    </tr>\n  </thead>\n  <tbody>\n    <tr>\n      <th>91324</th>\n      <td>2020-07-30 20:09:39+00:00</td>\n      <td>2020-07-30 20:14:10+00:00</td>\n      <td>Production</td>\n      <td>0006 of 0018</td>\n      <td>C2</td>\n      <td>None</td>\n      <td>None</td>\n      <td>KL3</td>\n      <td>Wednesday Assembly</td>\n      <td>Thursday Afternoon</td>\n      <td>James Ray Alay-ay;</td>\n      <td>5</td>\n      <td>4.52</td>\n      <td>2020-32</td>\n    </tr>\n    <tr>\n      <th>91325</th>\n      <td>2020-07-30 21:47:46+00:00</td>\n      <td>2020-07-30 21:51:19+00:00</td>\n      <td>Production</td>\n      <td>0006 of 0009</td>\n      <td>C4</td>\n      <td>None</td>\n      <td>None</td>\n      <td>KL3</td>\n      <td>Wednesday Assembly</td>\n      <td>Thursday Afternoon</td>\n      <td>James Ray Alay-ay;</td>\n      <td>5</td>\n      <td>3.55</td>\n      <td>2020-32</td>\n    </tr>\n    <tr>\n      <th>91326</th>\n      <td>2020-08-20 14:38:38+00:00</td>\n      <td>2020-08-20 14:38:48+00:00</td>\n      <td>Production</td>\n      <td>0001 of 0001</td>\n      <td>SF</td>\n      <td>None</td>\n      <td>None</td>\n      <td>KL19</td>\n      <td>Wednesday Assembly</td>\n      <td>Thursday Afternoon</td>\n      <td>iXUsr_Chang(8908)</td>\n      <td>6</td>\n      <td>0.17</td>\n      <td>2020-35</td>\n    </tr>\n    <tr>\n      <th>91327</th>\n      <td>2020-08-20 14:26:05+00:00</td>\n      <td>2020-08-20 14:28:31+00:00</td>\n      <td>Production</td>\n      <td>0005 of 0006</td>\n      <td>Q2</td>\n      <td>None</td>\n      <td>None</td>\n      <td>KL19</td>\n      <td>Wednesday Assembly</td>\n      <td>Thursday Afternoon</td>\n      <td>iXUsr_Chang(8908)</td>\n      <td>6</td>\n      <td>2.43</td>\n      <td>2020-35</td>\n    </tr>\n    <tr>\n      <th>91328</th>\n      <td>2020-08-20 14:28:31+00:00</td>\n      <td>2020-08-20 14:28:45+00:00</td>\n      <td>Production</td>\n      <td>0006 of 0006</td>\n      <td>Q2</td>\n      <td>None</td>\n      <td>None</td>\n      <td>KL19</td>\n      <td>Wednesday Assembly</td>\n      <td>Thursday Afternoon</td>\n      <td>iXUsr_Chang(8908)</td>\n      <td>6</td>\n      <td>0.23</td>\n      <td>2020-35</td>\n    </tr>\n  </tbody>\n</table>\n</div>"
     },
     "metadata": {},
     "execution_count": 4
    }
   ],
   "source": [
    "data_in_use.tail()"
   ]
  },
  {
   "cell_type": "code",
   "execution_count": 5,
   "metadata": {},
   "outputs": [
    {
     "output_type": "execute_result",
     "data": {
      "text/plain": "(91329, 14)"
     },
     "metadata": {},
     "execution_count": 5
    }
   ],
   "source": [
    "data_in_use.shape"
   ]
  },
  {
   "cell_type": "code",
   "execution_count": null,
   "metadata": {},
   "outputs": [],
   "source": []
  }
 ]
}