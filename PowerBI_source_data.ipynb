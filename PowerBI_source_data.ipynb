{
 "metadata": {
  "language_info": {
   "codemirror_mode": {
    "name": "ipython",
    "version": 3
   },
   "file_extension": ".py",
   "mimetype": "text/x-python",
   "name": "python",
   "nbconvert_exporter": "python",
   "pygments_lexer": "ipython3",
   "version": "3.8.6-final"
  },
  "orig_nbformat": 2,
  "kernelspec": {
   "name": "python_defaultSpec_1604352940359",
   "display_name": "Python 3.8.6 64-bit ('pipe-to-gpq': pipenv)"
  }
 },
 "nbformat": 4,
 "nbformat_minor": 2,
 "cells": [
  {
   "cell_type": "code",
   "execution_count": 1,
   "metadata": {},
   "outputs": [],
   "source": [
    "from google.cloud import bigquery\n",
    "from google.oauth2 import service_account\n",
    "key_path = \"./creds/service_acc_auth.json\"\n",
    "credentials = service_account.Credentials.from_service_account_file(key_path, scopes = [\"https://www.googleapis.com/auth/cloud-platform\"])\n",
    "bigquery_client = bigquery.Client(credentials=credentials, project=credentials.project_id)"
   ]
  },
  {
   "cell_type": "code",
   "execution_count": 2,
   "metadata": {},
   "outputs": [],
   "source": [
    "# query new data <= 1/1\n",
    "union_weeks = \"\"\"\n",
    "SELECT * , \n",
    "FROM `scanning-database.scanning_data_backup.W34`\n",
    "UNION ALL\n",
    "SELECT * , \n",
    "FROM `scanning-database.scanning_data_backup.W35`\n",
    "UNION ALL\n",
    "SELECT * , \n",
    "FROM `scanning-database.scanning_data_backup.W36`\n",
    "UNION ALL\n",
    "SELECT * , \n",
    "FROM `scanning-database.scanning_data_backup.W37`\n",
    "UNION ALL\n",
    "SELECT * , \n",
    "FROM `scanning-database.scanning_data_backup.W38`\n",
    "UNION ALL\n",
    "SELECT * , \n",
    "FROM `scanning-database.scanning_data_backup.W39`\n",
    "UNION ALL\n",
    "SELECT * , \n",
    "FROM `scanning-database.scanning_data_backup.W40`\n",
    "UNION ALL\n",
    "SELECT * , \n",
    "FROM `scanning-database.scanning_data_backup.W41`\n",
    "UNION ALL\n",
    "SELECT * , \n",
    "FROM `scanning-database.scanning_data_backup.W42`\n",
    "UNION ALL\n",
    "SELECT * , \n",
    "FROM `scanning-database.scanning_data_backup.W43`\n",
    "UNION ALL\n",
    "SELECT * , \n",
    "FROM `scanning-database.scanning_data_backup.W44`\n",
    "UNION ALL\n",
    "SELECT * , \n",
    "FROM `scanning-database.scanning_data_backup.W45`\n",
    "\"\"\""
   ]
  },
  {
   "cell_type": "code",
   "execution_count": 3,
   "metadata": {},
   "outputs": [],
   "source": [
    "# Overwriting old PowerBI source data\n",
    "job_config = bigquery.QueryJobConfig(maximum_bytes_billed=10**10,\n",
    "destination = 'scanning-database.PowerBI.PowerBI',\n",
    "write_disposition = bigquery.WriteDisposition.WRITE_TRUNCATE\n",
    ") # set query limit to 10G\n",
    "query_job = bigquery_client.query(union_weeks, job_config)  # API request\n",
    "rows = query_job.result()  # Waits for query to finish\n",
    "data_in_use = rows.to_dataframe()"
   ]
  },
  {
   "cell_type": "code",
   "execution_count": 4,
   "metadata": {},
   "outputs": [
    {
     "output_type": "execute_result",
     "data": {
      "text/plain": "                     Start_Time               Finish_Time    Activity  \\\n96386 2020-08-20 16:30:56+00:00 2020-08-20 16:34:01+00:00  Production   \n96387 2020-08-20 16:55:55+00:00 2020-08-20 16:59:30+00:00  Production   \n96388 2020-08-20 14:38:38+00:00 2020-08-20 14:38:48+00:00  Production   \n96389 2020-08-20 14:28:31+00:00 2020-08-20 14:28:45+00:00  Production   \n96390 2020-08-20 14:26:05+00:00 2020-08-20 14:28:31+00:00  Production   \n\n           Seq_Code Recipe_Name Break_Reasons Missing_Ingredients  \\\n96386  0003 of 0021          C4          None                None   \n96387  0010 of 0021          C4          None                None   \n96388  0001 of 0001          SF          None                None   \n96389  0006 of 0006          Q2          None                None   \n96390  0005 of 0006          Q2          None                None   \n\n      Kitting_Line      Assembly_Batch         Event_Shift        Team_Leader  \\\n96386          KL5  Wednesday Assembly  Thursday Afternoon  iXUsr_Chang(8908)   \n96387          KL5  Wednesday Assembly  Thursday Afternoon  iXUsr_Chang(8908)   \n96388         KL19  Wednesday Assembly  Thursday Afternoon  iXUsr_Chang(8908)   \n96389         KL19  Wednesday Assembly  Thursday Afternoon  iXUsr_Chang(8908)   \n96390         KL19  Wednesday Assembly  Thursday Afternoon  iXUsr_Chang(8908)   \n\n       Pickers_Count  Time_Consumption     Week  \n96386              5              3.08  2020-35  \n96387              5              3.58  2020-35  \n96388              6              0.17  2020-35  \n96389              6              0.23  2020-35  \n96390              6              2.43  2020-35  ",
      "text/html": "<div>\n<style scoped>\n    .dataframe tbody tr th:only-of-type {\n        vertical-align: middle;\n    }\n\n    .dataframe tbody tr th {\n        vertical-align: top;\n    }\n\n    .dataframe thead th {\n        text-align: right;\n    }\n</style>\n<table border=\"1\" class=\"dataframe\">\n  <thead>\n    <tr style=\"text-align: right;\">\n      <th></th>\n      <th>Start_Time</th>\n      <th>Finish_Time</th>\n      <th>Activity</th>\n      <th>Seq_Code</th>\n      <th>Recipe_Name</th>\n      <th>Break_Reasons</th>\n      <th>Missing_Ingredients</th>\n      <th>Kitting_Line</th>\n      <th>Assembly_Batch</th>\n      <th>Event_Shift</th>\n      <th>Team_Leader</th>\n      <th>Pickers_Count</th>\n      <th>Time_Consumption</th>\n      <th>Week</th>\n    </tr>\n  </thead>\n  <tbody>\n    <tr>\n      <th>96386</th>\n      <td>2020-08-20 16:30:56+00:00</td>\n      <td>2020-08-20 16:34:01+00:00</td>\n      <td>Production</td>\n      <td>0003 of 0021</td>\n      <td>C4</td>\n      <td>None</td>\n      <td>None</td>\n      <td>KL5</td>\n      <td>Wednesday Assembly</td>\n      <td>Thursday Afternoon</td>\n      <td>iXUsr_Chang(8908)</td>\n      <td>5</td>\n      <td>3.08</td>\n      <td>2020-35</td>\n    </tr>\n    <tr>\n      <th>96387</th>\n      <td>2020-08-20 16:55:55+00:00</td>\n      <td>2020-08-20 16:59:30+00:00</td>\n      <td>Production</td>\n      <td>0010 of 0021</td>\n      <td>C4</td>\n      <td>None</td>\n      <td>None</td>\n      <td>KL5</td>\n      <td>Wednesday Assembly</td>\n      <td>Thursday Afternoon</td>\n      <td>iXUsr_Chang(8908)</td>\n      <td>5</td>\n      <td>3.58</td>\n      <td>2020-35</td>\n    </tr>\n    <tr>\n      <th>96388</th>\n      <td>2020-08-20 14:38:38+00:00</td>\n      <td>2020-08-20 14:38:48+00:00</td>\n      <td>Production</td>\n      <td>0001 of 0001</td>\n      <td>SF</td>\n      <td>None</td>\n      <td>None</td>\n      <td>KL19</td>\n      <td>Wednesday Assembly</td>\n      <td>Thursday Afternoon</td>\n      <td>iXUsr_Chang(8908)</td>\n      <td>6</td>\n      <td>0.17</td>\n      <td>2020-35</td>\n    </tr>\n    <tr>\n      <th>96389</th>\n      <td>2020-08-20 14:28:31+00:00</td>\n      <td>2020-08-20 14:28:45+00:00</td>\n      <td>Production</td>\n      <td>0006 of 0006</td>\n      <td>Q2</td>\n      <td>None</td>\n      <td>None</td>\n      <td>KL19</td>\n      <td>Wednesday Assembly</td>\n      <td>Thursday Afternoon</td>\n      <td>iXUsr_Chang(8908)</td>\n      <td>6</td>\n      <td>0.23</td>\n      <td>2020-35</td>\n    </tr>\n    <tr>\n      <th>96390</th>\n      <td>2020-08-20 14:26:05+00:00</td>\n      <td>2020-08-20 14:28:31+00:00</td>\n      <td>Production</td>\n      <td>0005 of 0006</td>\n      <td>Q2</td>\n      <td>None</td>\n      <td>None</td>\n      <td>KL19</td>\n      <td>Wednesday Assembly</td>\n      <td>Thursday Afternoon</td>\n      <td>iXUsr_Chang(8908)</td>\n      <td>6</td>\n      <td>2.43</td>\n      <td>2020-35</td>\n    </tr>\n  </tbody>\n</table>\n</div>"
     },
     "metadata": {},
     "execution_count": 4
    }
   ],
   "source": [
    "data_in_use.tail()"
   ]
  },
  {
   "cell_type": "code",
   "execution_count": 5,
   "metadata": {},
   "outputs": [
    {
     "output_type": "execute_result",
     "data": {
      "text/plain": "(96391, 14)"
     },
     "metadata": {},
     "execution_count": 5
    }
   ],
   "source": [
    "data_in_use.shape"
   ]
  },
  {
   "cell_type": "code",
   "execution_count": null,
   "metadata": {},
   "outputs": [],
   "source": []
  }
 ]
}