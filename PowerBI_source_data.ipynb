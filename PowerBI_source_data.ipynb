{
 "metadata": {
  "language_info": {
   "codemirror_mode": {
    "name": "ipython",
    "version": 3
   },
   "file_extension": ".py",
   "mimetype": "text/x-python",
   "name": "python",
   "nbconvert_exporter": "python",
   "pygments_lexer": "ipython3",
   "version": "3.8.6-final"
  },
  "orig_nbformat": 2,
  "kernelspec": {
   "name": "Python 3.8.6 64-bit ('pipe-to-gpq': pipenv)",
   "display_name": "Python 3.8.6 64-bit ('pipe-to-gpq': pipenv)",
   "metadata": {
    "interpreter": {
     "hash": "2cc73edbe6a9987db876ddf9974c5b3c8d863b2585d3ab100eab75e4607f7b36"
    }
   }
  }
 },
 "nbformat": 4,
 "nbformat_minor": 2,
 "cells": [
  {
   "cell_type": "code",
   "execution_count": 1,
   "metadata": {},
   "outputs": [],
   "source": [
    "from google.cloud import bigquery\n",
    "from google.oauth2 import service_account\n",
    "key_path = \"./creds/service_acc_auth.json\"\n",
    "credentials = service_account.Credentials.from_service_account_file(key_path, scopes = [\"https://www.googleapis.com/auth/cloud-platform\"])\n",
    "bigquery_client = bigquery.Client(credentials=credentials, project=credentials.project_id)"
   ]
  },
  {
   "cell_type": "code",
   "execution_count": 2,
   "metadata": {},
   "outputs": [],
   "source": [
    "# query new data <= 1/1\n",
    "union_weeks = \"\"\"\n",
    "SELECT * , \n",
    "FROM `scanning-database.scanning_data_backup.W37`\n",
    "UNION ALL\n",
    "SELECT * , \n",
    "FROM `scanning-database.scanning_data_backup.W38`\n",
    "UNION ALL\n",
    "SELECT * , \n",
    "FROM `scanning-database.scanning_data_backup.W39`\n",
    "UNION ALL\n",
    "SELECT * , \n",
    "FROM `scanning-database.scanning_data_backup.W40`\n",
    "UNION ALL\n",
    "SELECT * , \n",
    "FROM `scanning-database.scanning_data_backup.W41`\n",
    "UNION ALL\n",
    "SELECT * , \n",
    "FROM `scanning-database.scanning_data_backup.W42`\n",
    "UNION ALL\n",
    "SELECT * , \n",
    "FROM `scanning-database.scanning_data_backup.W43`\n",
    "UNION ALL\n",
    "SELECT * , \n",
    "FROM `scanning-database.scanning_data_backup.W44`\n",
    "UNION ALL\n",
    "SELECT * , \n",
    "FROM `scanning-database.scanning_data_backup.W45`\n",
    "UNION ALL\n",
    "SELECT * , \n",
    "FROM `scanning-database.scanning_data_backup.W46`\n",
    "UNION ALL\n",
    "SELECT * , \n",
    "FROM `scanning-database.scanning_data_backup.W47`\n",
    "UNION ALL\n",
    "SELECT * , \n",
    "FROM `scanning-database.scanning_data_backup.W48`\n",
    "\"\"\""
   ]
  },
  {
   "cell_type": "code",
   "execution_count": 3,
   "metadata": {},
   "outputs": [],
   "source": [
    "# Overwriting old PowerBI source data\n",
    "job_config = bigquery.QueryJobConfig(maximum_bytes_billed=10**10,\n",
    "destination = 'scanning-database.PowerBI.PowerBI',\n",
    "write_disposition = bigquery.WriteDisposition.WRITE_TRUNCATE\n",
    ") # set query limit to 10G\n",
    "query_job = bigquery_client.query(union_weeks, job_config)  # API request\n",
    "rows = query_job.result()  # Waits for query to finish\n",
    "data_in_use = rows.to_dataframe()"
   ]
  },
  {
   "cell_type": "code",
   "execution_count": 8,
   "metadata": {
    "tags": []
   },
   "outputs": [
    {
     "output_type": "execute_result",
     "data": {
      "text/plain": [
       "                     Start_Time               Finish_Time  \\\n",
       "52031 2020-11-22 12:13:34+00:00 2020-11-22 12:13:40+00:00   \n",
       "52032 2020-11-22 06:43:57+00:00 2020-11-22 06:48:42+00:00   \n",
       "52040 2020-11-22 10:48:56+00:00 2020-11-22 10:52:11+00:00   \n",
       "63984 2020-11-19 16:09:04+00:00 2020-11-19 16:13:20+00:00   \n",
       "82170 2020-11-20 18:52:41+00:00 2020-11-20 19:02:02+00:00   \n",
       "\n",
       "                     Activity      Seq_Code Recipe_Name Break_Reasons  \\\n",
       "52031              Production  0049 of 0054          A2          None   \n",
       "52032              Production  0011 of 0015          T2          None   \n",
       "52040              Production  0033 of 0054          A2          None   \n",
       "63984              Production  0027 of 0029          E4          None   \n",
       "82170  Preparation/Changeover          None          T2          None   \n",
       "\n",
       "      Missing_Ingredients Kitting_Line   Assembly_Batch         Event_Shift  \\\n",
       "52031                None          KL2  Monday Assembly      Sunday Morning   \n",
       "52032                None          KL7  Monday Assembly      Sunday Morning   \n",
       "52040                None          KL2  Monday Assembly      Sunday Morning   \n",
       "63984                None          KL1  Friday Assembly  Thursday Afternoon   \n",
       "82170                None          KL7             None    Friday Afternoon   \n",
       "\n",
       "                   Team_Leader  Pickers_Count  Time_Consumption     Week  \n",
       "52031       iXUsr_Normie(7460)              4              0.10  2020-48  \n",
       "52032       iXUsr_Normie(7460)              3              4.75  2020-48  \n",
       "52040       iXUsr_Normie(7460)              4              3.25  2020-48  \n",
       "63984       iXUsr_Tafai(10143)              1              4.27  2020-48  \n",
       "82170  iXUsr_Kim Jie Yap 7055;              2              9.35  2020-48  "
      ],
      "text/html": "<div>\n<style scoped>\n    .dataframe tbody tr th:only-of-type {\n        vertical-align: middle;\n    }\n\n    .dataframe tbody tr th {\n        vertical-align: top;\n    }\n\n    .dataframe thead th {\n        text-align: right;\n    }\n</style>\n<table border=\"1\" class=\"dataframe\">\n  <thead>\n    <tr style=\"text-align: right;\">\n      <th></th>\n      <th>Start_Time</th>\n      <th>Finish_Time</th>\n      <th>Activity</th>\n      <th>Seq_Code</th>\n      <th>Recipe_Name</th>\n      <th>Break_Reasons</th>\n      <th>Missing_Ingredients</th>\n      <th>Kitting_Line</th>\n      <th>Assembly_Batch</th>\n      <th>Event_Shift</th>\n      <th>Team_Leader</th>\n      <th>Pickers_Count</th>\n      <th>Time_Consumption</th>\n      <th>Week</th>\n    </tr>\n  </thead>\n  <tbody>\n    <tr>\n      <th>52031</th>\n      <td>2020-11-22 12:13:34+00:00</td>\n      <td>2020-11-22 12:13:40+00:00</td>\n      <td>Production</td>\n      <td>0049 of 0054</td>\n      <td>A2</td>\n      <td>None</td>\n      <td>None</td>\n      <td>KL2</td>\n      <td>Monday Assembly</td>\n      <td>Sunday Morning</td>\n      <td>iXUsr_Normie(7460)</td>\n      <td>4</td>\n      <td>0.10</td>\n      <td>2020-48</td>\n    </tr>\n    <tr>\n      <th>52032</th>\n      <td>2020-11-22 06:43:57+00:00</td>\n      <td>2020-11-22 06:48:42+00:00</td>\n      <td>Production</td>\n      <td>0011 of 0015</td>\n      <td>T2</td>\n      <td>None</td>\n      <td>None</td>\n      <td>KL7</td>\n      <td>Monday Assembly</td>\n      <td>Sunday Morning</td>\n      <td>iXUsr_Normie(7460)</td>\n      <td>3</td>\n      <td>4.75</td>\n      <td>2020-48</td>\n    </tr>\n    <tr>\n      <th>52040</th>\n      <td>2020-11-22 10:48:56+00:00</td>\n      <td>2020-11-22 10:52:11+00:00</td>\n      <td>Production</td>\n      <td>0033 of 0054</td>\n      <td>A2</td>\n      <td>None</td>\n      <td>None</td>\n      <td>KL2</td>\n      <td>Monday Assembly</td>\n      <td>Sunday Morning</td>\n      <td>iXUsr_Normie(7460)</td>\n      <td>4</td>\n      <td>3.25</td>\n      <td>2020-48</td>\n    </tr>\n    <tr>\n      <th>63984</th>\n      <td>2020-11-19 16:09:04+00:00</td>\n      <td>2020-11-19 16:13:20+00:00</td>\n      <td>Production</td>\n      <td>0027 of 0029</td>\n      <td>E4</td>\n      <td>None</td>\n      <td>None</td>\n      <td>KL1</td>\n      <td>Friday Assembly</td>\n      <td>Thursday Afternoon</td>\n      <td>iXUsr_Tafai(10143)</td>\n      <td>1</td>\n      <td>4.27</td>\n      <td>2020-48</td>\n    </tr>\n    <tr>\n      <th>82170</th>\n      <td>2020-11-20 18:52:41+00:00</td>\n      <td>2020-11-20 19:02:02+00:00</td>\n      <td>Preparation/Changeover</td>\n      <td>None</td>\n      <td>T2</td>\n      <td>None</td>\n      <td>None</td>\n      <td>KL7</td>\n      <td>None</td>\n      <td>Friday Afternoon</td>\n      <td>iXUsr_Kim Jie Yap 7055;</td>\n      <td>2</td>\n      <td>9.35</td>\n      <td>2020-48</td>\n    </tr>\n  </tbody>\n</table>\n</div>"
     },
     "metadata": {},
     "execution_count": 8
    }
   ],
   "source": [
    "data_in_use.sort_values(by=['Week']).tail()"
   ]
  },
  {
   "cell_type": "code",
   "execution_count": 5,
   "metadata": {},
   "outputs": [
    {
     "output_type": "execute_result",
     "data": {
      "text/plain": [
       "(94253, 14)"
      ]
     },
     "metadata": {},
     "execution_count": 5
    }
   ],
   "source": [
    "data_in_use.shape"
   ]
  },
  {
   "cell_type": "code",
   "execution_count": null,
   "metadata": {},
   "outputs": [],
   "source": []
  }
 ]
}