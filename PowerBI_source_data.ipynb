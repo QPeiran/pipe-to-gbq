{
 "metadata": {
  "language_info": {
   "codemirror_mode": {
    "name": "ipython",
    "version": 3
   },
   "file_extension": ".py",
   "mimetype": "text/x-python",
   "name": "python",
   "nbconvert_exporter": "python",
   "pygments_lexer": "ipython3",
   "version": "3.8.6-final"
  },
  "orig_nbformat": 2,
  "kernelspec": {
   "name": "Python 3.8.6 64-bit ('pipe-to-gpq': pipenv)",
   "display_name": "Python 3.8.6 64-bit ('pipe-to-gpq': pipenv)",
   "metadata": {
    "interpreter": {
     "hash": "2cc73edbe6a9987db876ddf9974c5b3c8d863b2585d3ab100eab75e4607f7b36"
    }
   }
  }
 },
 "nbformat": 4,
 "nbformat_minor": 2,
 "cells": [
  {
   "cell_type": "code",
   "execution_count": 4,
   "metadata": {},
   "outputs": [],
   "source": [
    "from google.cloud import bigquery\n",
    "from google.oauth2 import service_account\n",
    "key_path = \"./creds/service_acc_auth.json\"\n",
    "credentials = service_account.Credentials.from_service_account_file(key_path, scopes = [\"https://www.googleapis.com/auth/cloud-platform\"])\n",
    "bigquery_client = bigquery.Client(credentials=credentials, project=credentials.project_id)"
   ]
  },
  {
   "cell_type": "code",
   "execution_count": 6,
   "metadata": {},
   "outputs": [],
   "source": [
    "# query new data <= 1/1\n",
    "union_weeks = \"\"\"\n",
    "SELECT * , \n",
    "FROM `scanning-database.scanning_data_backup.W50`\n",
    "UNION ALL\n",
    "SELECT * , \n",
    "FROM `scanning-database.scanning_data_backup.W51`\n",
    "UNION ALL\n",
    "SELECT * , \n",
    "FROM `scanning-database.scanning_data_backup.W52`\n",
    "UNION ALL\n",
    "SELECT * , \n",
    "FROM `scanning-database.scanning_data_backup.W53`\n",
    "UNION ALL\n",
    "SELECT * , \n",
    "FROM `scanning-database.scanning_data_backup.W01`\n",
    "UNION ALL\n",
    "SELECT * , \n",
    "FROM `scanning-database.scanning_data_backup.W02`\n",
    "UNION ALL\n",
    "SELECT * , \n",
    "FROM `scanning-database.scanning_data_backup.W03`\n",
    "UNION ALL\n",
    "SELECT * , \n",
    "FROM `scanning-database.scanning_data_backup.2021-W04`\n",
    "UNION ALL\n",
    "SELECT * , \n",
    "FROM `scanning-database.scanning_data_backup.2021-W05`\n",
    "UNION ALL\n",
    "SELECT * , \n",
    "FROM `scanning-database.scanning_data_backup.2021-W06`\n",
    "UNION ALL\n",
    "SELECT * , \n",
    "FROM `scanning-database.scanning_data_backup.2021-W07`\n",
    "UNION ALL\n",
    "SELECT * , \n",
    "FROM `scanning-database.scanning_data_backup.2021-W08`\n",
    "\"\"\""
   ]
  },
  {
   "cell_type": "code",
   "execution_count": 8,
   "metadata": {},
   "outputs": [],
   "source": [
    "# Overwriting old PowerBI source data\n",
    "job_config = bigquery.QueryJobConfig(maximum_bytes_billed=10**10,\n",
    "destination = 'scanning-database.PowerBI.PowerBI',\n",
    "write_disposition = bigquery.WriteDisposition.WRITE_TRUNCATE\n",
    ") # set query limit to 10G\n",
    "query_job = bigquery_client.query(union_weeks, job_config)  # API request\n",
    "rows = query_job.result()  # Waits for query to finish\n",
    "data_in_use = rows.to_dataframe()"
   ]
  },
  {
   "cell_type": "code",
   "execution_count": 9,
   "metadata": {
    "tags": []
   },
   "outputs": [
    {
     "output_type": "execute_result",
     "data": {
      "text/plain": [
       "                     Start_Time               Finish_Time    Activity  \\\n",
       "35426 2021-02-18 09:20:11+00:00 2021-02-18 09:24:10+00:00  Production   \n",
       "35425 2021-02-18 10:14:22+00:00 2021-02-18 10:18:26+00:00  Production   \n",
       "35424 2021-02-18 09:27:49+00:00 2021-02-18 09:32:11+00:00  Production   \n",
       "35442 2021-02-18 07:10:41+00:00 2021-02-18 07:14:52+00:00  Production   \n",
       "31552 2021-02-18 17:10:25+00:00 2021-02-18 17:11:01+00:00  Production   \n",
       "\n",
       "           Seq_Code Recipe_Name Break_Reasons Missing_Ingredients  \\\n",
       "35426  0020 of 0028          B2          None                None   \n",
       "35425  0025 of 0029          B4          None                None   \n",
       "35424  0022 of 0028          B2          None                None   \n",
       "35442  0014 of 0029          B4          None                None   \n",
       "31552  0009 of 0010          G4          None                None   \n",
       "\n",
       "      Kitting_Line   Assembly_Batch         Event_Shift       Team_Leader  \\\n",
       "35426          KL2  Sun-SI Delivery    Thursday Morning  iXUsr_Gwen(7292)   \n",
       "35425          KL2  Sun-SI Delivery    Thursday Morning  iXUsr_Gwen(7292)   \n",
       "35424          KL2  Sun-SI Delivery    Thursday Morning  iXUsr_Gwen(7292)   \n",
       "35442          KL2  Sun-SI Delivery    Thursday Morning  iXUsr_Gwen(7292)   \n",
       "31552          KL4  Sat-NI Delivery  Thursday Afternoon      Melanie Dua;   \n",
       "\n",
       "       Pickers_Count  Time_Consumption     Week  \n",
       "35426              6              3.98  2021-08  \n",
       "35425              6              4.07  2021-08  \n",
       "35424              6              4.37  2021-08  \n",
       "35442              6              4.18  2021-08  \n",
       "31552              4              0.60  2021-08  "
      ],
      "text/html": "<div>\n<style scoped>\n    .dataframe tbody tr th:only-of-type {\n        vertical-align: middle;\n    }\n\n    .dataframe tbody tr th {\n        vertical-align: top;\n    }\n\n    .dataframe thead th {\n        text-align: right;\n    }\n</style>\n<table border=\"1\" class=\"dataframe\">\n  <thead>\n    <tr style=\"text-align: right;\">\n      <th></th>\n      <th>Start_Time</th>\n      <th>Finish_Time</th>\n      <th>Activity</th>\n      <th>Seq_Code</th>\n      <th>Recipe_Name</th>\n      <th>Break_Reasons</th>\n      <th>Missing_Ingredients</th>\n      <th>Kitting_Line</th>\n      <th>Assembly_Batch</th>\n      <th>Event_Shift</th>\n      <th>Team_Leader</th>\n      <th>Pickers_Count</th>\n      <th>Time_Consumption</th>\n      <th>Week</th>\n    </tr>\n  </thead>\n  <tbody>\n    <tr>\n      <th>35426</th>\n      <td>2021-02-18 09:20:11+00:00</td>\n      <td>2021-02-18 09:24:10+00:00</td>\n      <td>Production</td>\n      <td>0020 of 0028</td>\n      <td>B2</td>\n      <td>None</td>\n      <td>None</td>\n      <td>KL2</td>\n      <td>Sun-SI Delivery</td>\n      <td>Thursday Morning</td>\n      <td>iXUsr_Gwen(7292)</td>\n      <td>6</td>\n      <td>3.98</td>\n      <td>2021-08</td>\n    </tr>\n    <tr>\n      <th>35425</th>\n      <td>2021-02-18 10:14:22+00:00</td>\n      <td>2021-02-18 10:18:26+00:00</td>\n      <td>Production</td>\n      <td>0025 of 0029</td>\n      <td>B4</td>\n      <td>None</td>\n      <td>None</td>\n      <td>KL2</td>\n      <td>Sun-SI Delivery</td>\n      <td>Thursday Morning</td>\n      <td>iXUsr_Gwen(7292)</td>\n      <td>6</td>\n      <td>4.07</td>\n      <td>2021-08</td>\n    </tr>\n    <tr>\n      <th>35424</th>\n      <td>2021-02-18 09:27:49+00:00</td>\n      <td>2021-02-18 09:32:11+00:00</td>\n      <td>Production</td>\n      <td>0022 of 0028</td>\n      <td>B2</td>\n      <td>None</td>\n      <td>None</td>\n      <td>KL2</td>\n      <td>Sun-SI Delivery</td>\n      <td>Thursday Morning</td>\n      <td>iXUsr_Gwen(7292)</td>\n      <td>6</td>\n      <td>4.37</td>\n      <td>2021-08</td>\n    </tr>\n    <tr>\n      <th>35442</th>\n      <td>2021-02-18 07:10:41+00:00</td>\n      <td>2021-02-18 07:14:52+00:00</td>\n      <td>Production</td>\n      <td>0014 of 0029</td>\n      <td>B4</td>\n      <td>None</td>\n      <td>None</td>\n      <td>KL2</td>\n      <td>Sun-SI Delivery</td>\n      <td>Thursday Morning</td>\n      <td>iXUsr_Gwen(7292)</td>\n      <td>6</td>\n      <td>4.18</td>\n      <td>2021-08</td>\n    </tr>\n    <tr>\n      <th>31552</th>\n      <td>2021-02-18 17:10:25+00:00</td>\n      <td>2021-02-18 17:11:01+00:00</td>\n      <td>Production</td>\n      <td>0009 of 0010</td>\n      <td>G4</td>\n      <td>None</td>\n      <td>None</td>\n      <td>KL4</td>\n      <td>Sat-NI Delivery</td>\n      <td>Thursday Afternoon</td>\n      <td>Melanie Dua;</td>\n      <td>4</td>\n      <td>0.60</td>\n      <td>2021-08</td>\n    </tr>\n  </tbody>\n</table>\n</div>"
     },
     "metadata": {},
     "execution_count": 9
    }
   ],
   "source": [
    "data_in_use.sort_values(by=['Week']).tail()"
   ]
  },
  {
   "cell_type": "code",
   "execution_count": 10,
   "metadata": {},
   "outputs": [
    {
     "output_type": "execute_result",
     "data": {
      "text/plain": [
       "(63105, 14)"
      ]
     },
     "metadata": {},
     "execution_count": 10
    }
   ],
   "source": [
    "data_in_use.shape"
   ]
  },
  {
   "cell_type": "code",
   "execution_count": null,
   "metadata": {},
   "outputs": [],
   "source": []
  }
 ]
}