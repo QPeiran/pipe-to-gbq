{
 "metadata": {
  "language_info": {
   "codemirror_mode": {
    "name": "ipython",
    "version": 3
   },
   "file_extension": ".py",
   "mimetype": "text/x-python",
   "name": "python",
   "nbconvert_exporter": "python",
   "pygments_lexer": "ipython3",
   "version": "3.8.6-final"
  },
  "orig_nbformat": 2,
  "kernelspec": {
   "name": "Python 3.8.6 64-bit ('pipe-to-gpq-tlk43NP_': venv)",
   "display_name": "Python 3.8.6 64-bit ('pipe-to-gpq-tlk43NP_': venv)",
   "metadata": {
    "interpreter": {
     "hash": "2cc73edbe6a9987db876ddf9974c5b3c8d863b2585d3ab100eab75e4607f7b36"
    }
   }
  }
 },
 "nbformat": 4,
 "nbformat_minor": 2,
 "cells": [
  {
   "cell_type": "code",
   "execution_count": 1,
   "metadata": {},
   "outputs": [],
   "source": [
    "from google.cloud import bigquery\n",
    "from google.oauth2 import service_account\n",
    "key_path = \"./creds/service_acc_auth.json\"\n",
    "credentials = service_account.Credentials.from_service_account_file(key_path, scopes = [\"https://www.googleapis.com/auth/cloud-platform\"])\n",
    "bigquery_client = bigquery.Client(credentials=credentials, project=credentials.project_id)"
   ]
  },
  {
   "cell_type": "code",
   "execution_count": 2,
   "metadata": {},
   "outputs": [],
   "source": [
    "# query new data <= 1/1\n",
    "union_weeks = \"\"\"\n",
    "SELECT * , \n",
    "FROM `scanning-database.scanning_data_backup.W43`\n",
    "UNION ALL\n",
    "SELECT * , \n",
    "FROM `scanning-database.scanning_data_backup.W44`\n",
    "UNION ALL\n",
    "SELECT * , \n",
    "FROM `scanning-database.scanning_data_backup.W45`\n",
    "UNION ALL\n",
    "SELECT * , \n",
    "FROM `scanning-database.scanning_data_backup.W46`\n",
    "UNION ALL\n",
    "SELECT * , \n",
    "FROM `scanning-database.scanning_data_backup.W47`\n",
    "UNION ALL\n",
    "SELECT * , \n",
    "FROM `scanning-database.scanning_data_backup.W48`\n",
    "UNION ALL\n",
    "SELECT * , \n",
    "FROM `scanning-database.scanning_data_backup.W49`\n",
    "UNION ALL\n",
    "SELECT * , \n",
    "FROM `scanning-database.scanning_data_backup.W50`\n",
    "UNION ALL\n",
    "SELECT * , \n",
    "FROM `scanning-database.scanning_data_backup.W51`\n",
    "UNION ALL\n",
    "SELECT * , \n",
    "FROM `scanning-database.scanning_data_backup.W52`\n",
    "UNION ALL\n",
    "SELECT * , \n",
    "FROM `scanning-database.scanning_data_backup.W53`\n",
    "UNION ALL\n",
    "SELECT * , \n",
    "FROM `scanning-database.scanning_data_backup.W01`\n",
    "\"\"\""
   ]
  },
  {
   "cell_type": "code",
   "execution_count": 3,
   "metadata": {},
   "outputs": [],
   "source": [
    "# Overwriting old PowerBI source data\n",
    "job_config = bigquery.QueryJobConfig(maximum_bytes_billed=10**10,\n",
    "destination = 'scanning-database.PowerBI.PowerBI',\n",
    "write_disposition = bigquery.WriteDisposition.WRITE_TRUNCATE\n",
    ") # set query limit to 10G\n",
    "query_job = bigquery_client.query(union_weeks, job_config)  # API request\n",
    "rows = query_job.result()  # Waits for query to finish\n",
    "data_in_use = rows.to_dataframe()"
   ]
  },
  {
   "cell_type": "code",
   "execution_count": 4,
   "metadata": {
    "tags": []
   },
   "outputs": [
    {
     "output_type": "execute_result",
     "data": {
      "text/plain": [
       "                     Start_Time               Finish_Time    Activity  \\\n",
       "20328 2021-01-03 12:07:21+00:00 2021-01-03 12:11:07+00:00  Production   \n",
       "20327 2021-01-03 09:00:12+00:00 2021-01-03 09:04:17+00:00  Production   \n",
       "20326 2021-01-03 07:27:20+00:00 2021-01-03 07:31:47+00:00  Production   \n",
       "20324 2021-01-03 13:09:02+00:00 2021-01-03 13:09:31+00:00  Production   \n",
       "20951 2021-01-03 08:31:18+00:00 2021-01-03 08:33:30+00:00  Production   \n",
       "\n",
       "           Seq_Code Recipe_Name Break_Reasons Missing_Ingredients  \\\n",
       "20328  0011 of 0013          T4          None                None   \n",
       "20327  0031 of 0042          L4          None                None   \n",
       "20326  0017 of 0042          L4          None                None   \n",
       "20324  0048 of 0060          C4          None                None   \n",
       "20951  0025 of 0042          L4          None                None   \n",
       "\n",
       "      Kitting_Line   Assembly_Batch     Event_Shift          Team_Leader  \\\n",
       "20328         KL18  Monday Assembly  Sunday Morning  iXUsr_Cabrera(6933)   \n",
       "20327         KL13  Monday Assembly  Sunday Morning      iXUsr_Yin(9596)   \n",
       "20326         KL13  Monday Assembly  Sunday Morning      iXUsr_Yin(9596)   \n",
       "20324          KL4  Monday Assembly  Sunday Morning      iXUsr_Yin(9596)   \n",
       "20951         KL13  Monday Assembly  Sunday Morning      iXUsr_Yin(9596)   \n",
       "\n",
       "       Pickers_Count  Time_Consumption     Week  \n",
       "20328              3              3.77  2021-01  \n",
       "20327              2              4.08  2021-01  \n",
       "20326              2              4.45  2021-01  \n",
       "20324              2              0.48  2021-01  \n",
       "20951              2              2.20  2021-01  "
      ],
      "text/html": "<div>\n<style scoped>\n    .dataframe tbody tr th:only-of-type {\n        vertical-align: middle;\n    }\n\n    .dataframe tbody tr th {\n        vertical-align: top;\n    }\n\n    .dataframe thead th {\n        text-align: right;\n    }\n</style>\n<table border=\"1\" class=\"dataframe\">\n  <thead>\n    <tr style=\"text-align: right;\">\n      <th></th>\n      <th>Start_Time</th>\n      <th>Finish_Time</th>\n      <th>Activity</th>\n      <th>Seq_Code</th>\n      <th>Recipe_Name</th>\n      <th>Break_Reasons</th>\n      <th>Missing_Ingredients</th>\n      <th>Kitting_Line</th>\n      <th>Assembly_Batch</th>\n      <th>Event_Shift</th>\n      <th>Team_Leader</th>\n      <th>Pickers_Count</th>\n      <th>Time_Consumption</th>\n      <th>Week</th>\n    </tr>\n  </thead>\n  <tbody>\n    <tr>\n      <th>20328</th>\n      <td>2021-01-03 12:07:21+00:00</td>\n      <td>2021-01-03 12:11:07+00:00</td>\n      <td>Production</td>\n      <td>0011 of 0013</td>\n      <td>T4</td>\n      <td>None</td>\n      <td>None</td>\n      <td>KL18</td>\n      <td>Monday Assembly</td>\n      <td>Sunday Morning</td>\n      <td>iXUsr_Cabrera(6933)</td>\n      <td>3</td>\n      <td>3.77</td>\n      <td>2021-01</td>\n    </tr>\n    <tr>\n      <th>20327</th>\n      <td>2021-01-03 09:00:12+00:00</td>\n      <td>2021-01-03 09:04:17+00:00</td>\n      <td>Production</td>\n      <td>0031 of 0042</td>\n      <td>L4</td>\n      <td>None</td>\n      <td>None</td>\n      <td>KL13</td>\n      <td>Monday Assembly</td>\n      <td>Sunday Morning</td>\n      <td>iXUsr_Yin(9596)</td>\n      <td>2</td>\n      <td>4.08</td>\n      <td>2021-01</td>\n    </tr>\n    <tr>\n      <th>20326</th>\n      <td>2021-01-03 07:27:20+00:00</td>\n      <td>2021-01-03 07:31:47+00:00</td>\n      <td>Production</td>\n      <td>0017 of 0042</td>\n      <td>L4</td>\n      <td>None</td>\n      <td>None</td>\n      <td>KL13</td>\n      <td>Monday Assembly</td>\n      <td>Sunday Morning</td>\n      <td>iXUsr_Yin(9596)</td>\n      <td>2</td>\n      <td>4.45</td>\n      <td>2021-01</td>\n    </tr>\n    <tr>\n      <th>20324</th>\n      <td>2021-01-03 13:09:02+00:00</td>\n      <td>2021-01-03 13:09:31+00:00</td>\n      <td>Production</td>\n      <td>0048 of 0060</td>\n      <td>C4</td>\n      <td>None</td>\n      <td>None</td>\n      <td>KL4</td>\n      <td>Monday Assembly</td>\n      <td>Sunday Morning</td>\n      <td>iXUsr_Yin(9596)</td>\n      <td>2</td>\n      <td>0.48</td>\n      <td>2021-01</td>\n    </tr>\n    <tr>\n      <th>20951</th>\n      <td>2021-01-03 08:31:18+00:00</td>\n      <td>2021-01-03 08:33:30+00:00</td>\n      <td>Production</td>\n      <td>0025 of 0042</td>\n      <td>L4</td>\n      <td>None</td>\n      <td>None</td>\n      <td>KL13</td>\n      <td>Monday Assembly</td>\n      <td>Sunday Morning</td>\n      <td>iXUsr_Yin(9596)</td>\n      <td>2</td>\n      <td>2.20</td>\n      <td>2021-01</td>\n    </tr>\n  </tbody>\n</table>\n</div>"
     },
     "metadata": {},
     "execution_count": 4
    }
   ],
   "source": [
    "data_in_use.sort_values(by=['Week']).tail()"
   ]
  },
  {
   "cell_type": "code",
   "execution_count": 5,
   "metadata": {},
   "outputs": [
    {
     "output_type": "execute_result",
     "data": {
      "text/plain": [
       "(74077, 14)"
      ]
     },
     "metadata": {},
     "execution_count": 5
    }
   ],
   "source": [
    "data_in_use.shape"
   ]
  },
  {
   "cell_type": "code",
   "execution_count": null,
   "metadata": {},
   "outputs": [],
   "source": []
  }
 ]
}