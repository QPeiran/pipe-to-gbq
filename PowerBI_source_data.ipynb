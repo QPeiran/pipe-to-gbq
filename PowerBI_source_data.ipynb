{
 "metadata": {
  "language_info": {
   "codemirror_mode": {
    "name": "ipython",
    "version": 3
   },
   "file_extension": ".py",
   "mimetype": "text/x-python",
   "name": "python",
   "nbconvert_exporter": "python",
   "pygments_lexer": "ipython3",
   "version": "3.8.6-final"
  },
  "orig_nbformat": 2,
  "kernelspec": {
   "name": "Python 3.8.6 64-bit ('pipe-to-gpq': pipenv)",
   "display_name": "Python 3.8.6 64-bit ('pipe-to-gpq': pipenv)",
   "metadata": {
    "interpreter": {
     "hash": "2cc73edbe6a9987db876ddf9974c5b3c8d863b2585d3ab100eab75e4607f7b36"
    }
   }
  }
 },
 "nbformat": 4,
 "nbformat_minor": 2,
 "cells": [
  {
   "cell_type": "code",
   "execution_count": 1,
   "metadata": {},
   "outputs": [],
   "source": [
    "from google.cloud import bigquery\n",
    "from google.oauth2 import service_account\n",
    "key_path = \"./creds/service_acc_auth.json\"\n",
    "credentials = service_account.Credentials.from_service_account_file(key_path, scopes = [\"https://www.googleapis.com/auth/cloud-platform\"])\n",
    "bigquery_client = bigquery.Client(credentials=credentials, project=credentials.project_id)"
   ]
  },
  {
   "cell_type": "code",
   "execution_count": 2,
   "metadata": {},
   "outputs": [],
   "source": [
    "# query new data <= 1/1\n",
    "union_weeks = \"\"\"\n",
    "SELECT * , \n",
    "FROM `scanning-database.scanning_data_backup.W45`\n",
    "UNION ALL\n",
    "SELECT * , \n",
    "FROM `scanning-database.scanning_data_backup.W46`\n",
    "UNION ALL\n",
    "SELECT * , \n",
    "FROM `scanning-database.scanning_data_backup.W47`\n",
    "UNION ALL\n",
    "SELECT * , \n",
    "FROM `scanning-database.scanning_data_backup.W48`\n",
    "UNION ALL\n",
    "SELECT * , \n",
    "FROM `scanning-database.scanning_data_backup.W49`\n",
    "UNION ALL\n",
    "SELECT * , \n",
    "FROM `scanning-database.scanning_data_backup.W50`\n",
    "UNION ALL\n",
    "SELECT * , \n",
    "FROM `scanning-database.scanning_data_backup.W51`\n",
    "UNION ALL\n",
    "SELECT * , \n",
    "FROM `scanning-database.scanning_data_backup.W52`\n",
    "UNION ALL\n",
    "SELECT * , \n",
    "FROM `scanning-database.scanning_data_backup.W53`\n",
    "UNION ALL\n",
    "SELECT * , \n",
    "FROM `scanning-database.scanning_data_backup.W01`\n",
    "UNION ALL\n",
    "SELECT * , \n",
    "FROM `scanning-database.scanning_data_backup.W02`\n",
    "UNION ALL\n",
    "SELECT * , \n",
    "FROM `scanning-database.scanning_data_backup.W03`\n",
    "\"\"\""
   ]
  },
  {
   "cell_type": "code",
   "execution_count": 3,
   "metadata": {},
   "outputs": [],
   "source": [
    "# Overwriting old PowerBI source data\n",
    "job_config = bigquery.QueryJobConfig(maximum_bytes_billed=10**10,\n",
    "destination = 'scanning-database.PowerBI.PowerBI',\n",
    "write_disposition = bigquery.WriteDisposition.WRITE_TRUNCATE\n",
    ") # set query limit to 10G\n",
    "query_job = bigquery_client.query(union_weeks, job_config)  # API request\n",
    "rows = query_job.result()  # Waits for query to finish\n",
    "data_in_use = rows.to_dataframe()"
   ]
  },
  {
   "cell_type": "code",
   "execution_count": 4,
   "metadata": {
    "tags": []
   },
   "outputs": [
    {
     "output_type": "execute_result",
     "data": {
      "text/plain": [
       "                     Start_Time               Finish_Time  \\\n",
       "11747 2021-01-15 13:05:22+00:00 2021-01-15 13:10:31+00:00   \n",
       "11748 2021-01-15 12:44:57+00:00 2021-01-15 12:45:07+00:00   \n",
       "64670 2021-01-15 12:55:54+00:00 2021-01-15 12:59:02+00:00   \n",
       "1729  2021-01-15 12:51:47+00:00 2021-01-15 12:54:56+00:00   \n",
       "43204 2021-01-14 06:40:30+00:00 2021-01-14 06:45:20+00:00   \n",
       "\n",
       "                     Activity      Seq_Code Recipe_Name     Break_Reasons  \\\n",
       "11747              Production  0025 of 0047          A2              None   \n",
       "11748              Production  0001 of 0026          H2              None   \n",
       "64670  Preparation/Changeover          None          V4              None   \n",
       "1729                    Break          None          P2  missing products   \n",
       "43204              Production  0008 of 0016          R4              None   \n",
       "\n",
       "      Missing_Ingredients Kitting_Line      Assembly_Batch       Event_Shift  \\\n",
       "11747                None          KL6   Saturday Assembly    Friday Morning   \n",
       "11748                None          KL7   Saturday Assembly    Friday Morning   \n",
       "64670                None         KL13                None    Friday Morning   \n",
       "1729                 None         KL16                None    Friday Morning   \n",
       "43204                None          KL1  Wednesday Assembly  Thursday Morning   \n",
       "\n",
       "                 Team_Leader  Pickers_Count  Time_Consumption     Week  \n",
       "11747       iXUsr_Gwen(7292)              4              5.15  2021-03  \n",
       "11748  iXUsr_Strzeletz(6101)              3              0.17  2021-03  \n",
       "64670    iXUsr_Siregar(6092)              4              3.13  2021-03  \n",
       "1729        iXUsr_Anne(7488)              4              3.15  2021-03  \n",
       "43204    iXUsr_Siregar(6092)              3              4.83  2021-03  "
      ],
      "text/html": "<div>\n<style scoped>\n    .dataframe tbody tr th:only-of-type {\n        vertical-align: middle;\n    }\n\n    .dataframe tbody tr th {\n        vertical-align: top;\n    }\n\n    .dataframe thead th {\n        text-align: right;\n    }\n</style>\n<table border=\"1\" class=\"dataframe\">\n  <thead>\n    <tr style=\"text-align: right;\">\n      <th></th>\n      <th>Start_Time</th>\n      <th>Finish_Time</th>\n      <th>Activity</th>\n      <th>Seq_Code</th>\n      <th>Recipe_Name</th>\n      <th>Break_Reasons</th>\n      <th>Missing_Ingredients</th>\n      <th>Kitting_Line</th>\n      <th>Assembly_Batch</th>\n      <th>Event_Shift</th>\n      <th>Team_Leader</th>\n      <th>Pickers_Count</th>\n      <th>Time_Consumption</th>\n      <th>Week</th>\n    </tr>\n  </thead>\n  <tbody>\n    <tr>\n      <th>11747</th>\n      <td>2021-01-15 13:05:22+00:00</td>\n      <td>2021-01-15 13:10:31+00:00</td>\n      <td>Production</td>\n      <td>0025 of 0047</td>\n      <td>A2</td>\n      <td>None</td>\n      <td>None</td>\n      <td>KL6</td>\n      <td>Saturday Assembly</td>\n      <td>Friday Morning</td>\n      <td>iXUsr_Gwen(7292)</td>\n      <td>4</td>\n      <td>5.15</td>\n      <td>2021-03</td>\n    </tr>\n    <tr>\n      <th>11748</th>\n      <td>2021-01-15 12:44:57+00:00</td>\n      <td>2021-01-15 12:45:07+00:00</td>\n      <td>Production</td>\n      <td>0001 of 0026</td>\n      <td>H2</td>\n      <td>None</td>\n      <td>None</td>\n      <td>KL7</td>\n      <td>Saturday Assembly</td>\n      <td>Friday Morning</td>\n      <td>iXUsr_Strzeletz(6101)</td>\n      <td>3</td>\n      <td>0.17</td>\n      <td>2021-03</td>\n    </tr>\n    <tr>\n      <th>64670</th>\n      <td>2021-01-15 12:55:54+00:00</td>\n      <td>2021-01-15 12:59:02+00:00</td>\n      <td>Preparation/Changeover</td>\n      <td>None</td>\n      <td>V4</td>\n      <td>None</td>\n      <td>None</td>\n      <td>KL13</td>\n      <td>None</td>\n      <td>Friday Morning</td>\n      <td>iXUsr_Siregar(6092)</td>\n      <td>4</td>\n      <td>3.13</td>\n      <td>2021-03</td>\n    </tr>\n    <tr>\n      <th>1729</th>\n      <td>2021-01-15 12:51:47+00:00</td>\n      <td>2021-01-15 12:54:56+00:00</td>\n      <td>Break</td>\n      <td>None</td>\n      <td>P2</td>\n      <td>missing products</td>\n      <td>None</td>\n      <td>KL16</td>\n      <td>None</td>\n      <td>Friday Morning</td>\n      <td>iXUsr_Anne(7488)</td>\n      <td>4</td>\n      <td>3.15</td>\n      <td>2021-03</td>\n    </tr>\n    <tr>\n      <th>43204</th>\n      <td>2021-01-14 06:40:30+00:00</td>\n      <td>2021-01-14 06:45:20+00:00</td>\n      <td>Production</td>\n      <td>0008 of 0016</td>\n      <td>R4</td>\n      <td>None</td>\n      <td>None</td>\n      <td>KL1</td>\n      <td>Wednesday Assembly</td>\n      <td>Thursday Morning</td>\n      <td>iXUsr_Siregar(6092)</td>\n      <td>3</td>\n      <td>4.83</td>\n      <td>2021-03</td>\n    </tr>\n  </tbody>\n</table>\n</div>"
     },
     "metadata": {},
     "execution_count": 4
    }
   ],
   "source": [
    "data_in_use.sort_values(by=['Week']).tail()"
   ]
  },
  {
   "cell_type": "code",
   "execution_count": 5,
   "metadata": {},
   "outputs": [
    {
     "output_type": "execute_result",
     "data": {
      "text/plain": [
       "(68033, 14)"
      ]
     },
     "metadata": {},
     "execution_count": 5
    }
   ],
   "source": [
    "data_in_use.shape"
   ]
  },
  {
   "cell_type": "code",
   "execution_count": null,
   "metadata": {},
   "outputs": [],
   "source": []
  }
 ]
}