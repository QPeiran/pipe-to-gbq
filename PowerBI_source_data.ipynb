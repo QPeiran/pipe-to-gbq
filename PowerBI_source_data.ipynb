{
 "metadata": {
  "language_info": {
   "codemirror_mode": {
    "name": "ipython",
    "version": 3
   },
   "file_extension": ".py",
   "mimetype": "text/x-python",
   "name": "python",
   "nbconvert_exporter": "python",
   "pygments_lexer": "ipython3",
   "version": "3.8.6-final"
  },
  "orig_nbformat": 2,
  "kernelspec": {
   "name": "Python 3.8.6 64-bit ('pipe-to-gpq': pipenv)",
   "display_name": "Python 3.8.6 64-bit ('pipe-to-gpq': pipenv)",
   "metadata": {
    "interpreter": {
     "hash": "2cc73edbe6a9987db876ddf9974c5b3c8d863b2585d3ab100eab75e4607f7b36"
    }
   }
  }
 },
 "nbformat": 4,
 "nbformat_minor": 2,
 "cells": [
  {
   "cell_type": "code",
   "execution_count": 4,
   "metadata": {},
   "outputs": [],
   "source": [
    "from google.cloud import bigquery\n",
    "from google.oauth2 import service_account\n",
    "key_path = \"./creds/service_acc_auth.json\"\n",
    "credentials = service_account.Credentials.from_service_account_file(key_path, scopes = [\"https://www.googleapis.com/auth/cloud-platform\"])\n",
    "bigquery_client = bigquery.Client(credentials=credentials, project=credentials.project_id)"
   ]
  },
  {
   "cell_type": "code",
   "execution_count": 5,
   "metadata": {},
   "outputs": [],
   "source": [
    "# query new data <= 1/1\n",
    "union_weeks = \"\"\"\n",
    "SELECT * , \n",
    "FROM `scanning-database.scanning_data_backup.W51`\n",
    "UNION ALL\n",
    "SELECT * , \n",
    "FROM `scanning-database.scanning_data_backup.W52`\n",
    "UNION ALL\n",
    "SELECT * , \n",
    "FROM `scanning-database.scanning_data_backup.W53`\n",
    "UNION ALL\n",
    "SELECT * , \n",
    "FROM `scanning-database.scanning_data_backup.W01`\n",
    "UNION ALL\n",
    "SELECT * , \n",
    "FROM `scanning-database.scanning_data_backup.W02`\n",
    "UNION ALL\n",
    "SELECT * , \n",
    "FROM `scanning-database.scanning_data_backup.W03`\n",
    "UNION ALL\n",
    "SELECT * , \n",
    "FROM `scanning-database.scanning_data_backup.2021-W04`\n",
    "UNION ALL\n",
    "SELECT * , \n",
    "FROM `scanning-database.scanning_data_backup.2021-W05`\n",
    "UNION ALL\n",
    "SELECT * , \n",
    "FROM `scanning-database.scanning_data_backup.2021-W06`\n",
    "UNION ALL\n",
    "SELECT * , \n",
    "FROM `scanning-database.scanning_data_backup.2021-W07`\n",
    "UNION ALL\n",
    "SELECT * , \n",
    "FROM `scanning-database.scanning_data_backup.2021-W08`\n",
    "UNION ALL\n",
    "SELECT * , \n",
    "FROM `scanning-database.scanning_data_backup.2021-W09`\n",
    "\"\"\""
   ]
  },
  {
   "cell_type": "code",
   "execution_count": 6,
   "metadata": {},
   "outputs": [],
   "source": [
    "# Overwriting old PowerBI source data\n",
    "job_config = bigquery.QueryJobConfig(maximum_bytes_billed=10**10,\n",
    "destination = 'scanning-database.PowerBI.PowerBI',\n",
    "write_disposition = bigquery.WriteDisposition.WRITE_TRUNCATE\n",
    ") # set query limit to 10G\n",
    "query_job = bigquery_client.query(union_weeks, job_config)  # API request\n",
    "rows = query_job.result()  # Waits for query to finish\n",
    "data_in_use = rows.to_dataframe()"
   ]
  },
  {
   "cell_type": "code",
   "execution_count": 7,
   "metadata": {
    "tags": []
   },
   "outputs": [
    {
     "output_type": "execute_result",
     "data": {
      "text/plain": [
       "                     Start_Time               Finish_Time    Activity  \\\n",
       "37328 2021-02-25 06:19:33+00:00 2021-02-25 06:19:46+00:00  Production   \n",
       "37347 2021-02-25 06:16:33+00:00 2021-02-25 06:21:54+00:00  Production   \n",
       "37348 2021-02-25 07:54:46+00:00 2021-02-25 07:56:37+00:00  Production   \n",
       "37301 2021-02-25 07:16:44+00:00 2021-02-25 07:22:22+00:00  Production   \n",
       "32145 2021-02-25 20:03:25+00:00 2021-02-25 20:06:49+00:00  Production   \n",
       "\n",
       "           Seq_Code Recipe_Name Break_Reasons Missing_Ingredients  \\\n",
       "37328  0001 of 0002          X4          None                None   \n",
       "37347  0002 of 0011          E4          None                None   \n",
       "37348  0007 of 0008          G2          None                None   \n",
       "37301  0013 of 0026          A4          None                None   \n",
       "32145  0003 of 0016          R4          None                None   \n",
       "\n",
       "      Kitting_Line   Assembly_Batch         Event_Shift         Team_Leader  \\\n",
       "37328         KL15  Sun-SI Delivery    Thursday Morning  iXUsr_Tafai(10143)   \n",
       "37347          KL7  Sun-SI Delivery    Thursday Morning    iXUsr_Gwen(7292)   \n",
       "37348          KL8  Sun-SI Delivery    Thursday Morning   iXUsr_Desry(7294)   \n",
       "37301          KL2  Sun-SI Delivery    Thursday Morning         LEON JOKOM;   \n",
       "32145         KL14  Sat-NI Delivery  Thursday Afternoon   iXUsr_Meng(10150)   \n",
       "\n",
       "       Pickers_Count  Time_Consumption     Week  \n",
       "37328              3              0.22  2021-09  \n",
       "37347              3              5.35  2021-09  \n",
       "37348              3              1.85  2021-09  \n",
       "37301              3              5.63  2021-09  \n",
       "32145              4              3.40  2021-09  "
      ],
      "text/html": "<div>\n<style scoped>\n    .dataframe tbody tr th:only-of-type {\n        vertical-align: middle;\n    }\n\n    .dataframe tbody tr th {\n        vertical-align: top;\n    }\n\n    .dataframe thead th {\n        text-align: right;\n    }\n</style>\n<table border=\"1\" class=\"dataframe\">\n  <thead>\n    <tr style=\"text-align: right;\">\n      <th></th>\n      <th>Start_Time</th>\n      <th>Finish_Time</th>\n      <th>Activity</th>\n      <th>Seq_Code</th>\n      <th>Recipe_Name</th>\n      <th>Break_Reasons</th>\n      <th>Missing_Ingredients</th>\n      <th>Kitting_Line</th>\n      <th>Assembly_Batch</th>\n      <th>Event_Shift</th>\n      <th>Team_Leader</th>\n      <th>Pickers_Count</th>\n      <th>Time_Consumption</th>\n      <th>Week</th>\n    </tr>\n  </thead>\n  <tbody>\n    <tr>\n      <th>37328</th>\n      <td>2021-02-25 06:19:33+00:00</td>\n      <td>2021-02-25 06:19:46+00:00</td>\n      <td>Production</td>\n      <td>0001 of 0002</td>\n      <td>X4</td>\n      <td>None</td>\n      <td>None</td>\n      <td>KL15</td>\n      <td>Sun-SI Delivery</td>\n      <td>Thursday Morning</td>\n      <td>iXUsr_Tafai(10143)</td>\n      <td>3</td>\n      <td>0.22</td>\n      <td>2021-09</td>\n    </tr>\n    <tr>\n      <th>37347</th>\n      <td>2021-02-25 06:16:33+00:00</td>\n      <td>2021-02-25 06:21:54+00:00</td>\n      <td>Production</td>\n      <td>0002 of 0011</td>\n      <td>E4</td>\n      <td>None</td>\n      <td>None</td>\n      <td>KL7</td>\n      <td>Sun-SI Delivery</td>\n      <td>Thursday Morning</td>\n      <td>iXUsr_Gwen(7292)</td>\n      <td>3</td>\n      <td>5.35</td>\n      <td>2021-09</td>\n    </tr>\n    <tr>\n      <th>37348</th>\n      <td>2021-02-25 07:54:46+00:00</td>\n      <td>2021-02-25 07:56:37+00:00</td>\n      <td>Production</td>\n      <td>0007 of 0008</td>\n      <td>G2</td>\n      <td>None</td>\n      <td>None</td>\n      <td>KL8</td>\n      <td>Sun-SI Delivery</td>\n      <td>Thursday Morning</td>\n      <td>iXUsr_Desry(7294)</td>\n      <td>3</td>\n      <td>1.85</td>\n      <td>2021-09</td>\n    </tr>\n    <tr>\n      <th>37301</th>\n      <td>2021-02-25 07:16:44+00:00</td>\n      <td>2021-02-25 07:22:22+00:00</td>\n      <td>Production</td>\n      <td>0013 of 0026</td>\n      <td>A4</td>\n      <td>None</td>\n      <td>None</td>\n      <td>KL2</td>\n      <td>Sun-SI Delivery</td>\n      <td>Thursday Morning</td>\n      <td>LEON JOKOM;</td>\n      <td>3</td>\n      <td>5.63</td>\n      <td>2021-09</td>\n    </tr>\n    <tr>\n      <th>32145</th>\n      <td>2021-02-25 20:03:25+00:00</td>\n      <td>2021-02-25 20:06:49+00:00</td>\n      <td>Production</td>\n      <td>0003 of 0016</td>\n      <td>R4</td>\n      <td>None</td>\n      <td>None</td>\n      <td>KL14</td>\n      <td>Sat-NI Delivery</td>\n      <td>Thursday Afternoon</td>\n      <td>iXUsr_Meng(10150)</td>\n      <td>4</td>\n      <td>3.40</td>\n      <td>2021-09</td>\n    </tr>\n  </tbody>\n</table>\n</div>"
     },
     "metadata": {},
     "execution_count": 7
    }
   ],
   "source": [
    "data_in_use.sort_values(by=['Week']).tail()"
   ]
  },
  {
   "cell_type": "code",
   "execution_count": 8,
   "metadata": {},
   "outputs": [
    {
     "output_type": "execute_result",
     "data": {
      "text/plain": [
       "(64291, 14)"
      ]
     },
     "metadata": {},
     "execution_count": 8
    }
   ],
   "source": [
    "data_in_use.shape"
   ]
  },
  {
   "cell_type": "code",
   "execution_count": null,
   "metadata": {},
   "outputs": [],
   "source": []
  }
 ]
}