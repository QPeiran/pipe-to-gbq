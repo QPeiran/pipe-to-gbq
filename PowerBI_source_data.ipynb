{
 "metadata": {
  "language_info": {
   "codemirror_mode": {
    "name": "ipython",
    "version": 3
   },
   "file_extension": ".py",
   "mimetype": "text/x-python",
   "name": "python",
   "nbconvert_exporter": "python",
   "pygments_lexer": "ipython3",
   "version": "3.8.6-final"
  },
  "orig_nbformat": 2,
  "kernelspec": {
   "name": "Python 3.8.6 64-bit ('pipe-to-gpq': pipenv)",
   "display_name": "Python 3.8.6 64-bit ('pipe-to-gpq': pipenv)",
   "metadata": {
    "interpreter": {
     "hash": "2cc73edbe6a9987db876ddf9974c5b3c8d863b2585d3ab100eab75e4607f7b36"
    }
   }
  }
 },
 "nbformat": 4,
 "nbformat_minor": 2,
 "cells": [
  {
   "cell_type": "code",
   "execution_count": 1,
   "metadata": {},
   "outputs": [],
   "source": [
    "from google.cloud import bigquery\n",
    "from google.oauth2 import service_account\n",
    "key_path = \"./creds/service_acc_auth.json\"\n",
    "credentials = service_account.Credentials.from_service_account_file(key_path, scopes = [\"https://www.googleapis.com/auth/cloud-platform\"])\n",
    "bigquery_client = bigquery.Client(credentials=credentials, project=credentials.project_id)"
   ]
  },
  {
   "cell_type": "code",
   "execution_count": 2,
   "metadata": {},
   "outputs": [],
   "source": [
    "# query new data <= 1/1\n",
    "union_weeks = \"\"\"\n",
    "SELECT * , \n",
    "FROM `scanning-database.scanning_data_backup.W42`\n",
    "UNION ALL\n",
    "SELECT * , \n",
    "FROM `scanning-database.scanning_data_backup.W43`\n",
    "UNION ALL\n",
    "SELECT * , \n",
    "FROM `scanning-database.scanning_data_backup.W44`\n",
    "UNION ALL\n",
    "SELECT * , \n",
    "FROM `scanning-database.scanning_data_backup.W45`\n",
    "UNION ALL\n",
    "SELECT * , \n",
    "FROM `scanning-database.scanning_data_backup.W46`\n",
    "UNION ALL\n",
    "SELECT * , \n",
    "FROM `scanning-database.scanning_data_backup.W47`\n",
    "UNION ALL\n",
    "SELECT * , \n",
    "FROM `scanning-database.scanning_data_backup.W48`\n",
    "UNION ALL\n",
    "SELECT * , \n",
    "FROM `scanning-database.scanning_data_backup.W49`\n",
    "UNION ALL\n",
    "SELECT * , \n",
    "FROM `scanning-database.scanning_data_backup.W50`\n",
    "UNION ALL\n",
    "SELECT * , \n",
    "FROM `scanning-database.scanning_data_backup.W51`\n",
    "UNION ALL\n",
    "SELECT * , \n",
    "FROM `scanning-database.scanning_data_backup.W52`\n",
    "UNION ALL\n",
    "SELECT * , \n",
    "FROM `scanning-database.scanning_data_backup.W53`\n",
    "\"\"\""
   ]
  },
  {
   "cell_type": "code",
   "execution_count": 3,
   "metadata": {},
   "outputs": [],
   "source": [
    "# Overwriting old PowerBI source data\n",
    "job_config = bigquery.QueryJobConfig(maximum_bytes_billed=10**10,\n",
    "destination = 'scanning-database.PowerBI.PowerBI',\n",
    "write_disposition = bigquery.WriteDisposition.WRITE_TRUNCATE\n",
    ") # set query limit to 10G\n",
    "query_job = bigquery_client.query(union_weeks, job_config)  # API request\n",
    "rows = query_job.result()  # Waits for query to finish\n",
    "data_in_use = rows.to_dataframe()"
   ]
  },
  {
   "cell_type": "code",
   "execution_count": 4,
   "metadata": {
    "tags": []
   },
   "outputs": [
    {
     "output_type": "execute_result",
     "data": {
      "text/plain": [
       "                     Start_Time               Finish_Time    Activity  \\\n",
       "32810 2020-12-24 15:35:44+00:00 2020-12-24 15:36:04+00:00  Production   \n",
       "60904 2020-12-24 10:09:52+00:00 2020-12-24 10:15:17+00:00  Production   \n",
       "32808 2020-12-24 18:59:34+00:00 2020-12-24 18:59:47+00:00  Production   \n",
       "10366 2020-12-27 09:10:22+00:00 2020-12-27 09:13:41+00:00  Production   \n",
       "53158 2020-12-24 07:26:27+00:00 2020-12-24 07:29:43+00:00  Production   \n",
       "\n",
       "           Seq_Code Recipe_Name Break_Reasons Missing_Ingredients  \\\n",
       "32810  0001 of 0001          Q4          None                None   \n",
       "60904  0019 of 0022          D2          None                None   \n",
       "32808  0001 of 0001          U2          None                None   \n",
       "10366  0040 of 0062          C4          None                None   \n",
       "53158  0002 of 0019          H2          None                None   \n",
       "\n",
       "      Kitting_Line     Assembly_Batch         Event_Shift  \\\n",
       "32810          KL9    Sunday Assembly  Thursday Afternoon   \n",
       "60904          KL1  Saturday Assembly    Thursday Morning   \n",
       "32808         KL15    Sunday Assembly  Thursday Afternoon   \n",
       "10366          KL6    Monday Assembly      Sunday Morning   \n",
       "53158         KL11  Saturday Assembly    Thursday Morning   \n",
       "\n",
       "               Team_Leader  Pickers_Count  Time_Consumption     Week  \n",
       "32810    iXUsr_Melia(8310)              1              0.33  2020-53  \n",
       "60904  iXUsr_Siregar(6092)              3              5.42  2020-53  \n",
       "32808    iXUsr_Melia(8310)              1              0.22  2020-53  \n",
       "10366      iXUsr_Yin(9596)              3              3.32  2020-53  \n",
       "53158   iXUsr_Tafai(10143)              3              3.27  2020-53  "
      ],
      "text/html": "<div>\n<style scoped>\n    .dataframe tbody tr th:only-of-type {\n        vertical-align: middle;\n    }\n\n    .dataframe tbody tr th {\n        vertical-align: top;\n    }\n\n    .dataframe thead th {\n        text-align: right;\n    }\n</style>\n<table border=\"1\" class=\"dataframe\">\n  <thead>\n    <tr style=\"text-align: right;\">\n      <th></th>\n      <th>Start_Time</th>\n      <th>Finish_Time</th>\n      <th>Activity</th>\n      <th>Seq_Code</th>\n      <th>Recipe_Name</th>\n      <th>Break_Reasons</th>\n      <th>Missing_Ingredients</th>\n      <th>Kitting_Line</th>\n      <th>Assembly_Batch</th>\n      <th>Event_Shift</th>\n      <th>Team_Leader</th>\n      <th>Pickers_Count</th>\n      <th>Time_Consumption</th>\n      <th>Week</th>\n    </tr>\n  </thead>\n  <tbody>\n    <tr>\n      <th>32810</th>\n      <td>2020-12-24 15:35:44+00:00</td>\n      <td>2020-12-24 15:36:04+00:00</td>\n      <td>Production</td>\n      <td>0001 of 0001</td>\n      <td>Q4</td>\n      <td>None</td>\n      <td>None</td>\n      <td>KL9</td>\n      <td>Sunday Assembly</td>\n      <td>Thursday Afternoon</td>\n      <td>iXUsr_Melia(8310)</td>\n      <td>1</td>\n      <td>0.33</td>\n      <td>2020-53</td>\n    </tr>\n    <tr>\n      <th>60904</th>\n      <td>2020-12-24 10:09:52+00:00</td>\n      <td>2020-12-24 10:15:17+00:00</td>\n      <td>Production</td>\n      <td>0019 of 0022</td>\n      <td>D2</td>\n      <td>None</td>\n      <td>None</td>\n      <td>KL1</td>\n      <td>Saturday Assembly</td>\n      <td>Thursday Morning</td>\n      <td>iXUsr_Siregar(6092)</td>\n      <td>3</td>\n      <td>5.42</td>\n      <td>2020-53</td>\n    </tr>\n    <tr>\n      <th>32808</th>\n      <td>2020-12-24 18:59:34+00:00</td>\n      <td>2020-12-24 18:59:47+00:00</td>\n      <td>Production</td>\n      <td>0001 of 0001</td>\n      <td>U2</td>\n      <td>None</td>\n      <td>None</td>\n      <td>KL15</td>\n      <td>Sunday Assembly</td>\n      <td>Thursday Afternoon</td>\n      <td>iXUsr_Melia(8310)</td>\n      <td>1</td>\n      <td>0.22</td>\n      <td>2020-53</td>\n    </tr>\n    <tr>\n      <th>10366</th>\n      <td>2020-12-27 09:10:22+00:00</td>\n      <td>2020-12-27 09:13:41+00:00</td>\n      <td>Production</td>\n      <td>0040 of 0062</td>\n      <td>C4</td>\n      <td>None</td>\n      <td>None</td>\n      <td>KL6</td>\n      <td>Monday Assembly</td>\n      <td>Sunday Morning</td>\n      <td>iXUsr_Yin(9596)</td>\n      <td>3</td>\n      <td>3.32</td>\n      <td>2020-53</td>\n    </tr>\n    <tr>\n      <th>53158</th>\n      <td>2020-12-24 07:26:27+00:00</td>\n      <td>2020-12-24 07:29:43+00:00</td>\n      <td>Production</td>\n      <td>0002 of 0019</td>\n      <td>H2</td>\n      <td>None</td>\n      <td>None</td>\n      <td>KL11</td>\n      <td>Saturday Assembly</td>\n      <td>Thursday Morning</td>\n      <td>iXUsr_Tafai(10143)</td>\n      <td>3</td>\n      <td>3.27</td>\n      <td>2020-53</td>\n    </tr>\n  </tbody>\n</table>\n</div>"
     },
     "metadata": {},
     "execution_count": 4
    }
   ],
   "source": [
    "data_in_use.sort_values(by=['Week']).tail()"
   ]
  },
  {
   "cell_type": "code",
   "execution_count": 5,
   "metadata": {},
   "outputs": [
    {
     "output_type": "execute_result",
     "data": {
      "text/plain": [
       "(79454, 14)"
      ]
     },
     "metadata": {},
     "execution_count": 5
    }
   ],
   "source": [
    "data_in_use.shape"
   ]
  },
  {
   "cell_type": "code",
   "execution_count": null,
   "metadata": {},
   "outputs": [],
   "source": []
  }
 ]
}