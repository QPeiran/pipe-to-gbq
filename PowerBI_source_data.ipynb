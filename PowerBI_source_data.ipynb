{
 "metadata": {
  "language_info": {
   "codemirror_mode": {
    "name": "ipython",
    "version": 3
   },
   "file_extension": ".py",
   "mimetype": "text/x-python",
   "name": "python",
   "nbconvert_exporter": "python",
   "pygments_lexer": "ipython3",
   "version": "3.8.6-final"
  },
  "orig_nbformat": 2,
  "kernelspec": {
   "name": "Python 3.8.6 64-bit ('pipe-to-gpq': pipenv)",
   "display_name": "Python 3.8.6 64-bit ('pipe-to-gpq': pipenv)",
   "metadata": {
    "interpreter": {
     "hash": "2cc73edbe6a9987db876ddf9974c5b3c8d863b2585d3ab100eab75e4607f7b36"
    }
   }
  }
 },
 "nbformat": 4,
 "nbformat_minor": 2,
 "cells": [
  {
   "cell_type": "code",
   "execution_count": 1,
   "metadata": {},
   "outputs": [],
   "source": [
    "from google.cloud import bigquery\n",
    "from google.oauth2 import service_account\n",
    "key_path = \"./creds/service_acc_auth.json\"\n",
    "credentials = service_account.Credentials.from_service_account_file(key_path, scopes = [\"https://www.googleapis.com/auth/cloud-platform\"])\n",
    "bigquery_client = bigquery.Client(credentials=credentials, project=credentials.project_id)"
   ]
  },
  {
   "cell_type": "code",
   "execution_count": 2,
   "metadata": {},
   "outputs": [],
   "source": [
    "# query new data <= 1/1\n",
    "union_weeks = \"\"\"\n",
    "SELECT * , \n",
    "FROM `scanning-database.scanning_data_backup.W49`\n",
    "UNION ALL\n",
    "SELECT * , \n",
    "FROM `scanning-database.scanning_data_backup.W50`\n",
    "UNION ALL\n",
    "SELECT * , \n",
    "FROM `scanning-database.scanning_data_backup.W51`\n",
    "UNION ALL\n",
    "SELECT * , \n",
    "FROM `scanning-database.scanning_data_backup.W52`\n",
    "UNION ALL\n",
    "SELECT * , \n",
    "FROM `scanning-database.scanning_data_backup.W53`\n",
    "UNION ALL\n",
    "SELECT * , \n",
    "FROM `scanning-database.scanning_data_backup.W01`\n",
    "UNION ALL\n",
    "SELECT * , \n",
    "FROM `scanning-database.scanning_data_backup.W02`\n",
    "UNION ALL\n",
    "SELECT * , \n",
    "FROM `scanning-database.scanning_data_backup.W03`\n",
    "UNION ALL\n",
    "SELECT * , \n",
    "FROM `scanning-database.scanning_data_backup.2021-W04`\n",
    "UNION ALL\n",
    "SELECT * , \n",
    "FROM `scanning-database.scanning_data_backup.2021-W05`\n",
    "UNION ALL\n",
    "SELECT * , \n",
    "FROM `scanning-database.scanning_data_backup.2021-W06`\n",
    "UNION ALL\n",
    "SELECT * , \n",
    "FROM `scanning-database.scanning_data_backup.2021-W07`\n",
    "\"\"\""
   ]
  },
  {
   "cell_type": "code",
   "execution_count": 3,
   "metadata": {},
   "outputs": [],
   "source": [
    "# Overwriting old PowerBI source data\n",
    "job_config = bigquery.QueryJobConfig(maximum_bytes_billed=10**10,\n",
    "destination = 'scanning-database.PowerBI.PowerBI',\n",
    "write_disposition = bigquery.WriteDisposition.WRITE_TRUNCATE\n",
    ") # set query limit to 10G\n",
    "query_job = bigquery_client.query(union_weeks, job_config)  # API request\n",
    "rows = query_job.result()  # Waits for query to finish\n",
    "data_in_use = rows.to_dataframe()"
   ]
  },
  {
   "cell_type": "code",
   "execution_count": 4,
   "metadata": {
    "tags": []
   },
   "outputs": [
    {
     "output_type": "execute_result",
     "data": {
      "text/plain": [
       "                     Start_Time               Finish_Time  \\\n",
       "4922  2021-02-12 09:36:10+00:00 2021-02-12 09:43:08+00:00   \n",
       "4923  2021-02-14 07:55:40+00:00 2021-02-14 08:00:36+00:00   \n",
       "41784 2021-02-14 09:39:37+00:00 2021-02-14 09:43:35+00:00   \n",
       "33924 2021-02-12 18:45:34+00:00 2021-02-12 18:48:21+00:00   \n",
       "31384 2021-02-11 15:58:42+00:00 2021-02-11 16:01:55+00:00   \n",
       "\n",
       "                     Activity      Seq_Code Recipe_Name Break_Reasons  \\\n",
       "4922               Production          None          L4          None   \n",
       "4923   Preparation/Changeover          None          S2          None   \n",
       "41784              Production  0019 of 0074          C2          None   \n",
       "33924              Production  0008 of 0011          V2          None   \n",
       "31384              Production  0027 of 0028          L4          None   \n",
       "\n",
       "      Missing_Ingredients Kitting_Line   Assembly_Batch         Event_Shift  \\\n",
       "4922                 None         KL13             None      Friday Morning   \n",
       "4923                 None         KL18             None      Sunday Morning   \n",
       "41784                None          KL3  Tue-NI Delivery      Sunday Morning   \n",
       "33924                None         KL15  Sun-NI Delivery    Friday Afternoon   \n",
       "31384                None         KL13  Sat-NI Delivery  Thursday Afternoon   \n",
       "\n",
       "                   Team_Leader  Pickers_Count  Time_Consumption     Week  \n",
       "4922          iXUsr_Anne(7488)              3              6.97  2021-07  \n",
       "4923   iXUsr_Kim Jie Yap 7055;              3              4.93  2021-07  \n",
       "41784  iXUsr_Kim Jie Yap 7055;              3              3.97  2021-07  \n",
       "33924             Melanie Dua;              4              2.78  2021-07  \n",
       "31384         iXUsr_Peni(8294)              3              3.22  2021-07  "
      ],
      "text/html": "<div>\n<style scoped>\n    .dataframe tbody tr th:only-of-type {\n        vertical-align: middle;\n    }\n\n    .dataframe tbody tr th {\n        vertical-align: top;\n    }\n\n    .dataframe thead th {\n        text-align: right;\n    }\n</style>\n<table border=\"1\" class=\"dataframe\">\n  <thead>\n    <tr style=\"text-align: right;\">\n      <th></th>\n      <th>Start_Time</th>\n      <th>Finish_Time</th>\n      <th>Activity</th>\n      <th>Seq_Code</th>\n      <th>Recipe_Name</th>\n      <th>Break_Reasons</th>\n      <th>Missing_Ingredients</th>\n      <th>Kitting_Line</th>\n      <th>Assembly_Batch</th>\n      <th>Event_Shift</th>\n      <th>Team_Leader</th>\n      <th>Pickers_Count</th>\n      <th>Time_Consumption</th>\n      <th>Week</th>\n    </tr>\n  </thead>\n  <tbody>\n    <tr>\n      <th>4922</th>\n      <td>2021-02-12 09:36:10+00:00</td>\n      <td>2021-02-12 09:43:08+00:00</td>\n      <td>Production</td>\n      <td>None</td>\n      <td>L4</td>\n      <td>None</td>\n      <td>None</td>\n      <td>KL13</td>\n      <td>None</td>\n      <td>Friday Morning</td>\n      <td>iXUsr_Anne(7488)</td>\n      <td>3</td>\n      <td>6.97</td>\n      <td>2021-07</td>\n    </tr>\n    <tr>\n      <th>4923</th>\n      <td>2021-02-14 07:55:40+00:00</td>\n      <td>2021-02-14 08:00:36+00:00</td>\n      <td>Preparation/Changeover</td>\n      <td>None</td>\n      <td>S2</td>\n      <td>None</td>\n      <td>None</td>\n      <td>KL18</td>\n      <td>None</td>\n      <td>Sunday Morning</td>\n      <td>iXUsr_Kim Jie Yap 7055;</td>\n      <td>3</td>\n      <td>4.93</td>\n      <td>2021-07</td>\n    </tr>\n    <tr>\n      <th>41784</th>\n      <td>2021-02-14 09:39:37+00:00</td>\n      <td>2021-02-14 09:43:35+00:00</td>\n      <td>Production</td>\n      <td>0019 of 0074</td>\n      <td>C2</td>\n      <td>None</td>\n      <td>None</td>\n      <td>KL3</td>\n      <td>Tue-NI Delivery</td>\n      <td>Sunday Morning</td>\n      <td>iXUsr_Kim Jie Yap 7055;</td>\n      <td>3</td>\n      <td>3.97</td>\n      <td>2021-07</td>\n    </tr>\n    <tr>\n      <th>33924</th>\n      <td>2021-02-12 18:45:34+00:00</td>\n      <td>2021-02-12 18:48:21+00:00</td>\n      <td>Production</td>\n      <td>0008 of 0011</td>\n      <td>V2</td>\n      <td>None</td>\n      <td>None</td>\n      <td>KL15</td>\n      <td>Sun-NI Delivery</td>\n      <td>Friday Afternoon</td>\n      <td>Melanie Dua;</td>\n      <td>4</td>\n      <td>2.78</td>\n      <td>2021-07</td>\n    </tr>\n    <tr>\n      <th>31384</th>\n      <td>2021-02-11 15:58:42+00:00</td>\n      <td>2021-02-11 16:01:55+00:00</td>\n      <td>Production</td>\n      <td>0027 of 0028</td>\n      <td>L4</td>\n      <td>None</td>\n      <td>None</td>\n      <td>KL13</td>\n      <td>Sat-NI Delivery</td>\n      <td>Thursday Afternoon</td>\n      <td>iXUsr_Peni(8294)</td>\n      <td>3</td>\n      <td>3.22</td>\n      <td>2021-07</td>\n    </tr>\n  </tbody>\n</table>\n</div>"
     },
     "metadata": {},
     "execution_count": 4
    }
   ],
   "source": [
    "data_in_use.sort_values(by=['Week']).tail()"
   ]
  },
  {
   "cell_type": "code",
   "execution_count": 5,
   "metadata": {},
   "outputs": [
    {
     "output_type": "execute_result",
     "data": {
      "text/plain": [
       "(62770, 14)"
      ]
     },
     "metadata": {},
     "execution_count": 5
    }
   ],
   "source": [
    "data_in_use.shape"
   ]
  },
  {
   "cell_type": "code",
   "execution_count": null,
   "metadata": {},
   "outputs": [],
   "source": []
  }
 ]
}